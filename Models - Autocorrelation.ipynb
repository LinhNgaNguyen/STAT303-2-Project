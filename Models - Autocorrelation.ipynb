{
 "cells": [
  {
   "cell_type": "code",
   "execution_count": 1,
   "id": "81e7064c",
   "metadata": {},
   "outputs": [],
   "source": [
    "#importing libraries\n",
    "import pandas as pd\n",
    "import numpy as np\n",
    "import seaborn as sns\n",
    "import matplotlib.pyplot as plt\n",
    "import statsmodels.formula.api as sm\n",
    "from sklearn.linear_model import Ridge, RidgeCV, Lasso, LassoCV\n",
    "from sklearn.preprocessing import StandardScaler \n",
    "from sklearn.metrics import r2_score\n",
    "from sklearn.model_selection import train_test_split\n",
    "from sklearn.metrics import roc_curve, auc\n",
    "from sklearn.metrics import precision_recall_curve\n",
    "import itertools\n",
    "import time\n",
    "from datetime import datetime"
   ]
  },
  {
   "cell_type": "code",
   "execution_count": 69,
   "id": "e294ee50",
   "metadata": {},
   "outputs": [
    {
     "data": {
      "text/html": [
       "<div>\n",
       "<style scoped>\n",
       "    .dataframe tbody tr th:only-of-type {\n",
       "        vertical-align: middle;\n",
       "    }\n",
       "\n",
       "    .dataframe tbody tr th {\n",
       "        vertical-align: top;\n",
       "    }\n",
       "\n",
       "    .dataframe thead th {\n",
       "        text-align: right;\n",
       "    }\n",
       "</style>\n",
       "<table border=\"1\" class=\"dataframe\">\n",
       "  <thead>\n",
       "    <tr style=\"text-align: right;\">\n",
       "      <th></th>\n",
       "      <th>Booking_ID</th>\n",
       "      <th>no_of_adults</th>\n",
       "      <th>no_of_children</th>\n",
       "      <th>no_of_weekend_nights</th>\n",
       "      <th>no_of_week_nights</th>\n",
       "      <th>type_of_meal_plan</th>\n",
       "      <th>required_car_parking_space</th>\n",
       "      <th>room_type_reserved</th>\n",
       "      <th>lead_time</th>\n",
       "      <th>arrival_year</th>\n",
       "      <th>arrival_month</th>\n",
       "      <th>arrival_date</th>\n",
       "      <th>market_segment_type</th>\n",
       "      <th>repeated_guest</th>\n",
       "      <th>no_of_previous_cancellations</th>\n",
       "      <th>no_of_previous_bookings_not_canceled</th>\n",
       "      <th>avg_price_per_room</th>\n",
       "      <th>no_of_special_requests</th>\n",
       "      <th>booking_status</th>\n",
       "    </tr>\n",
       "  </thead>\n",
       "  <tbody>\n",
       "    <tr>\n",
       "      <th>0</th>\n",
       "      <td>INN00001</td>\n",
       "      <td>2</td>\n",
       "      <td>0</td>\n",
       "      <td>1</td>\n",
       "      <td>2</td>\n",
       "      <td>Meal Plan 1</td>\n",
       "      <td>0</td>\n",
       "      <td>Room_Type 1</td>\n",
       "      <td>224</td>\n",
       "      <td>2017</td>\n",
       "      <td>10</td>\n",
       "      <td>2</td>\n",
       "      <td>Offline</td>\n",
       "      <td>0</td>\n",
       "      <td>0</td>\n",
       "      <td>0</td>\n",
       "      <td>65.00</td>\n",
       "      <td>0</td>\n",
       "      <td>Not_Canceled</td>\n",
       "    </tr>\n",
       "    <tr>\n",
       "      <th>1</th>\n",
       "      <td>INN00002</td>\n",
       "      <td>2</td>\n",
       "      <td>0</td>\n",
       "      <td>2</td>\n",
       "      <td>3</td>\n",
       "      <td>Not Selected</td>\n",
       "      <td>0</td>\n",
       "      <td>Room_Type 1</td>\n",
       "      <td>5</td>\n",
       "      <td>2018</td>\n",
       "      <td>11</td>\n",
       "      <td>6</td>\n",
       "      <td>Online</td>\n",
       "      <td>0</td>\n",
       "      <td>0</td>\n",
       "      <td>0</td>\n",
       "      <td>106.68</td>\n",
       "      <td>1</td>\n",
       "      <td>Not_Canceled</td>\n",
       "    </tr>\n",
       "    <tr>\n",
       "      <th>2</th>\n",
       "      <td>INN00003</td>\n",
       "      <td>1</td>\n",
       "      <td>0</td>\n",
       "      <td>2</td>\n",
       "      <td>1</td>\n",
       "      <td>Meal Plan 1</td>\n",
       "      <td>0</td>\n",
       "      <td>Room_Type 1</td>\n",
       "      <td>1</td>\n",
       "      <td>2018</td>\n",
       "      <td>2</td>\n",
       "      <td>28</td>\n",
       "      <td>Online</td>\n",
       "      <td>0</td>\n",
       "      <td>0</td>\n",
       "      <td>0</td>\n",
       "      <td>60.00</td>\n",
       "      <td>0</td>\n",
       "      <td>Canceled</td>\n",
       "    </tr>\n",
       "    <tr>\n",
       "      <th>3</th>\n",
       "      <td>INN00004</td>\n",
       "      <td>2</td>\n",
       "      <td>0</td>\n",
       "      <td>0</td>\n",
       "      <td>2</td>\n",
       "      <td>Meal Plan 1</td>\n",
       "      <td>0</td>\n",
       "      <td>Room_Type 1</td>\n",
       "      <td>211</td>\n",
       "      <td>2018</td>\n",
       "      <td>5</td>\n",
       "      <td>20</td>\n",
       "      <td>Online</td>\n",
       "      <td>0</td>\n",
       "      <td>0</td>\n",
       "      <td>0</td>\n",
       "      <td>100.00</td>\n",
       "      <td>0</td>\n",
       "      <td>Canceled</td>\n",
       "    </tr>\n",
       "    <tr>\n",
       "      <th>4</th>\n",
       "      <td>INN00005</td>\n",
       "      <td>2</td>\n",
       "      <td>0</td>\n",
       "      <td>1</td>\n",
       "      <td>1</td>\n",
       "      <td>Not Selected</td>\n",
       "      <td>0</td>\n",
       "      <td>Room_Type 1</td>\n",
       "      <td>48</td>\n",
       "      <td>2018</td>\n",
       "      <td>4</td>\n",
       "      <td>11</td>\n",
       "      <td>Online</td>\n",
       "      <td>0</td>\n",
       "      <td>0</td>\n",
       "      <td>0</td>\n",
       "      <td>94.50</td>\n",
       "      <td>0</td>\n",
       "      <td>Canceled</td>\n",
       "    </tr>\n",
       "  </tbody>\n",
       "</table>\n",
       "</div>"
      ],
      "text/plain": [
       "  Booking_ID  no_of_adults  no_of_children  no_of_weekend_nights  \\\n",
       "0   INN00001             2               0                     1   \n",
       "1   INN00002             2               0                     2   \n",
       "2   INN00003             1               0                     2   \n",
       "3   INN00004             2               0                     0   \n",
       "4   INN00005             2               0                     1   \n",
       "\n",
       "   no_of_week_nights type_of_meal_plan  required_car_parking_space  \\\n",
       "0                  2       Meal Plan 1                           0   \n",
       "1                  3      Not Selected                           0   \n",
       "2                  1       Meal Plan 1                           0   \n",
       "3                  2       Meal Plan 1                           0   \n",
       "4                  1      Not Selected                           0   \n",
       "\n",
       "  room_type_reserved  lead_time  arrival_year  arrival_month  arrival_date  \\\n",
       "0        Room_Type 1        224          2017             10             2   \n",
       "1        Room_Type 1          5          2018             11             6   \n",
       "2        Room_Type 1          1          2018              2            28   \n",
       "3        Room_Type 1        211          2018              5            20   \n",
       "4        Room_Type 1         48          2018              4            11   \n",
       "\n",
       "  market_segment_type  repeated_guest  no_of_previous_cancellations  \\\n",
       "0             Offline               0                             0   \n",
       "1              Online               0                             0   \n",
       "2              Online               0                             0   \n",
       "3              Online               0                             0   \n",
       "4              Online               0                             0   \n",
       "\n",
       "   no_of_previous_bookings_not_canceled  avg_price_per_room  \\\n",
       "0                                     0               65.00   \n",
       "1                                     0              106.68   \n",
       "2                                     0               60.00   \n",
       "3                                     0              100.00   \n",
       "4                                     0               94.50   \n",
       "\n",
       "   no_of_special_requests booking_status  \n",
       "0                       0   Not_Canceled  \n",
       "1                       1   Not_Canceled  \n",
       "2                       0       Canceled  \n",
       "3                       0       Canceled  \n",
       "4                       0       Canceled  "
      ]
     },
     "execution_count": 69,
     "metadata": {},
     "output_type": "execute_result"
    }
   ],
   "source": [
    "#reading in data\n",
    "hotels = pd.read_csv('Hotel Reservations.csv')\n",
    "hotels.head()"
   ]
  },
  {
   "cell_type": "code",
   "execution_count": 70,
   "id": "4a7264ce",
   "metadata": {},
   "outputs": [],
   "source": [
    "# Mapping response to 0 (Not Canceled) and 1 (Canceled)\n",
    "hotels['booking_status'].replace(['Canceled', 'Not_Canceled'],[1, 0], inplace=True)"
   ]
  },
  {
   "cell_type": "code",
   "execution_count": 71,
   "id": "6024b1c6",
   "metadata": {},
   "outputs": [
    {
     "data": {
      "text/html": [
       "<div>\n",
       "<style scoped>\n",
       "    .dataframe tbody tr th:only-of-type {\n",
       "        vertical-align: middle;\n",
       "    }\n",
       "\n",
       "    .dataframe tbody tr th {\n",
       "        vertical-align: top;\n",
       "    }\n",
       "\n",
       "    .dataframe thead th {\n",
       "        text-align: right;\n",
       "    }\n",
       "</style>\n",
       "<table border=\"1\" class=\"dataframe\">\n",
       "  <thead>\n",
       "    <tr style=\"text-align: right;\">\n",
       "      <th></th>\n",
       "      <th>Booking_ID</th>\n",
       "      <th>no_of_adults</th>\n",
       "      <th>no_of_children</th>\n",
       "      <th>no_of_weekend_nights</th>\n",
       "      <th>no_of_week_nights</th>\n",
       "      <th>type_of_meal_plan</th>\n",
       "      <th>required_car_parking_space</th>\n",
       "      <th>room_type_reserved</th>\n",
       "      <th>lead_time</th>\n",
       "      <th>arrival_year</th>\n",
       "      <th>arrival_month</th>\n",
       "      <th>arrival_date</th>\n",
       "      <th>market_segment_type</th>\n",
       "      <th>repeated_guest</th>\n",
       "      <th>no_of_previous_cancellations</th>\n",
       "      <th>no_of_previous_bookings_not_canceled</th>\n",
       "      <th>avg_price_per_room</th>\n",
       "      <th>no_of_special_requests</th>\n",
       "      <th>booking_status</th>\n",
       "    </tr>\n",
       "  </thead>\n",
       "  <tbody>\n",
       "    <tr>\n",
       "      <th>0</th>\n",
       "      <td>INN00001</td>\n",
       "      <td>2</td>\n",
       "      <td>0</td>\n",
       "      <td>1</td>\n",
       "      <td>2</td>\n",
       "      <td>Meal Plan 1</td>\n",
       "      <td>0</td>\n",
       "      <td>Room_Type 1</td>\n",
       "      <td>224</td>\n",
       "      <td>2017</td>\n",
       "      <td>10</td>\n",
       "      <td>2</td>\n",
       "      <td>Offline</td>\n",
       "      <td>0</td>\n",
       "      <td>0</td>\n",
       "      <td>0</td>\n",
       "      <td>65.00</td>\n",
       "      <td>0</td>\n",
       "      <td>0</td>\n",
       "    </tr>\n",
       "    <tr>\n",
       "      <th>1</th>\n",
       "      <td>INN00002</td>\n",
       "      <td>2</td>\n",
       "      <td>0</td>\n",
       "      <td>2</td>\n",
       "      <td>3</td>\n",
       "      <td>Not Selected</td>\n",
       "      <td>0</td>\n",
       "      <td>Room_Type 1</td>\n",
       "      <td>5</td>\n",
       "      <td>2018</td>\n",
       "      <td>11</td>\n",
       "      <td>6</td>\n",
       "      <td>Online</td>\n",
       "      <td>0</td>\n",
       "      <td>0</td>\n",
       "      <td>0</td>\n",
       "      <td>106.68</td>\n",
       "      <td>1</td>\n",
       "      <td>0</td>\n",
       "    </tr>\n",
       "    <tr>\n",
       "      <th>2</th>\n",
       "      <td>INN00003</td>\n",
       "      <td>1</td>\n",
       "      <td>0</td>\n",
       "      <td>2</td>\n",
       "      <td>1</td>\n",
       "      <td>Meal Plan 1</td>\n",
       "      <td>0</td>\n",
       "      <td>Room_Type 1</td>\n",
       "      <td>1</td>\n",
       "      <td>2018</td>\n",
       "      <td>2</td>\n",
       "      <td>28</td>\n",
       "      <td>Online</td>\n",
       "      <td>0</td>\n",
       "      <td>0</td>\n",
       "      <td>0</td>\n",
       "      <td>60.00</td>\n",
       "      <td>0</td>\n",
       "      <td>1</td>\n",
       "    </tr>\n",
       "    <tr>\n",
       "      <th>3</th>\n",
       "      <td>INN00004</td>\n",
       "      <td>2</td>\n",
       "      <td>0</td>\n",
       "      <td>0</td>\n",
       "      <td>2</td>\n",
       "      <td>Meal Plan 1</td>\n",
       "      <td>0</td>\n",
       "      <td>Room_Type 1</td>\n",
       "      <td>211</td>\n",
       "      <td>2018</td>\n",
       "      <td>5</td>\n",
       "      <td>20</td>\n",
       "      <td>Online</td>\n",
       "      <td>0</td>\n",
       "      <td>0</td>\n",
       "      <td>0</td>\n",
       "      <td>100.00</td>\n",
       "      <td>0</td>\n",
       "      <td>1</td>\n",
       "    </tr>\n",
       "    <tr>\n",
       "      <th>4</th>\n",
       "      <td>INN00005</td>\n",
       "      <td>2</td>\n",
       "      <td>0</td>\n",
       "      <td>1</td>\n",
       "      <td>1</td>\n",
       "      <td>Not Selected</td>\n",
       "      <td>0</td>\n",
       "      <td>Room_Type 1</td>\n",
       "      <td>48</td>\n",
       "      <td>2018</td>\n",
       "      <td>4</td>\n",
       "      <td>11</td>\n",
       "      <td>Online</td>\n",
       "      <td>0</td>\n",
       "      <td>0</td>\n",
       "      <td>0</td>\n",
       "      <td>94.50</td>\n",
       "      <td>0</td>\n",
       "      <td>1</td>\n",
       "    </tr>\n",
       "  </tbody>\n",
       "</table>\n",
       "</div>"
      ],
      "text/plain": [
       "  Booking_ID  no_of_adults  no_of_children  no_of_weekend_nights  \\\n",
       "0   INN00001             2               0                     1   \n",
       "1   INN00002             2               0                     2   \n",
       "2   INN00003             1               0                     2   \n",
       "3   INN00004             2               0                     0   \n",
       "4   INN00005             2               0                     1   \n",
       "\n",
       "   no_of_week_nights type_of_meal_plan  required_car_parking_space  \\\n",
       "0                  2       Meal Plan 1                           0   \n",
       "1                  3      Not Selected                           0   \n",
       "2                  1       Meal Plan 1                           0   \n",
       "3                  2       Meal Plan 1                           0   \n",
       "4                  1      Not Selected                           0   \n",
       "\n",
       "  room_type_reserved  lead_time  arrival_year  arrival_month  arrival_date  \\\n",
       "0        Room_Type 1        224          2017             10             2   \n",
       "1        Room_Type 1          5          2018             11             6   \n",
       "2        Room_Type 1          1          2018              2            28   \n",
       "3        Room_Type 1        211          2018              5            20   \n",
       "4        Room_Type 1         48          2018              4            11   \n",
       "\n",
       "  market_segment_type  repeated_guest  no_of_previous_cancellations  \\\n",
       "0             Offline               0                             0   \n",
       "1              Online               0                             0   \n",
       "2              Online               0                             0   \n",
       "3              Online               0                             0   \n",
       "4              Online               0                             0   \n",
       "\n",
       "   no_of_previous_bookings_not_canceled  avg_price_per_room  \\\n",
       "0                                     0               65.00   \n",
       "1                                     0              106.68   \n",
       "2                                     0               60.00   \n",
       "3                                     0              100.00   \n",
       "4                                     0               94.50   \n",
       "\n",
       "   no_of_special_requests  booking_status  \n",
       "0                       0               0  \n",
       "1                       1               0  \n",
       "2                       0               1  \n",
       "3                       0               1  \n",
       "4                       0               1  "
      ]
     },
     "execution_count": 71,
     "metadata": {},
     "output_type": "execute_result"
    }
   ],
   "source": [
    "hotels.head()"
   ]
  },
  {
   "cell_type": "code",
   "execution_count": 72,
   "id": "aa3c2a5a",
   "metadata": {},
   "outputs": [],
   "source": [
    "# Split train and test datasets\n",
    "y = hotels.booking_status\n",
    "X = hotels.drop('booking_status', axis = 1)\n",
    "X_train, X_test, y_train, y_test = train_test_split(X, y, test_size=0.25, random_state=0, shuffle=True, stratify=y)\n",
    "train, test = train_test_split(hotels, test_size=0.25, random_state=25, shuffle=True, stratify=y)"
   ]
  },
  {
   "cell_type": "markdown",
   "id": "329f2fd6",
   "metadata": {},
   "source": [
    "# Developing Baseline Model"
   ]
  },
  {
   "cell_type": "code",
   "execution_count": 73,
   "id": "399d840e",
   "metadata": {},
   "outputs": [
    {
     "data": {
      "text/html": [
       "<div>\n",
       "<style scoped>\n",
       "    .dataframe tbody tr th:only-of-type {\n",
       "        vertical-align: middle;\n",
       "    }\n",
       "\n",
       "    .dataframe tbody tr th {\n",
       "        vertical-align: top;\n",
       "    }\n",
       "\n",
       "    .dataframe thead th {\n",
       "        text-align: right;\n",
       "    }\n",
       "</style>\n",
       "<table border=\"1\" class=\"dataframe\">\n",
       "  <thead>\n",
       "    <tr style=\"text-align: right;\">\n",
       "      <th></th>\n",
       "      <th>Booking_ID</th>\n",
       "      <th>no_of_adults</th>\n",
       "      <th>no_of_children</th>\n",
       "      <th>no_of_weekend_nights</th>\n",
       "      <th>no_of_week_nights</th>\n",
       "      <th>type_of_meal_plan</th>\n",
       "      <th>required_car_parking_space</th>\n",
       "      <th>room_type_reserved</th>\n",
       "      <th>lead_time</th>\n",
       "      <th>arrival_year</th>\n",
       "      <th>arrival_month</th>\n",
       "      <th>arrival_date</th>\n",
       "      <th>market_segment_type</th>\n",
       "      <th>repeated_guest</th>\n",
       "      <th>no_of_previous_cancellations</th>\n",
       "      <th>no_of_previous_bookings_not_canceled</th>\n",
       "      <th>avg_price_per_room</th>\n",
       "      <th>no_of_special_requests</th>\n",
       "      <th>booking_status</th>\n",
       "    </tr>\n",
       "  </thead>\n",
       "  <tbody>\n",
       "    <tr>\n",
       "      <th>12547</th>\n",
       "      <td>INN12548</td>\n",
       "      <td>2</td>\n",
       "      <td>0</td>\n",
       "      <td>0</td>\n",
       "      <td>3</td>\n",
       "      <td>Meal Plan 1</td>\n",
       "      <td>0</td>\n",
       "      <td>Room_Type 1</td>\n",
       "      <td>9</td>\n",
       "      <td>2018</td>\n",
       "      <td>4</td>\n",
       "      <td>20</td>\n",
       "      <td>Offline</td>\n",
       "      <td>0</td>\n",
       "      <td>0</td>\n",
       "      <td>0</td>\n",
       "      <td>95.0</td>\n",
       "      <td>0</td>\n",
       "      <td>0</td>\n",
       "    </tr>\n",
       "    <tr>\n",
       "      <th>17799</th>\n",
       "      <td>INN17800</td>\n",
       "      <td>3</td>\n",
       "      <td>0</td>\n",
       "      <td>0</td>\n",
       "      <td>3</td>\n",
       "      <td>Meal Plan 1</td>\n",
       "      <td>0</td>\n",
       "      <td>Room_Type 1</td>\n",
       "      <td>85</td>\n",
       "      <td>2018</td>\n",
       "      <td>12</td>\n",
       "      <td>8</td>\n",
       "      <td>Offline</td>\n",
       "      <td>0</td>\n",
       "      <td>0</td>\n",
       "      <td>0</td>\n",
       "      <td>105.0</td>\n",
       "      <td>0</td>\n",
       "      <td>0</td>\n",
       "    </tr>\n",
       "    <tr>\n",
       "      <th>28038</th>\n",
       "      <td>INN28039</td>\n",
       "      <td>2</td>\n",
       "      <td>0</td>\n",
       "      <td>1</td>\n",
       "      <td>0</td>\n",
       "      <td>Meal Plan 1</td>\n",
       "      <td>0</td>\n",
       "      <td>Room_Type 4</td>\n",
       "      <td>0</td>\n",
       "      <td>2018</td>\n",
       "      <td>8</td>\n",
       "      <td>29</td>\n",
       "      <td>Online</td>\n",
       "      <td>0</td>\n",
       "      <td>0</td>\n",
       "      <td>0</td>\n",
       "      <td>164.0</td>\n",
       "      <td>0</td>\n",
       "      <td>0</td>\n",
       "    </tr>\n",
       "    <tr>\n",
       "      <th>17867</th>\n",
       "      <td>INN17868</td>\n",
       "      <td>1</td>\n",
       "      <td>0</td>\n",
       "      <td>0</td>\n",
       "      <td>1</td>\n",
       "      <td>Not Selected</td>\n",
       "      <td>0</td>\n",
       "      <td>Room_Type 1</td>\n",
       "      <td>35</td>\n",
       "      <td>2018</td>\n",
       "      <td>11</td>\n",
       "      <td>23</td>\n",
       "      <td>Online</td>\n",
       "      <td>0</td>\n",
       "      <td>0</td>\n",
       "      <td>0</td>\n",
       "      <td>88.0</td>\n",
       "      <td>2</td>\n",
       "      <td>0</td>\n",
       "    </tr>\n",
       "    <tr>\n",
       "      <th>32145</th>\n",
       "      <td>INN32146</td>\n",
       "      <td>1</td>\n",
       "      <td>0</td>\n",
       "      <td>0</td>\n",
       "      <td>1</td>\n",
       "      <td>Meal Plan 1</td>\n",
       "      <td>0</td>\n",
       "      <td>Room_Type 1</td>\n",
       "      <td>0</td>\n",
       "      <td>2018</td>\n",
       "      <td>3</td>\n",
       "      <td>16</td>\n",
       "      <td>Corporate</td>\n",
       "      <td>1</td>\n",
       "      <td>1</td>\n",
       "      <td>4</td>\n",
       "      <td>65.0</td>\n",
       "      <td>1</td>\n",
       "      <td>0</td>\n",
       "    </tr>\n",
       "  </tbody>\n",
       "</table>\n",
       "</div>"
      ],
      "text/plain": [
       "      Booking_ID  no_of_adults  no_of_children  no_of_weekend_nights  \\\n",
       "12547   INN12548             2               0                     0   \n",
       "17799   INN17800             3               0                     0   \n",
       "28038   INN28039             2               0                     1   \n",
       "17867   INN17868             1               0                     0   \n",
       "32145   INN32146             1               0                     0   \n",
       "\n",
       "       no_of_week_nights type_of_meal_plan  required_car_parking_space  \\\n",
       "12547                  3       Meal Plan 1                           0   \n",
       "17799                  3       Meal Plan 1                           0   \n",
       "28038                  0       Meal Plan 1                           0   \n",
       "17867                  1      Not Selected                           0   \n",
       "32145                  1       Meal Plan 1                           0   \n",
       "\n",
       "      room_type_reserved  lead_time  arrival_year  arrival_month  \\\n",
       "12547        Room_Type 1          9          2018              4   \n",
       "17799        Room_Type 1         85          2018             12   \n",
       "28038        Room_Type 4          0          2018              8   \n",
       "17867        Room_Type 1         35          2018             11   \n",
       "32145        Room_Type 1          0          2018              3   \n",
       "\n",
       "       arrival_date market_segment_type  repeated_guest  \\\n",
       "12547            20             Offline               0   \n",
       "17799             8             Offline               0   \n",
       "28038            29              Online               0   \n",
       "17867            23              Online               0   \n",
       "32145            16           Corporate               1   \n",
       "\n",
       "       no_of_previous_cancellations  no_of_previous_bookings_not_canceled  \\\n",
       "12547                             0                                     0   \n",
       "17799                             0                                     0   \n",
       "28038                             0                                     0   \n",
       "17867                             0                                     0   \n",
       "32145                             1                                     4   \n",
       "\n",
       "       avg_price_per_room  no_of_special_requests  booking_status  \n",
       "12547                95.0                       0               0  \n",
       "17799               105.0                       0               0  \n",
       "28038               164.0                       0               0  \n",
       "17867                88.0                       2               0  \n",
       "32145                65.0                       1               0  "
      ]
     },
     "execution_count": 73,
     "metadata": {},
     "output_type": "execute_result"
    }
   ],
   "source": [
    "train.head()"
   ]
  },
  {
   "cell_type": "code",
   "execution_count": 126,
   "id": "20942a12",
   "metadata": {},
   "outputs": [
    {
     "name": "stdout",
     "output_type": "stream",
     "text": [
      "Warning: Maximum number of iterations has been exceeded.\n",
      "         Current function value: 0.424982\n",
      "         Iterations: 35\n"
     ]
    },
    {
     "name": "stderr",
     "output_type": "stream",
     "text": [
      "/Users/linhnganguyen/opt/anaconda3/lib/python3.9/site-packages/statsmodels/base/model.py:604: ConvergenceWarning: Maximum Likelihood optimization failed to converge. Check mle_retvals\n",
      "  warnings.warn(\"Maximum Likelihood optimization failed to \"\n"
     ]
    },
    {
     "data": {
      "text/html": [
       "<table class=\"simpletable\">\n",
       "<caption>Logit Regression Results</caption>\n",
       "<tr>\n",
       "  <th>Dep. Variable:</th>    <td>booking_status</td>  <th>  No. Observations:  </th>  <td> 27206</td> \n",
       "</tr>\n",
       "<tr>\n",
       "  <th>Model:</th>                 <td>Logit</td>      <th>  Df Residuals:      </th>  <td> 27179</td> \n",
       "</tr>\n",
       "<tr>\n",
       "  <th>Method:</th>                 <td>MLE</td>       <th>  Df Model:          </th>  <td>    26</td> \n",
       "</tr>\n",
       "<tr>\n",
       "  <th>Date:</th>            <td>Mon, 06 Mar 2023</td> <th>  Pseudo R-squ.:     </th>  <td>0.3281</td> \n",
       "</tr>\n",
       "<tr>\n",
       "  <th>Time:</th>                <td>13:25:01</td>     <th>  Log-Likelihood:    </th> <td> -11562.</td>\n",
       "</tr>\n",
       "<tr>\n",
       "  <th>converged:</th>             <td>False</td>      <th>  LL-Null:           </th> <td> -17208.</td>\n",
       "</tr>\n",
       "<tr>\n",
       "  <th>Covariance Type:</th>     <td>nonrobust</td>    <th>  LLR p-value:       </th>  <td> 0.000</td> \n",
       "</tr>\n",
       "</table>\n",
       "<table class=\"simpletable\">\n",
       "<tr>\n",
       "                    <td></td>                      <th>coef</th>     <th>std err</th>      <th>z</th>      <th>P>|z|</th>  <th>[0.025</th>    <th>0.975]</th>  \n",
       "</tr>\n",
       "<tr>\n",
       "  <th>Intercept</th>                            <td> -844.9969</td> <td>  116.842</td> <td>   -7.232</td> <td> 0.000</td> <td>-1074.003</td> <td> -615.991</td>\n",
       "</tr>\n",
       "<tr>\n",
       "  <th>type_of_meal_plan[T.Meal Plan 2]</th>     <td>    0.2001</td> <td>    0.065</td> <td>    3.083</td> <td> 0.002</td> <td>    0.073</td> <td>    0.327</td>\n",
       "</tr>\n",
       "<tr>\n",
       "  <th>type_of_meal_plan[T.Meal Plan 3]</th>     <td>   16.7072</td> <td> 2886.181</td> <td>    0.006</td> <td> 0.995</td> <td>-5640.104</td> <td> 5673.519</td>\n",
       "</tr>\n",
       "<tr>\n",
       "  <th>type_of_meal_plan[T.Not Selected]</th>    <td>    0.2557</td> <td>    0.051</td> <td>    4.996</td> <td> 0.000</td> <td>    0.155</td> <td>    0.356</td>\n",
       "</tr>\n",
       "<tr>\n",
       "  <th>room_type_reserved[T.Room_Type 2]</th>    <td>   -0.4717</td> <td>    0.130</td> <td>   -3.629</td> <td> 0.000</td> <td>   -0.726</td> <td>   -0.217</td>\n",
       "</tr>\n",
       "<tr>\n",
       "  <th>room_type_reserved[T.Room_Type 3]</th>    <td>   -0.2428</td> <td>    1.361</td> <td>   -0.178</td> <td> 0.858</td> <td>   -2.911</td> <td>    2.426</td>\n",
       "</tr>\n",
       "<tr>\n",
       "  <th>room_type_reserved[T.Room_Type 4]</th>    <td>   -0.2692</td> <td>    0.051</td> <td>   -5.236</td> <td> 0.000</td> <td>   -0.370</td> <td>   -0.168</td>\n",
       "</tr>\n",
       "<tr>\n",
       "  <th>room_type_reserved[T.Room_Type 5]</th>    <td>   -0.6821</td> <td>    0.197</td> <td>   -3.466</td> <td> 0.001</td> <td>   -1.068</td> <td>   -0.296</td>\n",
       "</tr>\n",
       "<tr>\n",
       "  <th>room_type_reserved[T.Room_Type 6]</th>    <td>   -0.9092</td> <td>    0.144</td> <td>   -6.299</td> <td> 0.000</td> <td>   -1.192</td> <td>   -0.626</td>\n",
       "</tr>\n",
       "<tr>\n",
       "  <th>room_type_reserved[T.Room_Type 7]</th>    <td>   -1.3521</td> <td>    0.291</td> <td>   -4.644</td> <td> 0.000</td> <td>   -1.923</td> <td>   -0.781</td>\n",
       "</tr>\n",
       "<tr>\n",
       "  <th>market_segment_type[T.Complementary]</th> <td>  -28.5560</td> <td> 3562.103</td> <td>   -0.008</td> <td> 0.994</td> <td>-7010.149</td> <td> 6953.037</td>\n",
       "</tr>\n",
       "<tr>\n",
       "  <th>market_segment_type[T.Corporate]</th>     <td>   -1.1438</td> <td>    0.256</td> <td>   -4.464</td> <td> 0.000</td> <td>   -1.646</td> <td>   -0.642</td>\n",
       "</tr>\n",
       "<tr>\n",
       "  <th>market_segment_type[T.Offline]</th>       <td>   -2.0718</td> <td>    0.246</td> <td>   -8.432</td> <td> 0.000</td> <td>   -2.553</td> <td>   -1.590</td>\n",
       "</tr>\n",
       "<tr>\n",
       "  <th>market_segment_type[T.Online]</th>        <td>   -0.3039</td> <td>    0.243</td> <td>   -1.253</td> <td> 0.210</td> <td>   -0.779</td> <td>    0.172</td>\n",
       "</tr>\n",
       "<tr>\n",
       "  <th>no_of_adults</th>                         <td>    0.0798</td> <td>    0.037</td> <td>    2.185</td> <td> 0.029</td> <td>    0.008</td> <td>    0.151</td>\n",
       "</tr>\n",
       "<tr>\n",
       "  <th>no_of_children</th>                       <td>    0.1164</td> <td>    0.057</td> <td>    2.047</td> <td> 0.041</td> <td>    0.005</td> <td>    0.228</td>\n",
       "</tr>\n",
       "<tr>\n",
       "  <th>no_of_weekend_nights</th>                 <td>    0.1391</td> <td>    0.019</td> <td>    7.259</td> <td> 0.000</td> <td>    0.102</td> <td>    0.177</td>\n",
       "</tr>\n",
       "<tr>\n",
       "  <th>no_of_week_nights</th>                    <td>    0.0338</td> <td>    0.012</td> <td>    2.856</td> <td> 0.004</td> <td>    0.011</td> <td>    0.057</td>\n",
       "</tr>\n",
       "<tr>\n",
       "  <th>required_car_parking_space</th>           <td>   -1.5129</td> <td>    0.131</td> <td>  -11.512</td> <td> 0.000</td> <td>   -1.770</td> <td>   -1.255</td>\n",
       "</tr>\n",
       "<tr>\n",
       "  <th>lead_time</th>                            <td>    0.0157</td> <td>    0.000</td> <td>   61.042</td> <td> 0.000</td> <td>    0.015</td> <td>    0.016</td>\n",
       "</tr>\n",
       "<tr>\n",
       "  <th>arrival_year</th>                         <td>    0.4175</td> <td>    0.058</td> <td>    7.211</td> <td> 0.000</td> <td>    0.304</td> <td>    0.531</td>\n",
       "</tr>\n",
       "<tr>\n",
       "  <th>arrival_month</th>                        <td>   -0.0420</td> <td>    0.006</td> <td>   -6.718</td> <td> 0.000</td> <td>   -0.054</td> <td>   -0.030</td>\n",
       "</tr>\n",
       "<tr>\n",
       "  <th>arrival_date</th>                         <td>    0.0010</td> <td>    0.002</td> <td>    0.509</td> <td> 0.611</td> <td>   -0.003</td> <td>    0.005</td>\n",
       "</tr>\n",
       "<tr>\n",
       "  <th>repeated_guest</th>                       <td>   -1.7281</td> <td>    0.418</td> <td>   -4.133</td> <td> 0.000</td> <td>   -2.548</td> <td>   -0.909</td>\n",
       "</tr>\n",
       "<tr>\n",
       "  <th>no_of_previous_bookings_not_canceled</th> <td>   -0.0642</td> <td>    0.098</td> <td>   -0.654</td> <td> 0.513</td> <td>   -0.257</td> <td>    0.128</td>\n",
       "</tr>\n",
       "<tr>\n",
       "  <th>avg_price_per_room</th>                   <td>    0.0185</td> <td>    0.001</td> <td>   26.090</td> <td> 0.000</td> <td>    0.017</td> <td>    0.020</td>\n",
       "</tr>\n",
       "<tr>\n",
       "  <th>no_of_special_requests</th>               <td>   -1.4731</td> <td>    0.029</td> <td>  -50.524</td> <td> 0.000</td> <td>   -1.530</td> <td>   -1.416</td>\n",
       "</tr>\n",
       "</table>"
      ],
      "text/plain": [
       "<class 'statsmodels.iolib.summary.Summary'>\n",
       "\"\"\"\n",
       "                           Logit Regression Results                           \n",
       "==============================================================================\n",
       "Dep. Variable:         booking_status   No. Observations:                27206\n",
       "Model:                          Logit   Df Residuals:                    27179\n",
       "Method:                           MLE   Df Model:                           26\n",
       "Date:                Mon, 06 Mar 2023   Pseudo R-squ.:                  0.3281\n",
       "Time:                        13:25:01   Log-Likelihood:                -11562.\n",
       "converged:                      False   LL-Null:                       -17208.\n",
       "Covariance Type:            nonrobust   LLR p-value:                     0.000\n",
       "========================================================================================================\n",
       "                                           coef    std err          z      P>|z|      [0.025      0.975]\n",
       "--------------------------------------------------------------------------------------------------------\n",
       "Intercept                             -844.9969    116.842     -7.232      0.000   -1074.003    -615.991\n",
       "type_of_meal_plan[T.Meal Plan 2]         0.2001      0.065      3.083      0.002       0.073       0.327\n",
       "type_of_meal_plan[T.Meal Plan 3]        16.7072   2886.181      0.006      0.995   -5640.104    5673.519\n",
       "type_of_meal_plan[T.Not Selected]        0.2557      0.051      4.996      0.000       0.155       0.356\n",
       "room_type_reserved[T.Room_Type 2]       -0.4717      0.130     -3.629      0.000      -0.726      -0.217\n",
       "room_type_reserved[T.Room_Type 3]       -0.2428      1.361     -0.178      0.858      -2.911       2.426\n",
       "room_type_reserved[T.Room_Type 4]       -0.2692      0.051     -5.236      0.000      -0.370      -0.168\n",
       "room_type_reserved[T.Room_Type 5]       -0.6821      0.197     -3.466      0.001      -1.068      -0.296\n",
       "room_type_reserved[T.Room_Type 6]       -0.9092      0.144     -6.299      0.000      -1.192      -0.626\n",
       "room_type_reserved[T.Room_Type 7]       -1.3521      0.291     -4.644      0.000      -1.923      -0.781\n",
       "market_segment_type[T.Complementary]   -28.5560   3562.103     -0.008      0.994   -7010.149    6953.037\n",
       "market_segment_type[T.Corporate]        -1.1438      0.256     -4.464      0.000      -1.646      -0.642\n",
       "market_segment_type[T.Offline]          -2.0718      0.246     -8.432      0.000      -2.553      -1.590\n",
       "market_segment_type[T.Online]           -0.3039      0.243     -1.253      0.210      -0.779       0.172\n",
       "no_of_adults                             0.0798      0.037      2.185      0.029       0.008       0.151\n",
       "no_of_children                           0.1164      0.057      2.047      0.041       0.005       0.228\n",
       "no_of_weekend_nights                     0.1391      0.019      7.259      0.000       0.102       0.177\n",
       "no_of_week_nights                        0.0338      0.012      2.856      0.004       0.011       0.057\n",
       "required_car_parking_space              -1.5129      0.131    -11.512      0.000      -1.770      -1.255\n",
       "lead_time                                0.0157      0.000     61.042      0.000       0.015       0.016\n",
       "arrival_year                             0.4175      0.058      7.211      0.000       0.304       0.531\n",
       "arrival_month                           -0.0420      0.006     -6.718      0.000      -0.054      -0.030\n",
       "arrival_date                             0.0010      0.002      0.509      0.611      -0.003       0.005\n",
       "repeated_guest                          -1.7281      0.418     -4.133      0.000      -2.548      -0.909\n",
       "no_of_previous_bookings_not_canceled    -0.0642      0.098     -0.654      0.513      -0.257       0.128\n",
       "avg_price_per_room                       0.0185      0.001     26.090      0.000       0.017       0.020\n",
       "no_of_special_requests                  -1.4731      0.029    -50.524      0.000      -1.530      -1.416\n",
       "========================================================================================================\n",
       "\"\"\""
      ]
     },
     "execution_count": 126,
     "metadata": {},
     "output_type": "execute_result"
    }
   ],
   "source": [
    "#Baseline model\n",
    "baseline_model = sm.logit('booking_status~no_of_adults+no_of_children+no_of_weekend_nights+no_of_week_nights+\\\n",
    "type_of_meal_plan+required_car_parking_space+room_type_reserved+lead_time+arrival_year+\\\n",
    "arrival_month+arrival_date+market_segment_type+repeated_guest+no_of_previous_bookings_not_canceled+\\\n",
    "avg_price_per_room+no_of_special_requests', data = train).fit()\n",
    "baseline_model.summary()"
   ]
  },
  {
   "cell_type": "code",
   "execution_count": 127,
   "id": "443abfe7",
   "metadata": {},
   "outputs": [],
   "source": [
    "#Function to compute confusion matrix and prediction accuracy on test/train data\n",
    "def confusion_matrix_data(data,actual_values,model,cutoff=0.5):\n",
    "#Predict the values using the Logit model\n",
    "    pred_values = model.predict(data)\n",
    "# Specify the bins\n",
    "    bins=np.array([0,cutoff,1])\n",
    "#Confusion matrix\n",
    "    cm = np.histogram2d(actual_values, pred_values, bins=bins)[0]\n",
    "    cm_df = pd.DataFrame(cm)\n",
    "    cm_df.columns = ['Predicted 0','Predicted 1']\n",
    "    cm_df = cm_df.rename(index={0: 'Actual 0',1:'Actual 1'})\n",
    "# Calculate the accuracy\n",
    "    accuracy = (cm[0,0]+cm[1,1])/cm.sum()\n",
    "    fnr = (cm[1,0])/(cm[1,0]+cm[1,1])\n",
    "    precision = (cm[1,1])/(cm[0,1]+cm[1,1])\n",
    "    fpr = (cm[0,1])/(cm[0,0]+cm[0,1])\n",
    "    tpr = (cm[1,1])/(cm[1,0]+cm[1,1])\n",
    "    fpr_roc, tpr_roc, auc_thresholds = roc_curve(actual_values, pred_values)\n",
    "    auc_value = (auc(fpr_roc, tpr_roc))# AUC of ROC\n",
    "    sns.heatmap(cm_df, annot=True, cmap='Blues', fmt='g')\n",
    "    plt.ylabel(\"Actual Values\")\n",
    "    plt.xlabel(\"Predicted Values\")\n",
    "    print(\"Classification accuracy = {:.1%}\".format(accuracy))\n",
    "    print(\"Precision = {:.1%}\".format(precision))\n",
    "    print(\"TPR or Recall = {:.1%}\".format(tpr))\n",
    "    print(\"FNR = {:.1%}\".format(fnr))\n",
    "    print(\"FPR = {:.1%}\".format(fpr))\n",
    "    print(\"ROC-AUC = {:.1%}\".format(auc_value))"
   ]
  },
  {
   "cell_type": "code",
   "execution_count": 128,
   "id": "5fde0cfe",
   "metadata": {},
   "outputs": [],
   "source": [
    "#Function to compute confusion matrix and prediction accuracy on test/train data\n",
    "def confusion_matrix_accuracy(data,actual_values,model,cutoff=0.5):\n",
    "#Predict the values using the Logit model\n",
    "    pred_values = model.predict(data)\n",
    "# Specify the bins\n",
    "    bins=np.array([0,cutoff,1])\n",
    "#Confusion matrix\n",
    "    cm = np.histogram2d(actual_values, pred_values, bins=bins)[0]\n",
    "    cm_df = pd.DataFrame(cm)\n",
    "    cm_df.columns = ['Predicted 0','Predicted 1']\n",
    "    cm_df = cm_df.rename(index={0: 'Actual 0',1:'Actual 1'})\n",
    "# Calculate the accuracy\n",
    "    accuracy = (cm[0,0]+cm[1,1])/cm.sum()\n",
    "    fnr = (cm[1,0])/(cm[1,0]+cm[1,1])\n",
    "    precision = (cm[1,1])/(cm[0,1]+cm[1,1])\n",
    "    fpr = (cm[0,1])/(cm[0,0]+cm[0,1])\n",
    "    tpr = (cm[1,1])/(cm[1,0]+cm[1,1])\n",
    "    fpr_roc, tpr_roc, auc_thresholds = roc_curve(actual_values, pred_values)\n",
    "    auc_value = (auc(fpr_roc, tpr_roc))# AUC of ROC\n",
    "    sns.heatmap(cm_df, annot=True, cmap='Blues', fmt='g')\n",
    "    plt.ylabel(\"Actual Values\")\n",
    "    plt.xlabel(\"Predicted Values\")\n",
    "    return accuracy"
   ]
  },
  {
   "cell_type": "code",
   "execution_count": 129,
   "id": "ddc30dbd",
   "metadata": {},
   "outputs": [
    {
     "name": "stdout",
     "output_type": "stream",
     "text": [
      "0.8070278615011395 0.45\n"
     ]
    },
    {
     "data": {
      "image/png": "[encoded data removed]",
      "text/plain": [
       "<Figure size 640x480 with 36 Axes>"
      ]
     },
     "metadata": {},
     "output_type": "display_data"
    }
   ],
   "source": [
    "#Calculating best model accuracy and best cutoff \n",
    "best_accuracy = 0\n",
    "best_cutoff = None\n",
    "\n",
    "for cutoff in range(35,70):\n",
    "    cutoff = cutoff / 100\n",
    "    accuracy = confusion_matrix_accuracy(train, train.booking_status, baseline_model, cutoff = cutoff)\n",
    "    \n",
    "    if(accuracy >= best_accuracy):\n",
    "        best_accuracy = accuracy\n",
    "        best_cutoff = cutoff\n",
    "        \n",
    "print(best_accuracy, best_cutoff)"
   ]
  },
  {
   "cell_type": "code",
   "execution_count": 130,
   "id": "14622618",
   "metadata": {},
   "outputs": [
    {
     "name": "stdout",
     "output_type": "stream",
     "text": [
      "Classification accuracy = 80.7%\n",
      "Precision = 71.7%\n",
      "TPR or Recall = 67.8%\n",
      "FNR = 32.2%\n",
      "FPR = 13.0%\n",
      "ROC-AUC = 86.3%\n"
     ]
    },
    {
     "data": {
      "image/png": "[encoded data removed]",
      "text/plain": [
       "<Figure size 640x480 with 2 Axes>"
      ]
     },
     "metadata": {},
     "output_type": "display_data"
    }
   ],
   "source": [
    "#matrix for train data\n",
    "confusion_matrix_data(train, train.booking_status, baseline_model, cutoff = best_cutoff)"
   ]
  },
  {
   "cell_type": "code",
   "execution_count": 131,
   "id": "d0773bb6",
   "metadata": {},
   "outputs": [
    {
     "name": "stdout",
     "output_type": "stream",
     "text": [
      "Classification accuracy = 80.9%\n",
      "Precision = 72.1%\n",
      "TPR or Recall = 68.2%\n",
      "FNR = 31.8%\n",
      "FPR = 12.9%\n",
      "ROC-AUC = 86.5%\n"
     ]
    },
    {
     "data": {
      "image/png": "[encoded data removed]",
      "text/plain": [
       "<Figure size 640x480 with 2 Axes>"
      ]
     },
     "metadata": {},
     "output_type": "display_data"
    }
   ],
   "source": [
    "#matrix for test data\n",
    "confusion_matrix_data(test, test.booking_status, baseline_model, cutoff = best_cutoff)"
   ]
  },
  {
   "cell_type": "markdown",
   "id": "a3a967a5",
   "metadata": {},
   "source": [
    "# Dummy Variables"
   ]
  },
  {
   "cell_type": "code",
   "execution_count": 78,
   "id": "10510985",
   "metadata": {},
   "outputs": [],
   "source": [
    "# playing without dummy - use the original data instead of dummy"
   ]
  },
  {
   "cell_type": "code",
   "execution_count": 79,
   "id": "31ea270f",
   "metadata": {},
   "outputs": [
    {
     "data": {
      "text/html": [
       "<div>\n",
       "<style scoped>\n",
       "    .dataframe tbody tr th:only-of-type {\n",
       "        vertical-align: middle;\n",
       "    }\n",
       "\n",
       "    .dataframe tbody tr th {\n",
       "        vertical-align: top;\n",
       "    }\n",
       "\n",
       "    .dataframe thead th {\n",
       "        text-align: right;\n",
       "    }\n",
       "</style>\n",
       "<table border=\"1\" class=\"dataframe\">\n",
       "  <thead>\n",
       "    <tr style=\"text-align: right;\">\n",
       "      <th></th>\n",
       "      <th>Booking_ID</th>\n",
       "      <th>no_of_adults</th>\n",
       "      <th>no_of_children</th>\n",
       "      <th>no_of_weekend_nights</th>\n",
       "      <th>no_of_week_nights</th>\n",
       "      <th>type_of_meal_plan</th>\n",
       "      <th>required_car_parking_space</th>\n",
       "      <th>room_type_reserved</th>\n",
       "      <th>lead_time</th>\n",
       "      <th>arrival_year</th>\n",
       "      <th>...</th>\n",
       "      <th>12</th>\n",
       "      <th>Meal Plan 1</th>\n",
       "      <th>Meal Plan 2</th>\n",
       "      <th>Not Selected</th>\n",
       "      <th>Room_Type 1</th>\n",
       "      <th>Room_Type 2</th>\n",
       "      <th>Room_Type 3</th>\n",
       "      <th>Room_Type 4</th>\n",
       "      <th>Room_Type 5</th>\n",
       "      <th>Room_Type 6</th>\n",
       "    </tr>\n",
       "  </thead>\n",
       "  <tbody>\n",
       "    <tr>\n",
       "      <th>0</th>\n",
       "      <td>INN00001</td>\n",
       "      <td>2</td>\n",
       "      <td>0</td>\n",
       "      <td>1</td>\n",
       "      <td>2</td>\n",
       "      <td>Meal Plan 1</td>\n",
       "      <td>0</td>\n",
       "      <td>Room_Type 1</td>\n",
       "      <td>224</td>\n",
       "      <td>2017</td>\n",
       "      <td>...</td>\n",
       "      <td>0</td>\n",
       "      <td>1</td>\n",
       "      <td>0</td>\n",
       "      <td>0</td>\n",
       "      <td>1</td>\n",
       "      <td>0</td>\n",
       "      <td>0</td>\n",
       "      <td>0</td>\n",
       "      <td>0</td>\n",
       "      <td>0</td>\n",
       "    </tr>\n",
       "    <tr>\n",
       "      <th>1</th>\n",
       "      <td>INN00002</td>\n",
       "      <td>2</td>\n",
       "      <td>0</td>\n",
       "      <td>2</td>\n",
       "      <td>3</td>\n",
       "      <td>Not Selected</td>\n",
       "      <td>0</td>\n",
       "      <td>Room_Type 1</td>\n",
       "      <td>5</td>\n",
       "      <td>2018</td>\n",
       "      <td>...</td>\n",
       "      <td>0</td>\n",
       "      <td>0</td>\n",
       "      <td>0</td>\n",
       "      <td>1</td>\n",
       "      <td>1</td>\n",
       "      <td>0</td>\n",
       "      <td>0</td>\n",
       "      <td>0</td>\n",
       "      <td>0</td>\n",
       "      <td>0</td>\n",
       "    </tr>\n",
       "    <tr>\n",
       "      <th>2</th>\n",
       "      <td>INN00003</td>\n",
       "      <td>1</td>\n",
       "      <td>0</td>\n",
       "      <td>2</td>\n",
       "      <td>1</td>\n",
       "      <td>Meal Plan 1</td>\n",
       "      <td>0</td>\n",
       "      <td>Room_Type 1</td>\n",
       "      <td>1</td>\n",
       "      <td>2018</td>\n",
       "      <td>...</td>\n",
       "      <td>0</td>\n",
       "      <td>1</td>\n",
       "      <td>0</td>\n",
       "      <td>0</td>\n",
       "      <td>1</td>\n",
       "      <td>0</td>\n",
       "      <td>0</td>\n",
       "      <td>0</td>\n",
       "      <td>0</td>\n",
       "      <td>0</td>\n",
       "    </tr>\n",
       "    <tr>\n",
       "      <th>3</th>\n",
       "      <td>INN00004</td>\n",
       "      <td>2</td>\n",
       "      <td>0</td>\n",
       "      <td>0</td>\n",
       "      <td>2</td>\n",
       "      <td>Meal Plan 1</td>\n",
       "      <td>0</td>\n",
       "      <td>Room_Type 1</td>\n",
       "      <td>211</td>\n",
       "      <td>2018</td>\n",
       "      <td>...</td>\n",
       "      <td>0</td>\n",
       "      <td>1</td>\n",
       "      <td>0</td>\n",
       "      <td>0</td>\n",
       "      <td>1</td>\n",
       "      <td>0</td>\n",
       "      <td>0</td>\n",
       "      <td>0</td>\n",
       "      <td>0</td>\n",
       "      <td>0</td>\n",
       "    </tr>\n",
       "    <tr>\n",
       "      <th>4</th>\n",
       "      <td>INN00005</td>\n",
       "      <td>2</td>\n",
       "      <td>0</td>\n",
       "      <td>1</td>\n",
       "      <td>1</td>\n",
       "      <td>Not Selected</td>\n",
       "      <td>0</td>\n",
       "      <td>Room_Type 1</td>\n",
       "      <td>48</td>\n",
       "      <td>2018</td>\n",
       "      <td>...</td>\n",
       "      <td>0</td>\n",
       "      <td>0</td>\n",
       "      <td>0</td>\n",
       "      <td>1</td>\n",
       "      <td>1</td>\n",
       "      <td>0</td>\n",
       "      <td>0</td>\n",
       "      <td>0</td>\n",
       "      <td>0</td>\n",
       "      <td>0</td>\n",
       "    </tr>\n",
       "  </tbody>\n",
       "</table>\n",
       "<p>5 rows × 43 columns</p>\n",
       "</div>"
      ],
      "text/plain": [
       "  Booking_ID  no_of_adults  no_of_children  no_of_weekend_nights  \\\n",
       "0   INN00001             2               0                     1   \n",
       "1   INN00002             2               0                     2   \n",
       "2   INN00003             1               0                     2   \n",
       "3   INN00004             2               0                     0   \n",
       "4   INN00005             2               0                     1   \n",
       "\n",
       "   no_of_week_nights type_of_meal_plan  required_car_parking_space  \\\n",
       "0                  2       Meal Plan 1                           0   \n",
       "1                  3      Not Selected                           0   \n",
       "2                  1       Meal Plan 1                           0   \n",
       "3                  2       Meal Plan 1                           0   \n",
       "4                  1      Not Selected                           0   \n",
       "\n",
       "  room_type_reserved  lead_time  arrival_year  ...  12  Meal Plan 1  \\\n",
       "0        Room_Type 1        224          2017  ...   0            1   \n",
       "1        Room_Type 1          5          2018  ...   0            0   \n",
       "2        Room_Type 1          1          2018  ...   0            1   \n",
       "3        Room_Type 1        211          2018  ...   0            1   \n",
       "4        Room_Type 1         48          2018  ...   0            0   \n",
       "\n",
       "  Meal Plan 2  Not Selected  Room_Type 1  Room_Type 2  Room_Type 3  \\\n",
       "0           0             0            1            0            0   \n",
       "1           0             1            1            0            0   \n",
       "2           0             0            1            0            0   \n",
       "3           0             0            1            0            0   \n",
       "4           0             1            1            0            0   \n",
       "\n",
       "   Room_Type 4  Room_Type 5  Room_Type 6  \n",
       "0            0            0            0  \n",
       "1            0            0            0  \n",
       "2            0            0            0  \n",
       "3            0            0            0  \n",
       "4            0            0            0  \n",
       "\n",
       "[5 rows x 43 columns]"
      ]
     },
     "execution_count": 79,
     "metadata": {},
     "output_type": "execute_result"
    }
   ],
   "source": [
    "# Convert categorical variables to dummies and append to df \n",
    "dummy_market = pd.get_dummies(hotels.market_segment_type)\n",
    "dummy_month = pd.get_dummies(hotels.arrival_month)\n",
    "dummy_meal = pd.get_dummies(hotels.type_of_meal_plan)\n",
    "dummy_room = pd.get_dummies(hotels.room_type_reserved)\n",
    "\n",
    "hotels_dummy = pd.concat([hotels, dummy_market.drop('Aviation', axis = 1), dummy_month.drop(4, axis = 1), dummy_meal.drop('Meal Plan 3', axis = 1), dummy_room.drop('Room_Type 7', axis = 1)], axis = 1)\n",
    "hotels_dummy.columns = hotels_dummy.columns.astype(str)\n",
    "hotels_dummy.head()"
   ]
  },
  {
   "cell_type": "code",
   "execution_count": 80,
   "id": "0e95bc39",
   "metadata": {},
   "outputs": [],
   "source": [
    "# Split train and test datasets with dummies\n",
    "y = hotels_dummy.booking_status\n",
    "X = hotels_dummy.drop('booking_status', axis = 1)\n",
    "X_train, X_test, y_train, y_test = train_test_split(X, y, test_size=0.25, random_state=0, shuffle=True, stratify=y)\n",
    "train, test = train_test_split(hotels_dummy, test_size=0.25, random_state=25, shuffle=True, stratify=y)"
   ]
  },
  {
   "cell_type": "code",
   "execution_count": 81,
   "id": "11cd23e8",
   "metadata": {},
   "outputs": [],
   "source": [
    "#extracting 2017 arrivals\n",
    "svnteen_train = train[train['arrival_year'] == 2017]\n",
    "\n",
    "svnteen_date = svnteen_train.groupby(hotels.arrival_date)\n",
    "#extracting 2018 arrivals \n",
    "eiteen_train = train[train['arrival_year'] == 2018]"
   ]
  },
  {
   "cell_type": "code",
   "execution_count": 82,
   "id": "5a772965",
   "metadata": {},
   "outputs": [
    {
     "name": "stdout",
     "output_type": "stream",
     "text": [
      "Optimization terminated successfully.\n",
      "         Current function value: 0.466740\n",
      "         Iterations 11\n"
     ]
    },
    {
     "data": {
      "text/html": [
       "<table class=\"simpletable\">\n",
       "<caption>Logit Regression Results</caption>\n",
       "<tr>\n",
       "  <th>Dep. Variable:</th>    <td>booking_status</td>  <th>  No. Observations:  </th>  <td> 27206</td> \n",
       "</tr>\n",
       "<tr>\n",
       "  <th>Model:</th>                 <td>Logit</td>      <th>  Df Residuals:      </th>  <td> 27192</td> \n",
       "</tr>\n",
       "<tr>\n",
       "  <th>Method:</th>                 <td>MLE</td>       <th>  Df Model:          </th>  <td>    13</td> \n",
       "</tr>\n",
       "<tr>\n",
       "  <th>Date:</th>            <td>Mon, 06 Mar 2023</td> <th>  Pseudo R-squ.:     </th>  <td>0.2621</td> \n",
       "</tr>\n",
       "<tr>\n",
       "  <th>Time:</th>                <td>12:57:36</td>     <th>  Log-Likelihood:    </th> <td> -12698.</td>\n",
       "</tr>\n",
       "<tr>\n",
       "  <th>converged:</th>             <td>True</td>       <th>  LL-Null:           </th> <td> -17208.</td>\n",
       "</tr>\n",
       "<tr>\n",
       "  <th>Covariance Type:</th>     <td>nonrobust</td>    <th>  LLR p-value:       </th>  <td> 0.000</td> \n",
       "</tr>\n",
       "</table>\n",
       "<table class=\"simpletable\">\n",
       "<tr>\n",
       "                                  <td></td>                                     <th>coef</th>     <th>std err</th>      <th>z</th>      <th>P>|z|</th>  <th>[0.025</th>    <th>0.975]</th>  \n",
       "</tr>\n",
       "<tr>\n",
       "  <th>Intercept</th>                                                         <td>   -5.3078</td> <td>    0.219</td> <td>  -24.260</td> <td> 0.000</td> <td>   -5.737</td> <td>   -4.879</td>\n",
       "</tr>\n",
       "<tr>\n",
       "  <th>no_of_special_requests</th>                                            <td>   -1.1114</td> <td>    0.025</td> <td>  -43.971</td> <td> 0.000</td> <td>   -1.161</td> <td>   -1.062</td>\n",
       "</tr>\n",
       "<tr>\n",
       "  <th>lead_time</th>                                                         <td>    0.0128</td> <td>    0.000</td> <td>   60.957</td> <td> 0.000</td> <td>    0.012</td> <td>    0.013</td>\n",
       "</tr>\n",
       "<tr>\n",
       "  <th>no_of_weekend_nights</th>                                              <td>    0.0570</td> <td>    0.029</td> <td>    1.957</td> <td> 0.050</td> <td>-7.46e-05</td> <td>    0.114</td>\n",
       "</tr>\n",
       "<tr>\n",
       "  <th>no_of_week_nights</th>                                                 <td>   -0.0403</td> <td>    0.018</td> <td>   -2.266</td> <td> 0.023</td> <td>   -0.075</td> <td>   -0.005</td>\n",
       "</tr>\n",
       "<tr>\n",
       "  <th>no_of_weekend_nights:no_of_week_nights</th>                            <td>    0.0514</td> <td>    0.008</td> <td>    6.391</td> <td> 0.000</td> <td>    0.036</td> <td>    0.067</td>\n",
       "</tr>\n",
       "<tr>\n",
       "  <th>no_of_previous_cancellations</th>                                      <td>   -0.0281</td> <td>    0.076</td> <td>   -0.372</td> <td> 0.710</td> <td>   -0.177</td> <td>    0.120</td>\n",
       "</tr>\n",
       "<tr>\n",
       "  <th>no_of_previous_bookings_not_canceled</th>                              <td>   -0.8272</td> <td>    0.232</td> <td>   -3.572</td> <td> 0.000</td> <td>   -1.281</td> <td>   -0.373</td>\n",
       "</tr>\n",
       "<tr>\n",
       "  <th>no_of_previous_cancellations:no_of_previous_bookings_not_canceled</th> <td>    0.0699</td> <td>    0.025</td> <td>    2.810</td> <td> 0.005</td> <td>    0.021</td> <td>    0.119</td>\n",
       "</tr>\n",
       "<tr>\n",
       "  <th>avg_price_per_room</th>                                                <td>    0.0327</td> <td>    0.002</td> <td>   17.493</td> <td> 0.000</td> <td>    0.029</td> <td>    0.036</td>\n",
       "</tr>\n",
       "<tr>\n",
       "  <th>no_of_adults</th>                                                      <td>    0.9525</td> <td>    0.108</td> <td>    8.789</td> <td> 0.000</td> <td>    0.740</td> <td>    1.165</td>\n",
       "</tr>\n",
       "<tr>\n",
       "  <th>avg_price_per_room:no_of_adults</th>                                   <td>   -0.0065</td> <td>    0.001</td> <td>   -7.368</td> <td> 0.000</td> <td>   -0.008</td> <td>   -0.005</td>\n",
       "</tr>\n",
       "<tr>\n",
       "  <th>no_of_children</th>                                                    <td>    0.7450</td> <td>    0.116</td> <td>    6.421</td> <td> 0.000</td> <td>    0.518</td> <td>    0.972</td>\n",
       "</tr>\n",
       "<tr>\n",
       "  <th>avg_price_per_room:no_of_children</th>                                 <td>   -0.0050</td> <td>    0.001</td> <td>   -6.921</td> <td> 0.000</td> <td>   -0.006</td> <td>   -0.004</td>\n",
       "</tr>\n",
       "</table>"
      ],
      "text/plain": [
       "<class 'statsmodels.iolib.summary.Summary'>\n",
       "\"\"\"\n",
       "                           Logit Regression Results                           \n",
       "==============================================================================\n",
       "Dep. Variable:         booking_status   No. Observations:                27206\n",
       "Model:                          Logit   Df Residuals:                    27192\n",
       "Method:                           MLE   Df Model:                           13\n",
       "Date:                Mon, 06 Mar 2023   Pseudo R-squ.:                  0.2621\n",
       "Time:                        12:57:36   Log-Likelihood:                -12698.\n",
       "converged:                       True   LL-Null:                       -17208.\n",
       "Covariance Type:            nonrobust   LLR p-value:                     0.000\n",
       "=====================================================================================================================================\n",
       "                                                                        coef    std err          z      P>|z|      [0.025      0.975]\n",
       "-------------------------------------------------------------------------------------------------------------------------------------\n",
       "Intercept                                                            -5.3078      0.219    -24.260      0.000      -5.737      -4.879\n",
       "no_of_special_requests                                               -1.1114      0.025    -43.971      0.000      -1.161      -1.062\n",
       "lead_time                                                             0.0128      0.000     60.957      0.000       0.012       0.013\n",
       "no_of_weekend_nights                                                  0.0570      0.029      1.957      0.050   -7.46e-05       0.114\n",
       "no_of_week_nights                                                    -0.0403      0.018     -2.266      0.023      -0.075      -0.005\n",
       "no_of_weekend_nights:no_of_week_nights                                0.0514      0.008      6.391      0.000       0.036       0.067\n",
       "no_of_previous_cancellations                                         -0.0281      0.076     -0.372      0.710      -0.177       0.120\n",
       "no_of_previous_bookings_not_canceled                                 -0.8272      0.232     -3.572      0.000      -1.281      -0.373\n",
       "no_of_previous_cancellations:no_of_previous_bookings_not_canceled     0.0699      0.025      2.810      0.005       0.021       0.119\n",
       "avg_price_per_room                                                    0.0327      0.002     17.493      0.000       0.029       0.036\n",
       "no_of_adults                                                          0.9525      0.108      8.789      0.000       0.740       1.165\n",
       "avg_price_per_room:no_of_adults                                      -0.0065      0.001     -7.368      0.000      -0.008      -0.005\n",
       "no_of_children                                                        0.7450      0.116      6.421      0.000       0.518       0.972\n",
       "avg_price_per_room:no_of_children                                    -0.0050      0.001     -6.921      0.000      -0.006      -0.004\n",
       "=====================================================================================================================================\n",
       "\"\"\""
      ]
     },
     "execution_count": 82,
     "metadata": {},
     "output_type": "execute_result"
    }
   ],
   "source": [
    "# Logistic regression model with dummy variables \n",
    "logit_model = sm.logit('booking_status~no_of_special_requests+lead_time+no_of_weekend_nights+\\\n",
    "no_of_weekend_nights*no_of_week_nights+no_of_previous_cancellations+\\\n",
    "no_of_previous_cancellations*no_of_previous_bookings_not_canceled+\\\n",
    "avg_price_per_room+avg_price_per_room*no_of_adults+avg_price_per_room*no_of_children', data = train).fit()\n",
    "logit_model.summary()"
   ]
  },
  {
   "cell_type": "code",
   "execution_count": 83,
   "id": "c288ef92",
   "metadata": {},
   "outputs": [
    {
     "data": {
      "text/plain": [
       "24137    0.078707\n",
       "11973    0.087020\n",
       "31685    0.104457\n",
       "6664     0.296757\n",
       "219      0.363072\n",
       "           ...   \n",
       "31365    0.790247\n",
       "13425    0.500221\n",
       "31046    0.826509\n",
       "6397     0.032906\n",
       "4824     0.323806\n",
       "Length: 4874, dtype: float64"
      ]
     },
     "execution_count": 83,
     "metadata": {},
     "output_type": "execute_result"
    }
   ],
   "source": [
    "predictions_17 = logit_model.predict(svnteen_train)\n",
    "#predictions_17 = (predictions_17>best_cutoff).astype(int)\n",
    "predictions_17"
   ]
  },
  {
   "cell_type": "code",
   "execution_count": 84,
   "id": "69246fba",
   "metadata": {},
   "outputs": [
    {
     "data": {
      "text/plain": [
       "<AxesSubplot:ylabel='booking_status'>"
      ]
     },
     "execution_count": 84,
     "metadata": {},
     "output_type": "execute_result"
    },
    {
     "data": {
      "image/png": "[encoded data removed]",
      "text/plain": [
       "<Figure size 640x480 with 1 Axes>"
      ]
     },
     "metadata": {},
     "output_type": "display_data"
    }
   ],
   "source": [
    "sns.scatterplot(x=predictions_17, y=svnteen_train.booking_status, color=\"orange\")\n",
    "#I really think I'm graphing this wrong or approaching this the wrong way\n",
    "#Next steps: graph time on X and residuals on y... but does graphing residuals of a binary response make sense??"
   ]
  },
  {
   "cell_type": "code",
   "execution_count": 85,
   "id": "008de556",
   "metadata": {},
   "outputs": [],
   "source": [
    "cols=[hotels.arrival_year, hotels.arrival_month, hotels.arrival_date]\n",
    "hotels['date'] = hotels.apply(lambda x: str(x.arrival_year) + \"-\" + str(x.arrival_month) + \"-\" + str(x.arrival_date), axis=\"columns\")\n",
    "hotels['date']=pd.to_datetime(hotels['date'], infer_datetime_format = True, errors=\"coerce\")"
   ]
  },
  {
   "cell_type": "markdown",
   "id": "4cca354d",
   "metadata": {},
   "source": [
    "# Autocorrelation attempts\n",
    "\n",
    "Since logistic regression does not utilize residuals, we cannot really use autocorrelation. However, there might be some correlation between month with the number of cancellation, so we attempted to look into that relationship.\n",
    "\n",
    "First, I want to look at the different months and see number of overall booking as well as the number of cancellation for each month"
   ]
  },
  {
   "cell_type": "code",
   "execution_count": 86,
   "id": "2e29b2cb",
   "metadata": {},
   "outputs": [
    {
     "data": {
      "text/plain": [
       "arrival_month  booking_status\n",
       "1              0                  990\n",
       "               1                   24\n",
       "2              0                 1274\n",
       "               1                  430\n",
       "3              0                 1658\n",
       "               1                  700\n",
       "4              0                 1741\n",
       "               1                  995\n",
       "5              0                 1650\n",
       "               1                  948\n",
       "6              0                 1912\n",
       "               1                 1291\n",
       "7              0                 1606\n",
       "               1                 1314\n",
       "8              0                 2325\n",
       "               1                 1488\n",
       "9              0                 3073\n",
       "               1                 1538\n",
       "10             0                 3437\n",
       "               1                 1880\n",
       "11             0                 2105\n",
       "               1                  875\n",
       "12             0                 2619\n",
       "               1                  402\n",
       "Name: booking_status, dtype: int64"
      ]
     },
     "execution_count": 86,
     "metadata": {},
     "output_type": "execute_result"
    }
   ],
   "source": [
    "monthly_cancel = hotels.groupby(hotels.arrival_month).booking_status.value_counts()\n",
    "monthly_cancel"
   ]
  },
  {
   "cell_type": "code",
   "execution_count": 107,
   "id": "a8f3afb4",
   "metadata": {},
   "outputs": [
    {
     "data": {
      "text/html": [
       "<div>\n",
       "<style scoped>\n",
       "    .dataframe tbody tr th:only-of-type {\n",
       "        vertical-align: middle;\n",
       "    }\n",
       "\n",
       "    .dataframe tbody tr th {\n",
       "        vertical-align: top;\n",
       "    }\n",
       "\n",
       "    .dataframe thead th {\n",
       "        text-align: right;\n",
       "    }\n",
       "</style>\n",
       "<table border=\"1\" class=\"dataframe\">\n",
       "  <thead>\n",
       "    <tr style=\"text-align: right;\">\n",
       "      <th></th>\n",
       "      <th>Did not cancel</th>\n",
       "      <th>Cancelled</th>\n",
       "    </tr>\n",
       "  </thead>\n",
       "  <tbody>\n",
       "    <tr>\n",
       "      <th>Jan</th>\n",
       "      <td>990</td>\n",
       "      <td>24</td>\n",
       "    </tr>\n",
       "    <tr>\n",
       "      <th>Feb</th>\n",
       "      <td>1274</td>\n",
       "      <td>430</td>\n",
       "    </tr>\n",
       "    <tr>\n",
       "      <th>Mar</th>\n",
       "      <td>1658</td>\n",
       "      <td>700</td>\n",
       "    </tr>\n",
       "    <tr>\n",
       "      <th>Apr</th>\n",
       "      <td>1741</td>\n",
       "      <td>995</td>\n",
       "    </tr>\n",
       "    <tr>\n",
       "      <th>May</th>\n",
       "      <td>1650</td>\n",
       "      <td>948</td>\n",
       "    </tr>\n",
       "    <tr>\n",
       "      <th>Jun</th>\n",
       "      <td>1912</td>\n",
       "      <td>1291</td>\n",
       "    </tr>\n",
       "    <tr>\n",
       "      <th>Jul</th>\n",
       "      <td>1606</td>\n",
       "      <td>1314</td>\n",
       "    </tr>\n",
       "    <tr>\n",
       "      <th>Aug</th>\n",
       "      <td>2325</td>\n",
       "      <td>1488</td>\n",
       "    </tr>\n",
       "    <tr>\n",
       "      <th>Sept</th>\n",
       "      <td>3073</td>\n",
       "      <td>1538</td>\n",
       "    </tr>\n",
       "    <tr>\n",
       "      <th>Oct</th>\n",
       "      <td>3437</td>\n",
       "      <td>1880</td>\n",
       "    </tr>\n",
       "    <tr>\n",
       "      <th>Nov</th>\n",
       "      <td>2105</td>\n",
       "      <td>875</td>\n",
       "    </tr>\n",
       "    <tr>\n",
       "      <th>Dec</th>\n",
       "      <td>2619</td>\n",
       "      <td>402</td>\n",
       "    </tr>\n",
       "  </tbody>\n",
       "</table>\n",
       "</div>"
      ],
      "text/plain": [
       "      Did not cancel  Cancelled\n",
       "Jan              990         24\n",
       "Feb             1274        430\n",
       "Mar             1658        700\n",
       "Apr             1741        995\n",
       "May             1650        948\n",
       "Jun             1912       1291\n",
       "Jul             1606       1314\n",
       "Aug             2325       1488\n",
       "Sept            3073       1538\n",
       "Oct             3437       1880\n",
       "Nov             2105        875\n",
       "Dec             2619        402"
      ]
     },
     "execution_count": 107,
     "metadata": {},
     "output_type": "execute_result"
    }
   ],
   "source": [
    "# create DataFrame\n",
    "monthly_cancel = pd.DataFrame({'Did not cancel': [990, 1274, 1658, 1741, 1650, 1912, 1606, 2325, 3073, 3437, 2105, 2619],\n",
    "                   'Cancelled': [24, 430, 700, 995, 948, 1291, 1314, 1488, 1538, 1880, 875, 402]}, \n",
    "                  index=['Jan', 'Feb', 'Mar', 'Apr', 'May', 'Jun', 'Jul', 'Aug', 'Sept', 'Oct', 'Nov', 'Dec'])\n",
    "monthly_cancel"
   ]
  },
  {
   "cell_type": "code",
   "execution_count": 108,
   "id": "61ff32c5",
   "metadata": {},
   "outputs": [
    {
     "data": {
      "image/png": "[encoded data removed]",
      "text/plain": [
       "<Figure size 640x480 with 1 Axes>"
      ]
     },
     "metadata": {},
     "output_type": "display_data"
    }
   ],
   "source": [
    "monthly_cancel.plot(kind='bar', stacked=True, color=['purple', 'skyblue'])\n",
    "plt.ylabel(\"Reservation Count\")\n",
    "plt.title(\"Reservation based on month\")\n",
    "plt.show()"
   ]
  },
  {
   "cell_type": "markdown",
   "id": "867029a2",
   "metadata": {},
   "source": [
    "We can see that there are more hotel booking around August, September, and October. One way that we can explain this is that INN hotels is a decently cheap hotel and late August to mid October is pretty cheap off-season travel time so many people who want to save money will choose to travel during this time. However, this graph does not help us visualize the rate of cancellation for each month. Therefore I choose create another graph that shows the percentage of cancellation for each month."
   ]
  },
  {
   "cell_type": "code",
   "execution_count": 109,
   "id": "5ceba362",
   "metadata": {},
   "outputs": [
    {
     "data": {
      "text/html": [
       "<div>\n",
       "<style scoped>\n",
       "    .dataframe tbody tr th:only-of-type {\n",
       "        vertical-align: middle;\n",
       "    }\n",
       "\n",
       "    .dataframe tbody tr th {\n",
       "        vertical-align: top;\n",
       "    }\n",
       "\n",
       "    .dataframe thead th {\n",
       "        text-align: right;\n",
       "    }\n",
       "</style>\n",
       "<table border=\"1\" class=\"dataframe\">\n",
       "  <thead>\n",
       "    <tr style=\"text-align: right;\">\n",
       "      <th></th>\n",
       "      <th>Did not cancel percent</th>\n",
       "      <th>Cancel percent</th>\n",
       "    </tr>\n",
       "  </thead>\n",
       "  <tbody>\n",
       "    <tr>\n",
       "      <th>Jan</th>\n",
       "      <td>0.976331</td>\n",
       "      <td>0.023669</td>\n",
       "    </tr>\n",
       "    <tr>\n",
       "      <th>Feb</th>\n",
       "      <td>0.747653</td>\n",
       "      <td>0.252347</td>\n",
       "    </tr>\n",
       "    <tr>\n",
       "      <th>Mar</th>\n",
       "      <td>0.703138</td>\n",
       "      <td>0.296862</td>\n",
       "    </tr>\n",
       "    <tr>\n",
       "      <th>Apr</th>\n",
       "      <td>0.636330</td>\n",
       "      <td>0.363670</td>\n",
       "    </tr>\n",
       "    <tr>\n",
       "      <th>May</th>\n",
       "      <td>0.635104</td>\n",
       "      <td>0.364896</td>\n",
       "    </tr>\n",
       "  </tbody>\n",
       "</table>\n",
       "</div>"
      ],
      "text/plain": [
       "     Did not cancel percent  Cancel percent\n",
       "Jan                0.976331        0.023669\n",
       "Feb                0.747653        0.252347\n",
       "Mar                0.703138        0.296862\n",
       "Apr                0.636330        0.363670\n",
       "May                0.635104        0.364896"
      ]
     },
     "execution_count": 109,
     "metadata": {},
     "output_type": "execute_result"
    }
   ],
   "source": [
    "monthly_cancel_percent = monthly_cancel.copy()\n",
    "monthly_cancel_percent['Total'] = monthly_cancel_percent['Did not cancel'] + monthly_cancel_percent['Cancelled']\n",
    "monthly_cancel_percent['Did not cancel percent'] = monthly_cancel_percent['Did not cancel']/monthly_cancel_percent['Total']\n",
    "monthly_cancel_percent['Cancel percent'] = monthly_cancel_percent['Cancelled']/monthly_cancel_percent['Total']\n",
    "monthly_cancel_percent = monthly_cancel_percent.drop(['Did not cancel', 'Cancelled', 'Total'], axis = 1)\n",
    "monthly_cancel_percent.head()"
   ]
  },
  {
   "cell_type": "code",
   "execution_count": 110,
   "id": "f4a1b2e3",
   "metadata": {},
   "outputs": [
    {
     "data": {
      "image/png": "[encoded data removed]",
      "text/plain": [
       "<Figure size 640x480 with 1 Axes>"
      ]
     },
     "metadata": {},
     "output_type": "display_data"
    }
   ],
   "source": [
    "monthly_cancel_percent.plot(kind='bar', stacked=True, color=['purple', 'skyblue'])\n",
    "plt.ylabel(\"Percentage\")\n",
    "plt.title('Cancellation percentage based on month')\n",
    "sns.set_palette('pastel')\n",
    "plt.show()"
   ]
  },
  {
   "cell_type": "markdown",
   "id": "91a111ca",
   "metadata": {},
   "source": [
    "All of the months have a relatively similar rate of cancellation with the exception of January and December. July has a slightly higher rate of cancellation, but I don't think that it is too significant. Therefore, we can conclude that generally, even though there is a correlation between the totally number of reservations and the month of the year, there seems to be no correlation between the percentage of cancellation. "
   ]
  },
  {
   "cell_type": "code",
   "execution_count": 91,
   "id": "45152ec1",
   "metadata": {},
   "outputs": [
    {
     "data": {
      "text/plain": [
       "booking_status                          1.000000\n",
       "lead_time                               0.438538\n",
       "arrival_year                            0.179529\n",
       "avg_price_per_room                      0.142569\n",
       "no_of_week_nights                       0.092996\n",
       "no_of_adults                            0.086920\n",
       "no_of_weekend_nights                    0.061563\n",
       "no_of_children                          0.033078\n",
       "arrival_date                            0.010629\n",
       "arrival_month                          -0.011233\n",
       "no_of_previous_cancellations           -0.033728\n",
       "no_of_previous_bookings_not_canceled   -0.060179\n",
       "required_car_parking_space             -0.086185\n",
       "repeated_guest                         -0.107287\n",
       "no_of_special_requests                 -0.253070\n",
       "dtype: float64"
      ]
     },
     "execution_count": 91,
     "metadata": {},
     "output_type": "execute_result"
    }
   ],
   "source": [
    "hotels.corrwith(hotels.booking_status).sort_values(ascending = False)"
   ]
  },
  {
   "cell_type": "markdown",
   "id": "301609f8",
   "metadata": {},
   "source": [
    "Since there are too many variables for me to even run forward or backward selection on my computer. I want to manually knockdown a few of the predictors. First I tried to just choose predictors that have a correlation with booking_status higher than 0.10"
   ]
  },
  {
   "cell_type": "code",
   "execution_count": 92,
   "id": "78164eac",
   "metadata": {},
   "outputs": [
    {
     "name": "stdout",
     "output_type": "stream",
     "text": [
      "Optimization terminated successfully.\n",
      "         Current function value: 0.464815\n",
      "         Iterations 10\n"
     ]
    },
    {
     "data": {
      "text/html": [
       "<table class=\"simpletable\">\n",
       "<caption>Logit Regression Results</caption>\n",
       "<tr>\n",
       "  <th>Dep. Variable:</th>    <td>booking_status</td>  <th>  No. Observations:  </th>  <td> 27206</td> \n",
       "</tr>\n",
       "<tr>\n",
       "  <th>Model:</th>                 <td>Logit</td>      <th>  Df Residuals:      </th>  <td> 27200</td> \n",
       "</tr>\n",
       "<tr>\n",
       "  <th>Method:</th>                 <td>MLE</td>       <th>  Df Model:          </th>  <td>     5</td> \n",
       "</tr>\n",
       "<tr>\n",
       "  <th>Date:</th>            <td>Mon, 06 Mar 2023</td> <th>  Pseudo R-squ.:     </th>  <td>0.2651</td> \n",
       "</tr>\n",
       "<tr>\n",
       "  <th>Time:</th>                <td>12:57:39</td>     <th>  Log-Likelihood:    </th> <td> -12646.</td>\n",
       "</tr>\n",
       "<tr>\n",
       "  <th>converged:</th>             <td>True</td>       <th>  LL-Null:           </th> <td> -17208.</td>\n",
       "</tr>\n",
       "<tr>\n",
       "  <th>Covariance Type:</th>     <td>nonrobust</td>    <th>  LLR p-value:       </th>  <td> 0.000</td> \n",
       "</tr>\n",
       "</table>\n",
       "<table class=\"simpletable\">\n",
       "<tr>\n",
       "             <td></td>               <th>coef</th>     <th>std err</th>      <th>z</th>      <th>P>|z|</th>  <th>[0.025</th>    <th>0.975]</th>  \n",
       "</tr>\n",
       "<tr>\n",
       "  <th>Intercept</th>              <td>-1953.1643</td> <td>   98.632</td> <td>  -19.803</td> <td> 0.000</td> <td>-2146.479</td> <td>-1759.850</td>\n",
       "</tr>\n",
       "<tr>\n",
       "  <th>avg_price_per_room</th>     <td>    0.0171</td> <td>    0.000</td> <td>   34.183</td> <td> 0.000</td> <td>    0.016</td> <td>    0.018</td>\n",
       "</tr>\n",
       "<tr>\n",
       "  <th>arrival_year</th>           <td>    0.9664</td> <td>    0.049</td> <td>   19.770</td> <td> 0.000</td> <td>    0.871</td> <td>    1.062</td>\n",
       "</tr>\n",
       "<tr>\n",
       "  <th>lead_time</th>              <td>    0.0124</td> <td>    0.000</td> <td>   60.161</td> <td> 0.000</td> <td>    0.012</td> <td>    0.013</td>\n",
       "</tr>\n",
       "<tr>\n",
       "  <th>no_of_special_requests</th> <td>   -1.0958</td> <td>    0.025</td> <td>  -43.852</td> <td> 0.000</td> <td>   -1.145</td> <td>   -1.047</td>\n",
       "</tr>\n",
       "<tr>\n",
       "  <th>repeated_guest</th>         <td>   -2.3118</td> <td>    0.319</td> <td>   -7.238</td> <td> 0.000</td> <td>   -2.938</td> <td>   -1.686</td>\n",
       "</tr>\n",
       "</table>"
      ],
      "text/plain": [
       "<class 'statsmodels.iolib.summary.Summary'>\n",
       "\"\"\"\n",
       "                           Logit Regression Results                           \n",
       "==============================================================================\n",
       "Dep. Variable:         booking_status   No. Observations:                27206\n",
       "Model:                          Logit   Df Residuals:                    27200\n",
       "Method:                           MLE   Df Model:                            5\n",
       "Date:                Mon, 06 Mar 2023   Pseudo R-squ.:                  0.2651\n",
       "Time:                        12:57:39   Log-Likelihood:                -12646.\n",
       "converged:                       True   LL-Null:                       -17208.\n",
       "Covariance Type:            nonrobust   LLR p-value:                     0.000\n",
       "==========================================================================================\n",
       "                             coef    std err          z      P>|z|      [0.025      0.975]\n",
       "------------------------------------------------------------------------------------------\n",
       "Intercept              -1953.1643     98.632    -19.803      0.000   -2146.479   -1759.850\n",
       "avg_price_per_room         0.0171      0.000     34.183      0.000       0.016       0.018\n",
       "arrival_year               0.9664      0.049     19.770      0.000       0.871       1.062\n",
       "lead_time                  0.0124      0.000     60.161      0.000       0.012       0.013\n",
       "no_of_special_requests    -1.0958      0.025    -43.852      0.000      -1.145      -1.047\n",
       "repeated_guest            -2.3118      0.319     -7.238      0.000      -2.938      -1.686\n",
       "==========================================================================================\n",
       "\"\"\""
      ]
     },
     "execution_count": 92,
     "metadata": {},
     "output_type": "execute_result"
    }
   ],
   "source": [
    "baseline_model1 = sm.logit('booking_status~avg_price_per_room+arrival_year+lead_time+no_of_special_requests+repeated_guest', data = train).fit()\n",
    "baseline_model1.summary()"
   ]
  },
  {
   "cell_type": "code",
   "execution_count": 93,
   "id": "1b64a1d8",
   "metadata": {},
   "outputs": [
    {
     "name": "stdout",
     "output_type": "stream",
     "text": [
      "Classification accuracy = 76.4%\n",
      "Precision = 83.4%\n",
      "TPR or Recall = 34.7%\n",
      "FNR = 65.3%\n",
      "FPR = 3.4%\n",
      "ROC-AUC = 83.1%\n"
     ]
    },
    {
     "data": {
      "image/png": "[encoded data removed]",
      "text/plain": [
       "<Figure size 640x480 with 2 Axes>"
      ]
     },
     "metadata": {},
     "output_type": "display_data"
    }
   ],
   "source": [
    "#matrix for train data\n",
    "confusion_matrix_data(train, train.booking_status, baseline_model1, cutoff = best_cutoff)"
   ]
  },
  {
   "cell_type": "code",
   "execution_count": 94,
   "id": "872abd24",
   "metadata": {},
   "outputs": [
    {
     "name": "stdout",
     "output_type": "stream",
     "text": [
      "Classification accuracy = 76.4%\n",
      "Precision = 83.3%\n",
      "TPR or Recall = 34.9%\n",
      "FNR = 65.1%\n",
      "FPR = 3.4%\n",
      "ROC-AUC = 83.3%\n"
     ]
    },
    {
     "data": {
      "image/png": "[encoded data removed]",
      "text/plain": [
       "<Figure size 640x480 with 2 Axes>"
      ]
     },
     "metadata": {},
     "output_type": "display_data"
    }
   ],
   "source": [
    "#matrix for train data\n",
    "confusion_matrix_data(test, test.booking_status, baseline_model1, cutoff = best_cutoff)"
   ]
  },
  {
   "cell_type": "markdown",
   "id": "dac02b63",
   "metadata": {},
   "source": [
    "This model is not as accurate as the model that we developed earlier. Furthermore, its false positive rate is also much higher so this model is not good. Since I looked at the hotel reservation trend over the years, I also to see if a model with just the arrival time would be any better. "
   ]
  },
  {
   "cell_type": "code",
   "execution_count": 95,
   "id": "74db2d90",
   "metadata": {},
   "outputs": [
    {
     "name": "stdout",
     "output_type": "stream",
     "text": [
      "Optimization terminated successfully.\n",
      "         Current function value: 0.613393\n",
      "         Iterations 9\n"
     ]
    },
    {
     "data": {
      "text/html": [
       "<table class=\"simpletable\">\n",
       "<caption>Logit Regression Results</caption>\n",
       "<tr>\n",
       "  <th>Dep. Variable:</th>    <td>booking_status</td>  <th>  No. Observations:  </th>   <td> 27206</td>  \n",
       "</tr>\n",
       "<tr>\n",
       "  <th>Model:</th>                 <td>Logit</td>      <th>  Df Residuals:      </th>   <td> 27203</td>  \n",
       "</tr>\n",
       "<tr>\n",
       "  <th>Method:</th>                 <td>MLE</td>       <th>  Df Model:          </th>   <td>     2</td>  \n",
       "</tr>\n",
       "<tr>\n",
       "  <th>Date:</th>            <td>Mon, 06 Mar 2023</td> <th>  Pseudo R-squ.:     </th>   <td>0.03021</td> \n",
       "</tr>\n",
       "<tr>\n",
       "  <th>Time:</th>                <td>12:57:39</td>     <th>  Log-Likelihood:    </th>  <td> -16688.</td> \n",
       "</tr>\n",
       "<tr>\n",
       "  <th>converged:</th>             <td>True</td>       <th>  LL-Null:           </th>  <td> -17208.</td> \n",
       "</tr>\n",
       "<tr>\n",
       "  <th>Covariance Type:</th>     <td>nonrobust</td>    <th>  LLR p-value:       </th> <td>1.701e-226</td>\n",
       "</tr>\n",
       "</table>\n",
       "<table class=\"simpletable\">\n",
       "<tr>\n",
       "        <td></td>           <th>coef</th>     <th>std err</th>      <th>z</th>      <th>P>|z|</th>  <th>[0.025</th>    <th>0.975]</th>  \n",
       "</tr>\n",
       "<tr>\n",
       "  <th>Intercept</th>     <td>-2625.6620</td> <td>   89.142</td> <td>  -29.455</td> <td> 0.000</td> <td>-2800.378</td> <td>-2450.946</td>\n",
       "</tr>\n",
       "<tr>\n",
       "  <th>arrival_year</th>  <td>    1.3007</td> <td>    0.044</td> <td>   29.447</td> <td> 0.000</td> <td>    1.214</td> <td>    1.387</td>\n",
       "</tr>\n",
       "<tr>\n",
       "  <th>arrival_month</th> <td>    0.0389</td> <td>    0.004</td> <td>    8.798</td> <td> 0.000</td> <td>    0.030</td> <td>    0.048</td>\n",
       "</tr>\n",
       "</table>"
      ],
      "text/plain": [
       "<class 'statsmodels.iolib.summary.Summary'>\n",
       "\"\"\"\n",
       "                           Logit Regression Results                           \n",
       "==============================================================================\n",
       "Dep. Variable:         booking_status   No. Observations:                27206\n",
       "Model:                          Logit   Df Residuals:                    27203\n",
       "Method:                           MLE   Df Model:                            2\n",
       "Date:                Mon, 06 Mar 2023   Pseudo R-squ.:                 0.03021\n",
       "Time:                        12:57:39   Log-Likelihood:                -16688.\n",
       "converged:                       True   LL-Null:                       -17208.\n",
       "Covariance Type:            nonrobust   LLR p-value:                1.701e-226\n",
       "=================================================================================\n",
       "                    coef    std err          z      P>|z|      [0.025      0.975]\n",
       "---------------------------------------------------------------------------------\n",
       "Intercept     -2625.6620     89.142    -29.455      0.000   -2800.378   -2450.946\n",
       "arrival_year      1.3007      0.044     29.447      0.000       1.214       1.387\n",
       "arrival_month     0.0389      0.004      8.798      0.000       0.030       0.048\n",
       "=================================================================================\n",
       "\"\"\""
      ]
     },
     "execution_count": 95,
     "metadata": {},
     "output_type": "execute_result"
    }
   ],
   "source": [
    "#Baseline model\n",
    "baseline_model2 = sm.logit('booking_status~arrival_year+arrival_month', data = train).fit()\n",
    "baseline_model2.summary()"
   ]
  },
  {
   "cell_type": "code",
   "execution_count": 96,
   "id": "95f0b7b2",
   "metadata": {},
   "outputs": [
    {
     "name": "stderr",
     "output_type": "stream",
     "text": [
      "/var/folders/qx/y6511cx14579xdbhwdbdj0jc0000gp/T/ipykernel_41281/2813583335.py:15: RuntimeWarning: invalid value encountered in double_scalars\n",
      "  precision = (cm[1,1])/(cm[0,1]+cm[1,1])\n"
     ]
    },
    {
     "name": "stdout",
     "output_type": "stream",
     "text": [
      "Classification accuracy = 67.2%\n",
      "Precision = nan%\n",
      "TPR or Recall = 0.0%\n",
      "FNR = 100.0%\n",
      "FPR = 0.0%\n",
      "ROC-AUC = 60.0%\n"
     ]
    },
    {
     "data": {
      "image/png": "[encoded data removed]",
      "text/plain": [
       "<Figure size 640x480 with 2 Axes>"
      ]
     },
     "metadata": {},
     "output_type": "display_data"
    }
   ],
   "source": [
    "#matrix for train data\n",
    "confusion_matrix_data(train, train.booking_status, baseline_model2, cutoff = best_cutoff)"
   ]
  },
  {
   "cell_type": "code",
   "execution_count": 97,
   "id": "9488355d",
   "metadata": {},
   "outputs": [
    {
     "name": "stderr",
     "output_type": "stream",
     "text": [
      "/var/folders/qx/y6511cx14579xdbhwdbdj0jc0000gp/T/ipykernel_41281/2813583335.py:15: RuntimeWarning: invalid value encountered in double_scalars\n",
      "  precision = (cm[1,1])/(cm[0,1]+cm[1,1])\n"
     ]
    },
    {
     "name": "stdout",
     "output_type": "stream",
     "text": [
      "Classification accuracy = 67.2%\n",
      "Precision = nan%\n",
      "TPR or Recall = 0.0%\n",
      "FNR = 100.0%\n",
      "FPR = 0.0%\n",
      "ROC-AUC = 60.0%\n"
     ]
    },
    {
     "data": {
      "image/png": "[encoded data removed]",
      "text/plain": [
       "<Figure size 640x480 with 2 Axes>"
      ]
     },
     "metadata": {},
     "output_type": "display_data"
    }
   ],
   "source": [
    "#matrix for train data\n",
    "confusion_matrix_data(train, train.booking_status, baseline_model2, cutoff = 0.8)"
   ]
  },
  {
   "cell_type": "markdown",
   "id": "33b377a4",
   "metadata": {},
   "source": [
    "Ideally I would not want to use this model because the FPR is way too high and also it's accuracy is significantly lower than that of our original model"
   ]
  },
  {
   "cell_type": "markdown",
   "id": "1d92cea1",
   "metadata": {},
   "source": [
    "# KNN"
   ]
  },
  {
   "cell_type": "code",
   "execution_count": 98,
   "id": "0af35a18",
   "metadata": {},
   "outputs": [],
   "source": [
    "# Split train and test datasets\n",
    "y = hotels_dummy.booking_status\n",
    "X = hotels_dummy.drop(['booking_status', 'Booking_ID', 'type_of_meal_plan', 'market_segment_type', \n",
    "                               'arrival_month', 'room_type_reserved'], axis = 1)\n",
    "X_train, X_test, y_train, y_test = train_test_split(X, y, test_size=0.25, random_state=0, shuffle=True)"
   ]
  },
  {
   "cell_type": "code",
   "execution_count": 99,
   "id": "407d2a46",
   "metadata": {},
   "outputs": [],
   "source": [
    "## KNN with all predictors\n",
    "from sklearn.neighbors import KNeighborsClassifier\n",
    "knn = KNeighborsClassifier().fit(X_train, y_train)"
   ]
  },
  {
   "cell_type": "code",
   "execution_count": 100,
   "id": "a21daedc",
   "metadata": {},
   "outputs": [],
   "source": [
    "# KNN with features selected from forward and backward selection \n",
    "y = hotels_dummy.booking_status\n",
    "X = hotels_dummy[['no_of_adults', 'no_of_weekend_nights', 'no_of_week_nights', 'required_car_parking_space',\n",
    "            'lead_time', 'arrival_year', 'arrival_month', 'repeated_guest', \n",
    "            'no_of_previous_cancellations', 'avg_price_per_room', 'no_of_special_requests']]\n",
    "\n",
    "X_train, X_test, y_train, y_test = train_test_split(X, y, test_size=0.25, random_state=0, shuffle=True)\n",
    "knn = KNeighborsClassifier().fit(X_train, y_train)"
   ]
  },
  {
   "cell_type": "code",
   "execution_count": 101,
   "id": "a8e2d34d",
   "metadata": {},
   "outputs": [
    {
     "name": "stderr",
     "output_type": "stream",
     "text": [
      "/Users/linhnganguyen/opt/anaconda3/lib/python3.9/site-packages/sklearn/neighbors/_classification.py:228: FutureWarning: Unlike other reduction functions (e.g. `skew`, `kurtosis`), the default behavior of `mode` typically preserves the axis it acts along. In SciPy 1.11.0, this behavior will change: the default value of `keepdims` will become False, the `axis` over which the statistic is taken will be eliminated, and the value None will no longer be accepted. Set `keepdims` to True or False to avoid this warning.\n",
      "  mode, _ = stats.mode(_y[neigh_ind, k], axis=1)\n"
     ]
    },
    {
     "name": "stdout",
     "output_type": "stream",
     "text": [
      "Classification accuracy = 87.2%\n",
      "Precision = 84.9%\n",
      "TPR or Recall = 74.1%\n",
      "FNR = 25.9%\n",
      "FPR = 6.4%\n",
      "ROC-AUC = 83.8%\n"
     ]
    },
    {
     "data": {
      "image/png": "[encoded data removed]",
      "text/plain": [
       "<Figure size 640x480 with 2 Axes>"
      ]
     },
     "metadata": {},
     "output_type": "display_data"
    }
   ],
   "source": [
    "confusion_matrix_data(X_train, y_train, knn, cutoff = 0.4)"
   ]
  },
  {
   "cell_type": "code",
   "execution_count": 102,
   "id": "632ad299",
   "metadata": {},
   "outputs": [
    {
     "name": "stderr",
     "output_type": "stream",
     "text": [
      "/Users/linhnganguyen/opt/anaconda3/lib/python3.9/site-packages/sklearn/neighbors/_classification.py:228: FutureWarning: Unlike other reduction functions (e.g. `skew`, `kurtosis`), the default behavior of `mode` typically preserves the axis it acts along. In SciPy 1.11.0, this behavior will change: the default value of `keepdims` will become False, the `axis` over which the statistic is taken will be eliminated, and the value None will no longer be accepted. Set `keepdims` to True or False to avoid this warning.\n",
      "  mode, _ = stats.mode(_y[neigh_ind, k], axis=1)\n"
     ]
    },
    {
     "name": "stdout",
     "output_type": "stream",
     "text": [
      "Classification accuracy = 80.9%\n",
      "Precision = 75.4%\n",
      "TPR or Recall = 63.1%\n",
      "FNR = 36.9%\n",
      "FPR = 10.2%\n",
      "ROC-AUC = 76.4%\n"
     ]
    },
    {
     "data": {
      "image/png": "[encoded data removed]",
      "text/plain": [
       "<Figure size 640x480 with 2 Axes>"
      ]
     },
     "metadata": {},
     "output_type": "display_data"
    }
   ],
   "source": [
    "confusion_matrix_data(X_test, y_test, knn, cutoff = 0.4)"
   ]
  },
  {
   "cell_type": "code",
   "execution_count": 103,
   "id": "3a1c994c",
   "metadata": {},
   "outputs": [
    {
     "name": "stdout",
     "output_type": "stream",
     "text": [
      "Optimization terminated successfully.\n",
      "         Current function value: 0.458765\n",
      "         Iterations 11\n"
     ]
    },
    {
     "data": {
      "text/html": [
       "<table class=\"simpletable\">\n",
       "<caption>Logit Regression Results</caption>\n",
       "<tr>\n",
       "  <th>Dep. Variable:</th>    <td>booking_status</td>  <th>  No. Observations:  </th>  <td> 27206</td> \n",
       "</tr>\n",
       "<tr>\n",
       "  <th>Model:</th>                 <td>Logit</td>      <th>  Df Residuals:      </th>  <td> 27194</td> \n",
       "</tr>\n",
       "<tr>\n",
       "  <th>Method:</th>                 <td>MLE</td>       <th>  Df Model:          </th>  <td>    11</td> \n",
       "</tr>\n",
       "<tr>\n",
       "  <th>Date:</th>            <td>Mon, 06 Mar 2023</td> <th>  Pseudo R-squ.:     </th>  <td>0.2747</td> \n",
       "</tr>\n",
       "<tr>\n",
       "  <th>Time:</th>                <td>12:57:42</td>     <th>  Log-Likelihood:    </th> <td> -12481.</td>\n",
       "</tr>\n",
       "<tr>\n",
       "  <th>converged:</th>             <td>True</td>       <th>  LL-Null:           </th> <td> -17208.</td>\n",
       "</tr>\n",
       "<tr>\n",
       "  <th>Covariance Type:</th>     <td>nonrobust</td>    <th>  LLR p-value:       </th>  <td> 0.000</td> \n",
       "</tr>\n",
       "</table>\n",
       "<table class=\"simpletable\">\n",
       "<tr>\n",
       "                <td></td>                  <th>coef</th>     <th>std err</th>      <th>z</th>      <th>P>|z|</th>  <th>[0.025</th>    <th>0.975]</th>  \n",
       "</tr>\n",
       "<tr>\n",
       "  <th>Intercept</th>                    <td>-1701.8897</td> <td>  105.527</td> <td>  -16.127</td> <td> 0.000</td> <td>-1908.720</td> <td>-1495.060</td>\n",
       "</tr>\n",
       "<tr>\n",
       "  <th>no_of_adults</th>                 <td>    0.1776</td> <td>    0.033</td> <td>    5.451</td> <td> 0.000</td> <td>    0.114</td> <td>    0.241</td>\n",
       "</tr>\n",
       "<tr>\n",
       "  <th>no_of_weekend_nights</th>         <td>    0.1859</td> <td>    0.018</td> <td>   10.261</td> <td> 0.000</td> <td>    0.150</td> <td>    0.221</td>\n",
       "</tr>\n",
       "<tr>\n",
       "  <th>no_of_week_nights</th>            <td>    0.0447</td> <td>    0.011</td> <td>    3.973</td> <td> 0.000</td> <td>    0.023</td> <td>    0.067</td>\n",
       "</tr>\n",
       "<tr>\n",
       "  <th>required_car_parking_space</th>   <td>   -1.2150</td> <td>    0.127</td> <td>   -9.588</td> <td> 0.000</td> <td>   -1.463</td> <td>   -0.967</td>\n",
       "</tr>\n",
       "<tr>\n",
       "  <th>lead_time</th>                    <td>    0.0125</td> <td>    0.000</td> <td>   58.022</td> <td> 0.000</td> <td>    0.012</td> <td>    0.013</td>\n",
       "</tr>\n",
       "<tr>\n",
       "  <th>arrival_year</th>                 <td>    0.8417</td> <td>    0.052</td> <td>   16.094</td> <td> 0.000</td> <td>    0.739</td> <td>    0.944</td>\n",
       "</tr>\n",
       "<tr>\n",
       "  <th>arrival_month</th>                <td>   -0.0305</td> <td>    0.006</td> <td>   -5.207</td> <td> 0.000</td> <td>   -0.042</td> <td>   -0.019</td>\n",
       "</tr>\n",
       "<tr>\n",
       "  <th>repeated_guest</th>               <td>   -2.4836</td> <td>    0.409</td> <td>   -6.080</td> <td> 0.000</td> <td>   -3.284</td> <td>   -1.683</td>\n",
       "</tr>\n",
       "<tr>\n",
       "  <th>no_of_previous_cancellations</th> <td>    0.1918</td> <td>    0.071</td> <td>    2.693</td> <td> 0.007</td> <td>    0.052</td> <td>    0.331</td>\n",
       "</tr>\n",
       "<tr>\n",
       "  <th>avg_price_per_room</th>           <td>    0.0179</td> <td>    0.001</td> <td>   33.411</td> <td> 0.000</td> <td>    0.017</td> <td>    0.019</td>\n",
       "</tr>\n",
       "<tr>\n",
       "  <th>no_of_special_requests</th>       <td>   -1.1179</td> <td>    0.026</td> <td>  -43.281</td> <td> 0.000</td> <td>   -1.169</td> <td>   -1.067</td>\n",
       "</tr>\n",
       "</table>"
      ],
      "text/plain": [
       "<class 'statsmodels.iolib.summary.Summary'>\n",
       "\"\"\"\n",
       "                           Logit Regression Results                           \n",
       "==============================================================================\n",
       "Dep. Variable:         booking_status   No. Observations:                27206\n",
       "Model:                          Logit   Df Residuals:                    27194\n",
       "Method:                           MLE   Df Model:                           11\n",
       "Date:                Mon, 06 Mar 2023   Pseudo R-squ.:                  0.2747\n",
       "Time:                        12:57:42   Log-Likelihood:                -12481.\n",
       "converged:                       True   LL-Null:                       -17208.\n",
       "Covariance Type:            nonrobust   LLR p-value:                     0.000\n",
       "================================================================================================\n",
       "                                   coef    std err          z      P>|z|      [0.025      0.975]\n",
       "------------------------------------------------------------------------------------------------\n",
       "Intercept                    -1701.8897    105.527    -16.127      0.000   -1908.720   -1495.060\n",
       "no_of_adults                     0.1776      0.033      5.451      0.000       0.114       0.241\n",
       "no_of_weekend_nights             0.1859      0.018     10.261      0.000       0.150       0.221\n",
       "no_of_week_nights                0.0447      0.011      3.973      0.000       0.023       0.067\n",
       "required_car_parking_space      -1.2150      0.127     -9.588      0.000      -1.463      -0.967\n",
       "lead_time                        0.0125      0.000     58.022      0.000       0.012       0.013\n",
       "arrival_year                     0.8417      0.052     16.094      0.000       0.739       0.944\n",
       "arrival_month                   -0.0305      0.006     -5.207      0.000      -0.042      -0.019\n",
       "repeated_guest                  -2.4836      0.409     -6.080      0.000      -3.284      -1.683\n",
       "no_of_previous_cancellations     0.1918      0.071      2.693      0.007       0.052       0.331\n",
       "avg_price_per_room               0.0179      0.001     33.411      0.000       0.017       0.019\n",
       "no_of_special_requests          -1.1179      0.026    -43.281      0.000      -1.169      -1.067\n",
       "================================================================================================\n",
       "\"\"\""
      ]
     },
     "execution_count": 103,
     "metadata": {},
     "output_type": "execute_result"
    }
   ],
   "source": [
    "# Model1\n",
    "model1 = sm.logit('booking_status~ no_of_adults+no_of_weekend_nights+no_of_week_nights+\\\n",
    "required_car_parking_space+lead_time+arrival_year+arrival_month+repeated_guest+no_of_previous_cancellations+\\\n",
    "avg_price_per_room+no_of_special_requests', data = train).fit()\n",
    "model1.summary()"
   ]
  },
  {
   "cell_type": "code",
   "execution_count": 104,
   "id": "7b557959",
   "metadata": {},
   "outputs": [
    {
     "name": "stdout",
     "output_type": "stream",
     "text": [
      "Classification accuracy = 77.5%\n",
      "Precision = 66.1%\n",
      "TPR or Recall = 66.2%\n",
      "FNR = 33.8%\n",
      "FPR = 16.9%\n",
      "ROC-AUC = 83.5%\n"
     ]
    },
    {
     "data": {
      "image/png": "[encoded data removed]",
      "text/plain": [
       "<Figure size 640x480 with 2 Axes>"
      ]
     },
     "metadata": {},
     "output_type": "display_data"
    }
   ],
   "source": [
    "confusion_matrix_data(X_test, y_test, model1, cutoff = 0.4)"
   ]
  },
  {
   "cell_type": "code",
   "execution_count": 105,
   "id": "0daaab74",
   "metadata": {},
   "outputs": [],
   "source": [
    "M = train[['no_of_adults','no_of_weekend_nights','no_of_week_nights',\n",
    "'required_car_parking_space','lead_time','arrival_year','arrival_month','repeated_guest',\n",
    "           'no_of_previous_cancellations','avg_price_per_room','no_of_special_requests']]"
   ]
  },
  {
   "cell_type": "code",
   "execution_count": 106,
   "id": "ce87894d",
   "metadata": {},
   "outputs": [
    {
     "name": "stdout",
     "output_type": "stream",
     "text": [
      "                         feature           VIF\n",
      "0                          const  3.501890e+07\n",
      "1                   no_of_adults  1.179288e+00\n",
      "2           no_of_weekend_nights  1.048607e+00\n",
      "3              no_of_week_nights  1.068659e+00\n",
      "4     required_car_parking_space  1.029050e+00\n",
      "5                      lead_time  1.161932e+00\n",
      "6                   arrival_year  1.264795e+00\n",
      "7                  arrival_month  1.236207e+00\n",
      "8                 repeated_guest  1.288721e+00\n",
      "9   no_of_previous_cancellations  1.187295e+00\n",
      "10            avg_price_per_room  1.221557e+00\n",
      "11        no_of_special_requests  1.103064e+00\n"
     ]
    }
   ],
   "source": [
    "#Calculating VIF for KNN+var selection predictors\n",
    "from statsmodels.stats.outliers_influence import variance_inflation_factor\n",
    "from statsmodels.tools.tools import add_constant\n",
    "M = add_constant(M)\n",
    "vif_data = pd.DataFrame()\n",
    "vif_data[\"feature\"] = M.columns\n",
    "\n",
    "for i in range(len(M.columns)):\n",
    "    vif_data.loc[i,'VIF'] = variance_inflation_factor(M.values, i)\n",
    "\n",
    "print(vif_data)"
   ]
  },
  {
   "cell_type": "code",
   "execution_count": null,
   "id": "c9e1b829",
   "metadata": {},
   "outputs": [],
   "source": []
  },
  {
   "cell_type": "code",
   "execution_count": null,
   "id": "0d176ec7",
   "metadata": {},
   "outputs": [],
   "source": []
  }
 ],
 "metadata": {
  "kernelspec": {
   "display_name": "Python 3 (ipykernel)",
   "language": "python",
   "name": "python3"
  },
  "language_info": {
   "codemirror_mode": {
    "name": "ipython",
    "version": 3
   },
   "file_extension": ".py",
   "mimetype": "text/x-python",
   "name": "python",
   "nbconvert_exporter": "python",
   "pygments_lexer": "ipython3",
   "version": "3.9.13"
  },
  "toc": {
   "base_numbering": 1,
   "nav_menu": {},
   "number_sections": true,
   "sideBar": true,
   "skip_h1_title": false,
   "title_cell": "Table of Contents",
   "title_sidebar": "Contents",
   "toc_cell": false,
   "toc_position": {},
   "toc_section_display": true,
   "toc_window_display": false
  },
  "varInspector": {
   "cols": {
    "lenName": 16,
    "lenType": 16,
    "lenVar": 40
   },
   "kernels_config": {
    "python": {
     "delete_cmd_postfix": "",
     "delete_cmd_prefix": "del ",
     "library": "var_list.py",
     "varRefreshCmd": "print(var_dic_list())"
    },
    "r": {
     "delete_cmd_postfix": ") ",
     "delete_cmd_prefix": "rm(",
     "library": "var_list.r",
     "varRefreshCmd": "cat(var_dic_list()) "
    }
   },
   "types_to_exclude": [
    "module",
    "function",
    "builtin_function_or_method",
    "instance",
    "_Feature"
   ],
   "window_display": false
  }
 },
 "nbformat": 4,
 "nbformat_minor": 5
}
