{
 "cells": [
  {
   "cell_type": "code",
   "execution_count": 2,
   "id": "81e7064c",
   "metadata": {},
   "outputs": [],
   "source": [
    "#importing libraries\n",
    "import pandas as pd\n",
    "import numpy as np\n",
    "import seaborn as sns\n",
    "import matplotlib.pyplot as plt\n",
    "import statsmodels.formula.api as sm\n",
    "from sklearn.linear_model import Ridge, RidgeCV, Lasso, LassoCV\n",
    "from sklearn.preprocessing import StandardScaler \n",
    "from sklearn.metrics import r2_score\n",
    "from sklearn.model_selection import train_test_split\n",
    "from sklearn.metrics import roc_curve, auc\n",
    "from sklearn.metrics import precision_recall_curve\n",
    "import itertools\n",
    "import time\n",
    "from datetime import datetime"
   ]
  },
  {
   "cell_type": "code",
   "execution_count": 3,
   "id": "e294ee50",
   "metadata": {},
   "outputs": [
    {
     "data": {
      "text/html": [
       "<div>\n",
       "<style scoped>\n",
       "    .dataframe tbody tr th:only-of-type {\n",
       "        vertical-align: middle;\n",
       "    }\n",
       "\n",
       "    .dataframe tbody tr th {\n",
       "        vertical-align: top;\n",
       "    }\n",
       "\n",
       "    .dataframe thead th {\n",
       "        text-align: right;\n",
       "    }\n",
       "</style>\n",
       "<table border=\"1\" class=\"dataframe\">\n",
       "  <thead>\n",
       "    <tr style=\"text-align: right;\">\n",
       "      <th></th>\n",
       "      <th>Booking_ID</th>\n",
       "      <th>no_of_adults</th>\n",
       "      <th>no_of_children</th>\n",
       "      <th>no_of_weekend_nights</th>\n",
       "      <th>no_of_week_nights</th>\n",
       "      <th>type_of_meal_plan</th>\n",
       "      <th>required_car_parking_space</th>\n",
       "      <th>room_type_reserved</th>\n",
       "      <th>lead_time</th>\n",
       "      <th>arrival_year</th>\n",
       "      <th>arrival_month</th>\n",
       "      <th>arrival_date</th>\n",
       "      <th>market_segment_type</th>\n",
       "      <th>repeated_guest</th>\n",
       "      <th>no_of_previous_cancellations</th>\n",
       "      <th>no_of_previous_bookings_not_canceled</th>\n",
       "      <th>avg_price_per_room</th>\n",
       "      <th>no_of_special_requests</th>\n",
       "      <th>booking_status</th>\n",
       "    </tr>\n",
       "  </thead>\n",
       "  <tbody>\n",
       "    <tr>\n",
       "      <th>0</th>\n",
       "      <td>INN00001</td>\n",
       "      <td>2</td>\n",
       "      <td>0</td>\n",
       "      <td>1</td>\n",
       "      <td>2</td>\n",
       "      <td>Meal Plan 1</td>\n",
       "      <td>0</td>\n",
       "      <td>Room_Type 1</td>\n",
       "      <td>224</td>\n",
       "      <td>2017</td>\n",
       "      <td>10</td>\n",
       "      <td>2</td>\n",
       "      <td>Offline</td>\n",
       "      <td>0</td>\n",
       "      <td>0</td>\n",
       "      <td>0</td>\n",
       "      <td>65.00</td>\n",
       "      <td>0</td>\n",
       "      <td>Not_Canceled</td>\n",
       "    </tr>\n",
       "    <tr>\n",
       "      <th>1</th>\n",
       "      <td>INN00002</td>\n",
       "      <td>2</td>\n",
       "      <td>0</td>\n",
       "      <td>2</td>\n",
       "      <td>3</td>\n",
       "      <td>Not Selected</td>\n",
       "      <td>0</td>\n",
       "      <td>Room_Type 1</td>\n",
       "      <td>5</td>\n",
       "      <td>2018</td>\n",
       "      <td>11</td>\n",
       "      <td>6</td>\n",
       "      <td>Online</td>\n",
       "      <td>0</td>\n",
       "      <td>0</td>\n",
       "      <td>0</td>\n",
       "      <td>106.68</td>\n",
       "      <td>1</td>\n",
       "      <td>Not_Canceled</td>\n",
       "    </tr>\n",
       "    <tr>\n",
       "      <th>2</th>\n",
       "      <td>INN00003</td>\n",
       "      <td>1</td>\n",
       "      <td>0</td>\n",
       "      <td>2</td>\n",
       "      <td>1</td>\n",
       "      <td>Meal Plan 1</td>\n",
       "      <td>0</td>\n",
       "      <td>Room_Type 1</td>\n",
       "      <td>1</td>\n",
       "      <td>2018</td>\n",
       "      <td>2</td>\n",
       "      <td>28</td>\n",
       "      <td>Online</td>\n",
       "      <td>0</td>\n",
       "      <td>0</td>\n",
       "      <td>0</td>\n",
       "      <td>60.00</td>\n",
       "      <td>0</td>\n",
       "      <td>Canceled</td>\n",
       "    </tr>\n",
       "    <tr>\n",
       "      <th>3</th>\n",
       "      <td>INN00004</td>\n",
       "      <td>2</td>\n",
       "      <td>0</td>\n",
       "      <td>0</td>\n",
       "      <td>2</td>\n",
       "      <td>Meal Plan 1</td>\n",
       "      <td>0</td>\n",
       "      <td>Room_Type 1</td>\n",
       "      <td>211</td>\n",
       "      <td>2018</td>\n",
       "      <td>5</td>\n",
       "      <td>20</td>\n",
       "      <td>Online</td>\n",
       "      <td>0</td>\n",
       "      <td>0</td>\n",
       "      <td>0</td>\n",
       "      <td>100.00</td>\n",
       "      <td>0</td>\n",
       "      <td>Canceled</td>\n",
       "    </tr>\n",
       "    <tr>\n",
       "      <th>4</th>\n",
       "      <td>INN00005</td>\n",
       "      <td>2</td>\n",
       "      <td>0</td>\n",
       "      <td>1</td>\n",
       "      <td>1</td>\n",
       "      <td>Not Selected</td>\n",
       "      <td>0</td>\n",
       "      <td>Room_Type 1</td>\n",
       "      <td>48</td>\n",
       "      <td>2018</td>\n",
       "      <td>4</td>\n",
       "      <td>11</td>\n",
       "      <td>Online</td>\n",
       "      <td>0</td>\n",
       "      <td>0</td>\n",
       "      <td>0</td>\n",
       "      <td>94.50</td>\n",
       "      <td>0</td>\n",
       "      <td>Canceled</td>\n",
       "    </tr>\n",
       "  </tbody>\n",
       "</table>\n",
       "</div>"
      ],
      "text/plain": [
       "  Booking_ID  no_of_adults  no_of_children  no_of_weekend_nights  \\\n",
       "0   INN00001             2               0                     1   \n",
       "1   INN00002             2               0                     2   \n",
       "2   INN00003             1               0                     2   \n",
       "3   INN00004             2               0                     0   \n",
       "4   INN00005             2               0                     1   \n",
       "\n",
       "   no_of_week_nights type_of_meal_plan  required_car_parking_space  \\\n",
       "0                  2       Meal Plan 1                           0   \n",
       "1                  3      Not Selected                           0   \n",
       "2                  1       Meal Plan 1                           0   \n",
       "3                  2       Meal Plan 1                           0   \n",
       "4                  1      Not Selected                           0   \n",
       "\n",
       "  room_type_reserved  lead_time  arrival_year  arrival_month  arrival_date  \\\n",
       "0        Room_Type 1        224          2017             10             2   \n",
       "1        Room_Type 1          5          2018             11             6   \n",
       "2        Room_Type 1          1          2018              2            28   \n",
       "3        Room_Type 1        211          2018              5            20   \n",
       "4        Room_Type 1         48          2018              4            11   \n",
       "\n",
       "  market_segment_type  repeated_guest  no_of_previous_cancellations  \\\n",
       "0             Offline               0                             0   \n",
       "1              Online               0                             0   \n",
       "2              Online               0                             0   \n",
       "3              Online               0                             0   \n",
       "4              Online               0                             0   \n",
       "\n",
       "   no_of_previous_bookings_not_canceled  avg_price_per_room  \\\n",
       "0                                     0               65.00   \n",
       "1                                     0              106.68   \n",
       "2                                     0               60.00   \n",
       "3                                     0              100.00   \n",
       "4                                     0               94.50   \n",
       "\n",
       "   no_of_special_requests booking_status  \n",
       "0                       0   Not_Canceled  \n",
       "1                       1   Not_Canceled  \n",
       "2                       0       Canceled  \n",
       "3                       0       Canceled  \n",
       "4                       0       Canceled  "
      ]
     },
     "execution_count": 3,
     "metadata": {},
     "output_type": "execute_result"
    }
   ],
   "source": [
    "#reading in data\n",
    "hotels = pd.read_csv('Hotel Reservations.csv')\n",
    "hotels.head()"
   ]
  },
  {
   "cell_type": "code",
   "execution_count": 4,
   "id": "4a7264ce",
   "metadata": {},
   "outputs": [],
   "source": [
    "# Mapping response to 0 (Not Canceled) and 1 (Canceled)\n",
    "hotels['booking_status'].replace(['Canceled', 'Not_Canceled'],[0, 1], inplace=True)"
   ]
  },
  {
   "cell_type": "code",
   "execution_count": 5,
   "id": "6024b1c6",
   "metadata": {},
   "outputs": [
    {
     "data": {
      "text/html": [
       "<div>\n",
       "<style scoped>\n",
       "    .dataframe tbody tr th:only-of-type {\n",
       "        vertical-align: middle;\n",
       "    }\n",
       "\n",
       "    .dataframe tbody tr th {\n",
       "        vertical-align: top;\n",
       "    }\n",
       "\n",
       "    .dataframe thead th {\n",
       "        text-align: right;\n",
       "    }\n",
       "</style>\n",
       "<table border=\"1\" class=\"dataframe\">\n",
       "  <thead>\n",
       "    <tr style=\"text-align: right;\">\n",
       "      <th></th>\n",
       "      <th>Booking_ID</th>\n",
       "      <th>no_of_adults</th>\n",
       "      <th>no_of_children</th>\n",
       "      <th>no_of_weekend_nights</th>\n",
       "      <th>no_of_week_nights</th>\n",
       "      <th>type_of_meal_plan</th>\n",
       "      <th>required_car_parking_space</th>\n",
       "      <th>room_type_reserved</th>\n",
       "      <th>lead_time</th>\n",
       "      <th>arrival_year</th>\n",
       "      <th>arrival_month</th>\n",
       "      <th>arrival_date</th>\n",
       "      <th>market_segment_type</th>\n",
       "      <th>repeated_guest</th>\n",
       "      <th>no_of_previous_cancellations</th>\n",
       "      <th>no_of_previous_bookings_not_canceled</th>\n",
       "      <th>avg_price_per_room</th>\n",
       "      <th>no_of_special_requests</th>\n",
       "      <th>booking_status</th>\n",
       "    </tr>\n",
       "  </thead>\n",
       "  <tbody>\n",
       "    <tr>\n",
       "      <th>0</th>\n",
       "      <td>INN00001</td>\n",
       "      <td>2</td>\n",
       "      <td>0</td>\n",
       "      <td>1</td>\n",
       "      <td>2</td>\n",
       "      <td>Meal Plan 1</td>\n",
       "      <td>0</td>\n",
       "      <td>Room_Type 1</td>\n",
       "      <td>224</td>\n",
       "      <td>2017</td>\n",
       "      <td>10</td>\n",
       "      <td>2</td>\n",
       "      <td>Offline</td>\n",
       "      <td>0</td>\n",
       "      <td>0</td>\n",
       "      <td>0</td>\n",
       "      <td>65.00</td>\n",
       "      <td>0</td>\n",
       "      <td>1</td>\n",
       "    </tr>\n",
       "    <tr>\n",
       "      <th>1</th>\n",
       "      <td>INN00002</td>\n",
       "      <td>2</td>\n",
       "      <td>0</td>\n",
       "      <td>2</td>\n",
       "      <td>3</td>\n",
       "      <td>Not Selected</td>\n",
       "      <td>0</td>\n",
       "      <td>Room_Type 1</td>\n",
       "      <td>5</td>\n",
       "      <td>2018</td>\n",
       "      <td>11</td>\n",
       "      <td>6</td>\n",
       "      <td>Online</td>\n",
       "      <td>0</td>\n",
       "      <td>0</td>\n",
       "      <td>0</td>\n",
       "      <td>106.68</td>\n",
       "      <td>1</td>\n",
       "      <td>1</td>\n",
       "    </tr>\n",
       "    <tr>\n",
       "      <th>2</th>\n",
       "      <td>INN00003</td>\n",
       "      <td>1</td>\n",
       "      <td>0</td>\n",
       "      <td>2</td>\n",
       "      <td>1</td>\n",
       "      <td>Meal Plan 1</td>\n",
       "      <td>0</td>\n",
       "      <td>Room_Type 1</td>\n",
       "      <td>1</td>\n",
       "      <td>2018</td>\n",
       "      <td>2</td>\n",
       "      <td>28</td>\n",
       "      <td>Online</td>\n",
       "      <td>0</td>\n",
       "      <td>0</td>\n",
       "      <td>0</td>\n",
       "      <td>60.00</td>\n",
       "      <td>0</td>\n",
       "      <td>0</td>\n",
       "    </tr>\n",
       "    <tr>\n",
       "      <th>3</th>\n",
       "      <td>INN00004</td>\n",
       "      <td>2</td>\n",
       "      <td>0</td>\n",
       "      <td>0</td>\n",
       "      <td>2</td>\n",
       "      <td>Meal Plan 1</td>\n",
       "      <td>0</td>\n",
       "      <td>Room_Type 1</td>\n",
       "      <td>211</td>\n",
       "      <td>2018</td>\n",
       "      <td>5</td>\n",
       "      <td>20</td>\n",
       "      <td>Online</td>\n",
       "      <td>0</td>\n",
       "      <td>0</td>\n",
       "      <td>0</td>\n",
       "      <td>100.00</td>\n",
       "      <td>0</td>\n",
       "      <td>0</td>\n",
       "    </tr>\n",
       "    <tr>\n",
       "      <th>4</th>\n",
       "      <td>INN00005</td>\n",
       "      <td>2</td>\n",
       "      <td>0</td>\n",
       "      <td>1</td>\n",
       "      <td>1</td>\n",
       "      <td>Not Selected</td>\n",
       "      <td>0</td>\n",
       "      <td>Room_Type 1</td>\n",
       "      <td>48</td>\n",
       "      <td>2018</td>\n",
       "      <td>4</td>\n",
       "      <td>11</td>\n",
       "      <td>Online</td>\n",
       "      <td>0</td>\n",
       "      <td>0</td>\n",
       "      <td>0</td>\n",
       "      <td>94.50</td>\n",
       "      <td>0</td>\n",
       "      <td>0</td>\n",
       "    </tr>\n",
       "  </tbody>\n",
       "</table>\n",
       "</div>"
      ],
      "text/plain": [
       "  Booking_ID  no_of_adults  no_of_children  no_of_weekend_nights  \\\n",
       "0   INN00001             2               0                     1   \n",
       "1   INN00002             2               0                     2   \n",
       "2   INN00003             1               0                     2   \n",
       "3   INN00004             2               0                     0   \n",
       "4   INN00005             2               0                     1   \n",
       "\n",
       "   no_of_week_nights type_of_meal_plan  required_car_parking_space  \\\n",
       "0                  2       Meal Plan 1                           0   \n",
       "1                  3      Not Selected                           0   \n",
       "2                  1       Meal Plan 1                           0   \n",
       "3                  2       Meal Plan 1                           0   \n",
       "4                  1      Not Selected                           0   \n",
       "\n",
       "  room_type_reserved  lead_time  arrival_year  arrival_month  arrival_date  \\\n",
       "0        Room_Type 1        224          2017             10             2   \n",
       "1        Room_Type 1          5          2018             11             6   \n",
       "2        Room_Type 1          1          2018              2            28   \n",
       "3        Room_Type 1        211          2018              5            20   \n",
       "4        Room_Type 1         48          2018              4            11   \n",
       "\n",
       "  market_segment_type  repeated_guest  no_of_previous_cancellations  \\\n",
       "0             Offline               0                             0   \n",
       "1              Online               0                             0   \n",
       "2              Online               0                             0   \n",
       "3              Online               0                             0   \n",
       "4              Online               0                             0   \n",
       "\n",
       "   no_of_previous_bookings_not_canceled  avg_price_per_room  \\\n",
       "0                                     0               65.00   \n",
       "1                                     0              106.68   \n",
       "2                                     0               60.00   \n",
       "3                                     0              100.00   \n",
       "4                                     0               94.50   \n",
       "\n",
       "   no_of_special_requests  booking_status  \n",
       "0                       0               1  \n",
       "1                       1               1  \n",
       "2                       0               0  \n",
       "3                       0               0  \n",
       "4                       0               0  "
      ]
     },
     "execution_count": 5,
     "metadata": {},
     "output_type": "execute_result"
    }
   ],
   "source": [
    "hotels.head()"
   ]
  },
  {
   "cell_type": "code",
   "execution_count": 6,
   "id": "aa3c2a5a",
   "metadata": {},
   "outputs": [],
   "source": [
    "# Split train and test datasets\n",
    "y = hotels.booking_status\n",
    "X = hotels.drop('booking_status', axis = 1)\n",
    "X_train, X_test, y_train, y_test = train_test_split(X, y, test_size=0.25, random_state=0, shuffle=True, stratify=y)\n",
    "train, test = train_test_split(hotels, test_size=0.25, random_state=25, shuffle=True, stratify=y)"
   ]
  },
  {
   "cell_type": "markdown",
   "id": "329f2fd6",
   "metadata": {},
   "source": [
    "# Developing Baseline Model"
   ]
  },
  {
   "cell_type": "code",
   "execution_count": 7,
   "id": "cdf6bc58",
   "metadata": {},
   "outputs": [],
   "source": [
    "# forward error - try fixing the error\n",
    "# compare number of 1 and 0 in test dataset and that predicted by the model\n",
    "# This baseline model is all the predictors so we will try to manipulate it - yes can do interaction\n",
    "    # Justify the interaction with the variable selection methods\n",
    "    # Variable selection is a good place to start\n"
   ]
  },
  {
   "cell_type": "code",
   "execution_count": 49,
   "id": "20942a12",
   "metadata": {},
   "outputs": [
    {
     "name": "stdout",
     "output_type": "stream",
     "text": [
      "Warning: Maximum number of iterations has been exceeded.\n",
      "         Current function value: 0.422790\n",
      "         Iterations: 35\n"
     ]
    },
    {
     "name": "stderr",
     "output_type": "stream",
     "text": [
      "/Users/linhnganguyen/opt/anaconda3/lib/python3.9/site-packages/statsmodels/base/model.py:604: ConvergenceWarning: Maximum Likelihood optimization failed to converge. Check mle_retvals\n",
      "  warnings.warn(\"Maximum Likelihood optimization failed to \"\n"
     ]
    },
    {
     "data": {
      "text/html": [
       "<table class=\"simpletable\">\n",
       "<caption>Logit Regression Results</caption>\n",
       "<tr>\n",
       "  <th>Dep. Variable:</th>    <td>booking_status</td>  <th>  No. Observations:  </th>  <td> 27206</td> \n",
       "</tr>\n",
       "<tr>\n",
       "  <th>Model:</th>                 <td>Logit</td>      <th>  Df Residuals:      </th>  <td> 27178</td> \n",
       "</tr>\n",
       "<tr>\n",
       "  <th>Method:</th>                 <td>MLE</td>       <th>  Df Model:          </th>  <td>    27</td> \n",
       "</tr>\n",
       "<tr>\n",
       "  <th>Date:</th>            <td>Sun, 05 Mar 2023</td> <th>  Pseudo R-squ.:     </th>  <td>0.3316</td> \n",
       "</tr>\n",
       "<tr>\n",
       "  <th>Time:</th>                <td>20:28:17</td>     <th>  Log-Likelihood:    </th> <td> -11502.</td>\n",
       "</tr>\n",
       "<tr>\n",
       "  <th>converged:</th>             <td>False</td>      <th>  LL-Null:           </th> <td> -17208.</td>\n",
       "</tr>\n",
       "<tr>\n",
       "  <th>Covariance Type:</th>     <td>nonrobust</td>    <th>  LLR p-value:       </th>  <td> 0.000</td> \n",
       "</tr>\n",
       "</table>\n",
       "<table class=\"simpletable\">\n",
       "<tr>\n",
       "                    <td></td>                      <th>coef</th>     <th>std err</th>      <th>z</th>      <th>P>|z|</th>  <th>[0.025</th>    <th>0.975]</th>  \n",
       "</tr>\n",
       "<tr>\n",
       "  <th>Intercept</th>                            <td> 1020.6833</td> <td>  118.165</td> <td>    8.638</td> <td> 0.000</td> <td>  789.083</td> <td> 1252.283</td>\n",
       "</tr>\n",
       "<tr>\n",
       "  <th>type_of_meal_plan[T.Meal Plan 2]</th>     <td>   -0.1426</td> <td>    0.065</td> <td>   -2.196</td> <td> 0.028</td> <td>   -0.270</td> <td>   -0.015</td>\n",
       "</tr>\n",
       "<tr>\n",
       "  <th>type_of_meal_plan[T.Meal Plan 3]</th>     <td>  -30.3389</td> <td> 2.54e+06</td> <td>-1.19e-05</td> <td> 1.000</td> <td>-4.98e+06</td> <td> 4.98e+06</td>\n",
       "</tr>\n",
       "<tr>\n",
       "  <th>type_of_meal_plan[T.Not Selected]</th>    <td>   -0.2033</td> <td>    0.051</td> <td>   -3.970</td> <td> 0.000</td> <td>   -0.304</td> <td>   -0.103</td>\n",
       "</tr>\n",
       "<tr>\n",
       "  <th>room_type_reserved[T.Room_Type 2]</th>    <td>    0.3762</td> <td>    0.127</td> <td>    2.953</td> <td> 0.003</td> <td>    0.126</td> <td>    0.626</td>\n",
       "</tr>\n",
       "<tr>\n",
       "  <th>room_type_reserved[T.Room_Type 3]</th>    <td>    0.2561</td> <td>    1.362</td> <td>    0.188</td> <td> 0.851</td> <td>   -2.414</td> <td>    2.926</td>\n",
       "</tr>\n",
       "<tr>\n",
       "  <th>room_type_reserved[T.Room_Type 4]</th>    <td>    0.2663</td> <td>    0.052</td> <td>    5.155</td> <td> 0.000</td> <td>    0.165</td> <td>    0.367</td>\n",
       "</tr>\n",
       "<tr>\n",
       "  <th>room_type_reserved[T.Room_Type 5]</th>    <td>    0.6286</td> <td>    0.199</td> <td>    3.163</td> <td> 0.002</td> <td>    0.239</td> <td>    1.018</td>\n",
       "</tr>\n",
       "<tr>\n",
       "  <th>room_type_reserved[T.Room_Type 6]</th>    <td>    0.7886</td> <td>    0.145</td> <td>    5.438</td> <td> 0.000</td> <td>    0.504</td> <td>    1.073</td>\n",
       "</tr>\n",
       "<tr>\n",
       "  <th>room_type_reserved[T.Room_Type 7]</th>    <td>    1.5009</td> <td>    0.307</td> <td>    4.887</td> <td> 0.000</td> <td>    0.899</td> <td>    2.103</td>\n",
       "</tr>\n",
       "<tr>\n",
       "  <th>market_segment_type[T.Complementary]</th> <td>   49.8044</td> <td> 2.54e+06</td> <td> 1.96e-05</td> <td> 1.000</td> <td>-4.98e+06</td> <td> 4.98e+06</td>\n",
       "</tr>\n",
       "<tr>\n",
       "  <th>market_segment_type[T.Corporate]</th>     <td>    1.2619</td> <td>    0.253</td> <td>    4.985</td> <td> 0.000</td> <td>    0.766</td> <td>    1.758</td>\n",
       "</tr>\n",
       "<tr>\n",
       "  <th>market_segment_type[T.Offline]</th>       <td>    2.1832</td> <td>    0.242</td> <td>    9.039</td> <td> 0.000</td> <td>    1.710</td> <td>    2.657</td>\n",
       "</tr>\n",
       "<tr>\n",
       "  <th>market_segment_type[T.Online]</th>        <td>    0.4034</td> <td>    0.239</td> <td>    1.691</td> <td> 0.091</td> <td>   -0.064</td> <td>    0.871</td>\n",
       "</tr>\n",
       "<tr>\n",
       "  <th>no_of_adults</th>                         <td>   -0.0668</td> <td>    0.036</td> <td>   -1.844</td> <td> 0.065</td> <td>   -0.138</td> <td>    0.004</td>\n",
       "</tr>\n",
       "<tr>\n",
       "  <th>no_of_children</th>                       <td>   -0.1104</td> <td>    0.058</td> <td>   -1.911</td> <td> 0.056</td> <td>   -0.224</td> <td>    0.003</td>\n",
       "</tr>\n",
       "<tr>\n",
       "  <th>no_of_weekend_nights</th>                 <td>   -0.1375</td> <td>    0.019</td> <td>   -7.175</td> <td> 0.000</td> <td>   -0.175</td> <td>   -0.100</td>\n",
       "</tr>\n",
       "<tr>\n",
       "  <th>no_of_week_nights</th>                    <td>   -0.0420</td> <td>    0.012</td> <td>   -3.546</td> <td> 0.000</td> <td>   -0.065</td> <td>   -0.019</td>\n",
       "</tr>\n",
       "<tr>\n",
       "  <th>required_car_parking_space</th>           <td>    1.5982</td> <td>    0.135</td> <td>   11.832</td> <td> 0.000</td> <td>    1.333</td> <td>    1.863</td>\n",
       "</tr>\n",
       "<tr>\n",
       "  <th>lead_time</th>                            <td>   -0.0155</td> <td>    0.000</td> <td>  -60.531</td> <td> 0.000</td> <td>   -0.016</td> <td>   -0.015</td>\n",
       "</tr>\n",
       "<tr>\n",
       "  <th>arrival_year</th>                         <td>   -0.5046</td> <td>    0.059</td> <td>   -8.618</td> <td> 0.000</td> <td>   -0.619</td> <td>   -0.390</td>\n",
       "</tr>\n",
       "<tr>\n",
       "  <th>arrival_month</th>                        <td>    0.0372</td> <td>    0.006</td> <td>    5.938</td> <td> 0.000</td> <td>    0.025</td> <td>    0.049</td>\n",
       "</tr>\n",
       "<tr>\n",
       "  <th>arrival_date</th>                         <td>   -0.0019</td> <td>    0.002</td> <td>   -0.987</td> <td> 0.323</td> <td>   -0.006</td> <td>    0.002</td>\n",
       "</tr>\n",
       "<tr>\n",
       "  <th>repeated_guest</th>                       <td>    2.0632</td> <td>    0.477</td> <td>    4.329</td> <td> 0.000</td> <td>    1.129</td> <td>    2.997</td>\n",
       "</tr>\n",
       "<tr>\n",
       "  <th>no_of_previous_cancellations</th>         <td>   -0.2248</td> <td>    0.068</td> <td>   -3.325</td> <td> 0.001</td> <td>   -0.357</td> <td>   -0.092</td>\n",
       "</tr>\n",
       "<tr>\n",
       "  <th>no_of_previous_bookings_not_canceled</th> <td>    0.0811</td> <td>    0.088</td> <td>    0.919</td> <td> 0.358</td> <td>   -0.092</td> <td>    0.254</td>\n",
       "</tr>\n",
       "<tr>\n",
       "  <th>avg_price_per_room</th>                   <td>   -0.0183</td> <td>    0.001</td> <td>  -25.698</td> <td> 0.000</td> <td>   -0.020</td> <td>   -0.017</td>\n",
       "</tr>\n",
       "<tr>\n",
       "  <th>no_of_special_requests</th>               <td>    1.4974</td> <td>    0.029</td> <td>   51.063</td> <td> 0.000</td> <td>    1.440</td> <td>    1.555</td>\n",
       "</tr>\n",
       "</table>"
      ],
      "text/plain": [
       "<class 'statsmodels.iolib.summary.Summary'>\n",
       "\"\"\"\n",
       "                           Logit Regression Results                           \n",
       "==============================================================================\n",
       "Dep. Variable:         booking_status   No. Observations:                27206\n",
       "Model:                          Logit   Df Residuals:                    27178\n",
       "Method:                           MLE   Df Model:                           27\n",
       "Date:                Sun, 05 Mar 2023   Pseudo R-squ.:                  0.3316\n",
       "Time:                        20:28:17   Log-Likelihood:                -11502.\n",
       "converged:                      False   LL-Null:                       -17208.\n",
       "Covariance Type:            nonrobust   LLR p-value:                     0.000\n",
       "========================================================================================================\n",
       "                                           coef    std err          z      P>|z|      [0.025      0.975]\n",
       "--------------------------------------------------------------------------------------------------------\n",
       "Intercept                             1020.6833    118.165      8.638      0.000     789.083    1252.283\n",
       "type_of_meal_plan[T.Meal Plan 2]        -0.1426      0.065     -2.196      0.028      -0.270      -0.015\n",
       "type_of_meal_plan[T.Meal Plan 3]       -30.3389   2.54e+06  -1.19e-05      1.000   -4.98e+06    4.98e+06\n",
       "type_of_meal_plan[T.Not Selected]       -0.2033      0.051     -3.970      0.000      -0.304      -0.103\n",
       "room_type_reserved[T.Room_Type 2]        0.3762      0.127      2.953      0.003       0.126       0.626\n",
       "room_type_reserved[T.Room_Type 3]        0.2561      1.362      0.188      0.851      -2.414       2.926\n",
       "room_type_reserved[T.Room_Type 4]        0.2663      0.052      5.155      0.000       0.165       0.367\n",
       "room_type_reserved[T.Room_Type 5]        0.6286      0.199      3.163      0.002       0.239       1.018\n",
       "room_type_reserved[T.Room_Type 6]        0.7886      0.145      5.438      0.000       0.504       1.073\n",
       "room_type_reserved[T.Room_Type 7]        1.5009      0.307      4.887      0.000       0.899       2.103\n",
       "market_segment_type[T.Complementary]    49.8044   2.54e+06   1.96e-05      1.000   -4.98e+06    4.98e+06\n",
       "market_segment_type[T.Corporate]         1.2619      0.253      4.985      0.000       0.766       1.758\n",
       "market_segment_type[T.Offline]           2.1832      0.242      9.039      0.000       1.710       2.657\n",
       "market_segment_type[T.Online]            0.4034      0.239      1.691      0.091      -0.064       0.871\n",
       "no_of_adults                            -0.0668      0.036     -1.844      0.065      -0.138       0.004\n",
       "no_of_children                          -0.1104      0.058     -1.911      0.056      -0.224       0.003\n",
       "no_of_weekend_nights                    -0.1375      0.019     -7.175      0.000      -0.175      -0.100\n",
       "no_of_week_nights                       -0.0420      0.012     -3.546      0.000      -0.065      -0.019\n",
       "required_car_parking_space               1.5982      0.135     11.832      0.000       1.333       1.863\n",
       "lead_time                               -0.0155      0.000    -60.531      0.000      -0.016      -0.015\n",
       "arrival_year                            -0.5046      0.059     -8.618      0.000      -0.619      -0.390\n",
       "arrival_month                            0.0372      0.006      5.938      0.000       0.025       0.049\n",
       "arrival_date                            -0.0019      0.002     -0.987      0.323      -0.006       0.002\n",
       "repeated_guest                           2.0632      0.477      4.329      0.000       1.129       2.997\n",
       "no_of_previous_cancellations            -0.2248      0.068     -3.325      0.001      -0.357      -0.092\n",
       "no_of_previous_bookings_not_canceled     0.0811      0.088      0.919      0.358      -0.092       0.254\n",
       "avg_price_per_room                      -0.0183      0.001    -25.698      0.000      -0.020      -0.017\n",
       "no_of_special_requests                   1.4974      0.029     51.063      0.000       1.440       1.555\n",
       "========================================================================================================\n",
       "\"\"\""
      ]
     },
     "execution_count": 49,
     "metadata": {},
     "output_type": "execute_result"
    }
   ],
   "source": [
    "#Baseline model\n",
    "baseline_model = sm.logit('booking_status~no_of_adults+no_of_children+no_of_weekend_nights+no_of_week_nights+\\\n",
    "type_of_meal_plan+required_car_parking_space+room_type_reserved+lead_time+arrival_year+\\\n",
    "arrival_month+arrival_date+market_segment_type+repeated_guest+no_of_previous_cancellations+\\\n",
    "no_of_previous_bookings_not_canceled+avg_price_per_room+no_of_special_requests', data = train).fit()\n",
    "baseline_model.summary()"
   ]
  },
  {
   "cell_type": "code",
   "execution_count": 50,
   "id": "443abfe7",
   "metadata": {},
   "outputs": [],
   "source": [
    "#Function to compute confusion matrix and prediction accuracy on test/train data\n",
    "def confusion_matrix_data(data,actual_values,model,cutoff=0.5):\n",
    "#Predict the values using the Logit model\n",
    "    pred_values = model.predict(data)\n",
    "# Specify the bins\n",
    "    bins=np.array([0,cutoff,1])\n",
    "#Confusion matrix\n",
    "    cm = np.histogram2d(actual_values, pred_values, bins=bins)[0]\n",
    "    cm_df = pd.DataFrame(cm)\n",
    "    cm_df.columns = ['Predicted 0','Predicted 1']\n",
    "    cm_df = cm_df.rename(index={0: 'Actual 0',1:'Actual 1'})\n",
    "# Calculate the accuracy\n",
    "    accuracy = (cm[0,0]+cm[1,1])/cm.sum()\n",
    "    fnr = (cm[1,0])/(cm[1,0]+cm[1,1])\n",
    "    precision = (cm[1,1])/(cm[0,1]+cm[1,1])\n",
    "    fpr = (cm[0,1])/(cm[0,0]+cm[0,1])\n",
    "    tpr = (cm[1,1])/(cm[1,0]+cm[1,1])\n",
    "    fpr_roc, tpr_roc, auc_thresholds = roc_curve(actual_values, pred_values)\n",
    "    auc_value = (auc(fpr_roc, tpr_roc))# AUC of ROC\n",
    "    sns.heatmap(cm_df, annot=True, cmap='Blues', fmt='g')\n",
    "    plt.ylabel(\"Actual Values\")\n",
    "    plt.xlabel(\"Predicted Values\")\n",
    "    print(\"Classification accuracy = {:.1%}\".format(accuracy))\n",
    "    print(\"Precision = {:.1%}\".format(precision))\n",
    "    print(\"TPR or Recall = {:.1%}\".format(tpr))\n",
    "    print(\"FNR = {:.1%}\".format(fnr))\n",
    "    print(\"FPR = {:.1%}\".format(fpr))\n",
    "    print(\"ROC-AUC = {:.1%}\".format(auc_value))"
   ]
  },
  {
   "cell_type": "code",
   "execution_count": 51,
   "id": "5fde0cfe",
   "metadata": {},
   "outputs": [],
   "source": [
    "#Function to compute confusion matrix and prediction accuracy on test/train data\n",
    "def confusion_matrix_accuracy(data,actual_values,model,cutoff=0.5):\n",
    "#Predict the values using the Logit model\n",
    "    pred_values = model.predict(data)\n",
    "# Specify the bins\n",
    "    bins=np.array([0,cutoff,1])\n",
    "#Confusion matrix\n",
    "    cm = np.histogram2d(actual_values, pred_values, bins=bins)[0]\n",
    "    cm_df = pd.DataFrame(cm)\n",
    "    cm_df.columns = ['Predicted 0','Predicted 1']\n",
    "    cm_df = cm_df.rename(index={0: 'Actual 0',1:'Actual 1'})\n",
    "# Calculate the accuracy\n",
    "    accuracy = (cm[0,0]+cm[1,1])/cm.sum()\n",
    "    fnr = (cm[1,0])/(cm[1,0]+cm[1,1])\n",
    "    precision = (cm[1,1])/(cm[0,1]+cm[1,1])\n",
    "    fpr = (cm[0,1])/(cm[0,0]+cm[0,1])\n",
    "    tpr = (cm[1,1])/(cm[1,0]+cm[1,1])\n",
    "    fpr_roc, tpr_roc, auc_thresholds = roc_curve(actual_values, pred_values)\n",
    "    auc_value = (auc(fpr_roc, tpr_roc))# AUC of ROC\n",
    "    sns.heatmap(cm_df, annot=True, cmap='Blues', fmt='g')\n",
    "    plt.ylabel(\"Actual Values\")\n",
    "    plt.xlabel(\"Predicted Values\")\n",
    "    return accuracy"
   ]
  },
  {
   "cell_type": "code",
   "execution_count": 52,
   "id": "ddc30dbd",
   "metadata": {},
   "outputs": [
    {
     "name": "stdout",
     "output_type": "stream",
     "text": [
      "0.8098213629346468 0.54\n"
     ]
    },
    {
     "data": {
      "image/png": "[encoded data removed]",
      "text/plain": [
       "<Figure size 640x480 with 36 Axes>"
      ]
     },
     "metadata": {},
     "output_type": "display_data"
    }
   ],
   "source": [
    "#Calculating best model accuracy and best cutoff \n",
    "best_accuracy = 0\n",
    "best_cutoff = None\n",
    "\n",
    "for cutoff in range(35,70):\n",
    "    cutoff = cutoff / 100\n",
    "    accuracy = confusion_matrix_accuracy(train, train.booking_status, baseline_model, cutoff = cutoff)\n",
    "    \n",
    "    if(accuracy >= best_accuracy):\n",
    "        best_accuracy = accuracy\n",
    "        best_cutoff = cutoff\n",
    "        \n",
    "print(best_accuracy, best_cutoff)"
   ]
  },
  {
   "cell_type": "code",
   "execution_count": 53,
   "id": "14622618",
   "metadata": {},
   "outputs": [
    {
     "name": "stdout",
     "output_type": "stream",
     "text": [
      "Classification accuracy = 81.0%\n",
      "Precision = 84.6%\n",
      "TPR or Recall = 87.6%\n",
      "FNR = 12.4%\n",
      "FPR = 32.6%\n",
      "ROC-AUC = 86.4%\n"
     ]
    },
    {
     "data": {
      "image/png": "[encoded data removed]",
      "text/plain": [
       "<Figure size 640x480 with 2 Axes>"
      ]
     },
     "metadata": {},
     "output_type": "display_data"
    }
   ],
   "source": [
    "#matrix for train data\n",
    "confusion_matrix_data(train, train.booking_status, baseline_model, cutoff = best_cutoff)"
   ]
  },
  {
   "cell_type": "code",
   "execution_count": 54,
   "id": "dcf4917e",
   "metadata": {},
   "outputs": [
    {
     "name": "stdout",
     "output_type": "stream",
     "text": [
      "Classification accuracy = 80.2%\n",
      "Precision = 83.9%\n",
      "TPR or Recall = 87.3%\n",
      "FNR = 12.7%\n",
      "FPR = 34.4%\n",
      "ROC-AUC = 86.2%\n"
     ]
    },
    {
     "data": {
      "image/png": "[encoded data removed]",
      "text/plain": [
       "<Figure size 640x480 with 2 Axes>"
      ]
     },
     "metadata": {},
     "output_type": "display_data"
    }
   ],
   "source": [
    "#matrix for test data\n",
    "confusion_matrix_data(test, test.booking_status, baseline_model, cutoff = best_cutoff)"
   ]
  },
  {
   "cell_type": "markdown",
   "id": "a3a967a5",
   "metadata": {},
   "source": [
    "# Dummy Variables"
   ]
  },
  {
   "cell_type": "code",
   "execution_count": 13,
   "id": "10510985",
   "metadata": {},
   "outputs": [],
   "source": [
    "# playing without dummy - use the original data instead of dummy"
   ]
  },
  {
   "cell_type": "code",
   "execution_count": 14,
   "id": "31ea270f",
   "metadata": {},
   "outputs": [
    {
     "data": {
      "text/html": [
       "<div>\n",
       "<style scoped>\n",
       "    .dataframe tbody tr th:only-of-type {\n",
       "        vertical-align: middle;\n",
       "    }\n",
       "\n",
       "    .dataframe tbody tr th {\n",
       "        vertical-align: top;\n",
       "    }\n",
       "\n",
       "    .dataframe thead th {\n",
       "        text-align: right;\n",
       "    }\n",
       "</style>\n",
       "<table border=\"1\" class=\"dataframe\">\n",
       "  <thead>\n",
       "    <tr style=\"text-align: right;\">\n",
       "      <th></th>\n",
       "      <th>Booking_ID</th>\n",
       "      <th>no_of_adults</th>\n",
       "      <th>no_of_children</th>\n",
       "      <th>no_of_weekend_nights</th>\n",
       "      <th>no_of_week_nights</th>\n",
       "      <th>type_of_meal_plan</th>\n",
       "      <th>required_car_parking_space</th>\n",
       "      <th>room_type_reserved</th>\n",
       "      <th>lead_time</th>\n",
       "      <th>arrival_year</th>\n",
       "      <th>...</th>\n",
       "      <th>12</th>\n",
       "      <th>Meal Plan 1</th>\n",
       "      <th>Meal Plan 2</th>\n",
       "      <th>Not Selected</th>\n",
       "      <th>Room_Type 1</th>\n",
       "      <th>Room_Type 2</th>\n",
       "      <th>Room_Type 3</th>\n",
       "      <th>Room_Type 4</th>\n",
       "      <th>Room_Type 5</th>\n",
       "      <th>Room_Type 6</th>\n",
       "    </tr>\n",
       "  </thead>\n",
       "  <tbody>\n",
       "    <tr>\n",
       "      <th>0</th>\n",
       "      <td>INN00001</td>\n",
       "      <td>2</td>\n",
       "      <td>0</td>\n",
       "      <td>1</td>\n",
       "      <td>2</td>\n",
       "      <td>Meal Plan 1</td>\n",
       "      <td>0</td>\n",
       "      <td>Room_Type 1</td>\n",
       "      <td>224</td>\n",
       "      <td>2017</td>\n",
       "      <td>...</td>\n",
       "      <td>0</td>\n",
       "      <td>1</td>\n",
       "      <td>0</td>\n",
       "      <td>0</td>\n",
       "      <td>1</td>\n",
       "      <td>0</td>\n",
       "      <td>0</td>\n",
       "      <td>0</td>\n",
       "      <td>0</td>\n",
       "      <td>0</td>\n",
       "    </tr>\n",
       "    <tr>\n",
       "      <th>1</th>\n",
       "      <td>INN00002</td>\n",
       "      <td>2</td>\n",
       "      <td>0</td>\n",
       "      <td>2</td>\n",
       "      <td>3</td>\n",
       "      <td>Not Selected</td>\n",
       "      <td>0</td>\n",
       "      <td>Room_Type 1</td>\n",
       "      <td>5</td>\n",
       "      <td>2018</td>\n",
       "      <td>...</td>\n",
       "      <td>0</td>\n",
       "      <td>0</td>\n",
       "      <td>0</td>\n",
       "      <td>1</td>\n",
       "      <td>1</td>\n",
       "      <td>0</td>\n",
       "      <td>0</td>\n",
       "      <td>0</td>\n",
       "      <td>0</td>\n",
       "      <td>0</td>\n",
       "    </tr>\n",
       "    <tr>\n",
       "      <th>2</th>\n",
       "      <td>INN00003</td>\n",
       "      <td>1</td>\n",
       "      <td>0</td>\n",
       "      <td>2</td>\n",
       "      <td>1</td>\n",
       "      <td>Meal Plan 1</td>\n",
       "      <td>0</td>\n",
       "      <td>Room_Type 1</td>\n",
       "      <td>1</td>\n",
       "      <td>2018</td>\n",
       "      <td>...</td>\n",
       "      <td>0</td>\n",
       "      <td>1</td>\n",
       "      <td>0</td>\n",
       "      <td>0</td>\n",
       "      <td>1</td>\n",
       "      <td>0</td>\n",
       "      <td>0</td>\n",
       "      <td>0</td>\n",
       "      <td>0</td>\n",
       "      <td>0</td>\n",
       "    </tr>\n",
       "    <tr>\n",
       "      <th>3</th>\n",
       "      <td>INN00004</td>\n",
       "      <td>2</td>\n",
       "      <td>0</td>\n",
       "      <td>0</td>\n",
       "      <td>2</td>\n",
       "      <td>Meal Plan 1</td>\n",
       "      <td>0</td>\n",
       "      <td>Room_Type 1</td>\n",
       "      <td>211</td>\n",
       "      <td>2018</td>\n",
       "      <td>...</td>\n",
       "      <td>0</td>\n",
       "      <td>1</td>\n",
       "      <td>0</td>\n",
       "      <td>0</td>\n",
       "      <td>1</td>\n",
       "      <td>0</td>\n",
       "      <td>0</td>\n",
       "      <td>0</td>\n",
       "      <td>0</td>\n",
       "      <td>0</td>\n",
       "    </tr>\n",
       "    <tr>\n",
       "      <th>4</th>\n",
       "      <td>INN00005</td>\n",
       "      <td>2</td>\n",
       "      <td>0</td>\n",
       "      <td>1</td>\n",
       "      <td>1</td>\n",
       "      <td>Not Selected</td>\n",
       "      <td>0</td>\n",
       "      <td>Room_Type 1</td>\n",
       "      <td>48</td>\n",
       "      <td>2018</td>\n",
       "      <td>...</td>\n",
       "      <td>0</td>\n",
       "      <td>0</td>\n",
       "      <td>0</td>\n",
       "      <td>1</td>\n",
       "      <td>1</td>\n",
       "      <td>0</td>\n",
       "      <td>0</td>\n",
       "      <td>0</td>\n",
       "      <td>0</td>\n",
       "      <td>0</td>\n",
       "    </tr>\n",
       "  </tbody>\n",
       "</table>\n",
       "<p>5 rows × 43 columns</p>\n",
       "</div>"
      ],
      "text/plain": [
       "  Booking_ID  no_of_adults  no_of_children  no_of_weekend_nights  \\\n",
       "0   INN00001             2               0                     1   \n",
       "1   INN00002             2               0                     2   \n",
       "2   INN00003             1               0                     2   \n",
       "3   INN00004             2               0                     0   \n",
       "4   INN00005             2               0                     1   \n",
       "\n",
       "   no_of_week_nights type_of_meal_plan  required_car_parking_space  \\\n",
       "0                  2       Meal Plan 1                           0   \n",
       "1                  3      Not Selected                           0   \n",
       "2                  1       Meal Plan 1                           0   \n",
       "3                  2       Meal Plan 1                           0   \n",
       "4                  1      Not Selected                           0   \n",
       "\n",
       "  room_type_reserved  lead_time  arrival_year  ...  12  Meal Plan 1  \\\n",
       "0        Room_Type 1        224          2017  ...   0            1   \n",
       "1        Room_Type 1          5          2018  ...   0            0   \n",
       "2        Room_Type 1          1          2018  ...   0            1   \n",
       "3        Room_Type 1        211          2018  ...   0            1   \n",
       "4        Room_Type 1         48          2018  ...   0            0   \n",
       "\n",
       "  Meal Plan 2  Not Selected  Room_Type 1  Room_Type 2  Room_Type 3  \\\n",
       "0           0             0            1            0            0   \n",
       "1           0             1            1            0            0   \n",
       "2           0             0            1            0            0   \n",
       "3           0             0            1            0            0   \n",
       "4           0             1            1            0            0   \n",
       "\n",
       "   Room_Type 4  Room_Type 5  Room_Type 6  \n",
       "0            0            0            0  \n",
       "1            0            0            0  \n",
       "2            0            0            0  \n",
       "3            0            0            0  \n",
       "4            0            0            0  \n",
       "\n",
       "[5 rows x 43 columns]"
      ]
     },
     "execution_count": 14,
     "metadata": {},
     "output_type": "execute_result"
    }
   ],
   "source": [
    "# Convert categorical variables to dummies and append to df \n",
    "dummy_market = pd.get_dummies(hotels.market_segment_type)\n",
    "dummy_month = pd.get_dummies(hotels.arrival_month)\n",
    "dummy_meal = pd.get_dummies(hotels.type_of_meal_plan)\n",
    "dummy_room = pd.get_dummies(hotels.room_type_reserved)\n",
    "\n",
    "hotels_dummy = pd.concat([hotels, dummy_market.drop('Aviation', axis = 1), dummy_month.drop(4, axis = 1), dummy_meal.drop('Meal Plan 3', axis = 1), dummy_room.drop('Room_Type 7', axis = 1)], axis = 1)\n",
    "hotels_dummy.columns = hotels_dummy.columns.astype(str)\n",
    "hotels_dummy.head()"
   ]
  },
  {
   "cell_type": "code",
   "execution_count": 15,
   "id": "0e95bc39",
   "metadata": {},
   "outputs": [],
   "source": [
    "# Split train and test datasets with dummies\n",
    "y = hotels_dummy.booking_status\n",
    "X = hotels_dummy.drop('booking_status', axis = 1)\n",
    "X_train, X_test, y_train, y_test = train_test_split(X, y, test_size=0.25, random_state=0, shuffle=True, stratify=y)\n",
    "train, test = train_test_split(hotels_dummy, test_size=0.25, random_state=25, shuffle=True, stratify=y)"
   ]
  },
  {
   "cell_type": "code",
   "execution_count": 33,
   "id": "11cd23e8",
   "metadata": {},
   "outputs": [],
   "source": [
    "#extracting 2017 arrivals\n",
    "svnteen_train = train[train['arrival_year'] == 2017]\n",
    "\n",
    "svnteen_date = svnteen_train.groupby(hotels.arrival_date)\n",
    "#extracting 2018 arrivals \n",
    "eiteen_train = train[train['arrival_year'] == 2018]"
   ]
  },
  {
   "cell_type": "code",
   "execution_count": 34,
   "id": "5a772965",
   "metadata": {},
   "outputs": [
    {
     "name": "stdout",
     "output_type": "stream",
     "text": [
      "Optimization terminated successfully.\n",
      "         Current function value: 0.466366\n",
      "         Iterations 11\n"
     ]
    },
    {
     "data": {
      "text/html": [
       "<table class=\"simpletable\">\n",
       "<caption>Logit Regression Results</caption>\n",
       "<tr>\n",
       "  <th>Dep. Variable:</th>    <td>booking_status</td>  <th>  No. Observations:  </th>  <td> 27206</td> \n",
       "</tr>\n",
       "<tr>\n",
       "  <th>Model:</th>                 <td>Logit</td>      <th>  Df Residuals:      </th>  <td> 27192</td> \n",
       "</tr>\n",
       "<tr>\n",
       "  <th>Method:</th>                 <td>MLE</td>       <th>  Df Model:          </th>  <td>    13</td> \n",
       "</tr>\n",
       "<tr>\n",
       "  <th>Date:</th>            <td>Sun, 05 Mar 2023</td> <th>  Pseudo R-squ.:     </th>  <td>0.2627</td> \n",
       "</tr>\n",
       "<tr>\n",
       "  <th>Time:</th>                <td>18:56:15</td>     <th>  Log-Likelihood:    </th> <td> -12688.</td>\n",
       "</tr>\n",
       "<tr>\n",
       "  <th>converged:</th>             <td>True</td>       <th>  LL-Null:           </th> <td> -17208.</td>\n",
       "</tr>\n",
       "<tr>\n",
       "  <th>Covariance Type:</th>     <td>nonrobust</td>    <th>  LLR p-value:       </th>  <td> 0.000</td> \n",
       "</tr>\n",
       "</table>\n",
       "<table class=\"simpletable\">\n",
       "<tr>\n",
       "                                  <td></td>                                     <th>coef</th>     <th>std err</th>      <th>z</th>      <th>P>|z|</th>  <th>[0.025</th>    <th>0.975]</th>  \n",
       "</tr>\n",
       "<tr>\n",
       "  <th>Intercept</th>                                                         <td>    5.3143</td> <td>    0.219</td> <td>   24.243</td> <td> 0.000</td> <td>    4.885</td> <td>    5.744</td>\n",
       "</tr>\n",
       "<tr>\n",
       "  <th>no_of_special_requests</th>                                            <td>    1.1224</td> <td>    0.025</td> <td>   44.296</td> <td> 0.000</td> <td>    1.073</td> <td>    1.172</td>\n",
       "</tr>\n",
       "<tr>\n",
       "  <th>lead_time</th>                                                         <td>   -0.0127</td> <td>    0.000</td> <td>  -60.848</td> <td> 0.000</td> <td>   -0.013</td> <td>   -0.012</td>\n",
       "</tr>\n",
       "<tr>\n",
       "  <th>no_of_weekend_nights</th>                                              <td>   -0.0697</td> <td>    0.029</td> <td>   -2.409</td> <td> 0.016</td> <td>   -0.126</td> <td>   -0.013</td>\n",
       "</tr>\n",
       "<tr>\n",
       "  <th>no_of_week_nights</th>                                                 <td>    0.0221</td> <td>    0.018</td> <td>    1.252</td> <td> 0.211</td> <td>   -0.012</td> <td>    0.057</td>\n",
       "</tr>\n",
       "<tr>\n",
       "  <th>no_of_weekend_nights:no_of_week_nights</th>                            <td>   -0.0453</td> <td>    0.008</td> <td>   -5.757</td> <td> 0.000</td> <td>   -0.061</td> <td>   -0.030</td>\n",
       "</tr>\n",
       "<tr>\n",
       "  <th>no_of_previous_cancellations</th>                                      <td>   -0.0070</td> <td>    0.070</td> <td>   -0.101</td> <td> 0.920</td> <td>   -0.144</td> <td>    0.130</td>\n",
       "</tr>\n",
       "<tr>\n",
       "  <th>no_of_previous_bookings_not_canceled</th>                              <td>    0.6133</td> <td>    0.174</td> <td>    3.522</td> <td> 0.000</td> <td>    0.272</td> <td>    0.955</td>\n",
       "</tr>\n",
       "<tr>\n",
       "  <th>no_of_previous_cancellations:no_of_previous_bookings_not_canceled</th> <td>   -0.0501</td> <td>    0.021</td> <td>   -2.393</td> <td> 0.017</td> <td>   -0.091</td> <td>   -0.009</td>\n",
       "</tr>\n",
       "<tr>\n",
       "  <th>avg_price_per_room</th>                                                <td>   -0.0327</td> <td>    0.002</td> <td>  -17.483</td> <td> 0.000</td> <td>   -0.036</td> <td>   -0.029</td>\n",
       "</tr>\n",
       "<tr>\n",
       "  <th>no_of_adults</th>                                                      <td>   -0.9304</td> <td>    0.108</td> <td>   -8.596</td> <td> 0.000</td> <td>   -1.143</td> <td>   -0.718</td>\n",
       "</tr>\n",
       "<tr>\n",
       "  <th>avg_price_per_room:no_of_adults</th>                                   <td>    0.0065</td> <td>    0.001</td> <td>    7.298</td> <td> 0.000</td> <td>    0.005</td> <td>    0.008</td>\n",
       "</tr>\n",
       "<tr>\n",
       "  <th>no_of_children</th>                                                    <td>   -0.7589</td> <td>    0.121</td> <td>   -6.252</td> <td> 0.000</td> <td>   -0.997</td> <td>   -0.521</td>\n",
       "</tr>\n",
       "<tr>\n",
       "  <th>avg_price_per_room:no_of_children</th>                                 <td>    0.0049</td> <td>    0.001</td> <td>    6.547</td> <td> 0.000</td> <td>    0.003</td> <td>    0.006</td>\n",
       "</tr>\n",
       "</table>"
      ],
      "text/plain": [
       "<class 'statsmodels.iolib.summary.Summary'>\n",
       "\"\"\"\n",
       "                           Logit Regression Results                           \n",
       "==============================================================================\n",
       "Dep. Variable:         booking_status   No. Observations:                27206\n",
       "Model:                          Logit   Df Residuals:                    27192\n",
       "Method:                           MLE   Df Model:                           13\n",
       "Date:                Sun, 05 Mar 2023   Pseudo R-squ.:                  0.2627\n",
       "Time:                        18:56:15   Log-Likelihood:                -12688.\n",
       "converged:                       True   LL-Null:                       -17208.\n",
       "Covariance Type:            nonrobust   LLR p-value:                     0.000\n",
       "=====================================================================================================================================\n",
       "                                                                        coef    std err          z      P>|z|      [0.025      0.975]\n",
       "-------------------------------------------------------------------------------------------------------------------------------------\n",
       "Intercept                                                             5.3143      0.219     24.243      0.000       4.885       5.744\n",
       "no_of_special_requests                                                1.1224      0.025     44.296      0.000       1.073       1.172\n",
       "lead_time                                                            -0.0127      0.000    -60.848      0.000      -0.013      -0.012\n",
       "no_of_weekend_nights                                                 -0.0697      0.029     -2.409      0.016      -0.126      -0.013\n",
       "no_of_week_nights                                                     0.0221      0.018      1.252      0.211      -0.012       0.057\n",
       "no_of_weekend_nights:no_of_week_nights                               -0.0453      0.008     -5.757      0.000      -0.061      -0.030\n",
       "no_of_previous_cancellations                                         -0.0070      0.070     -0.101      0.920      -0.144       0.130\n",
       "no_of_previous_bookings_not_canceled                                  0.6133      0.174      3.522      0.000       0.272       0.955\n",
       "no_of_previous_cancellations:no_of_previous_bookings_not_canceled    -0.0501      0.021     -2.393      0.017      -0.091      -0.009\n",
       "avg_price_per_room                                                   -0.0327      0.002    -17.483      0.000      -0.036      -0.029\n",
       "no_of_adults                                                         -0.9304      0.108     -8.596      0.000      -1.143      -0.718\n",
       "avg_price_per_room:no_of_adults                                       0.0065      0.001      7.298      0.000       0.005       0.008\n",
       "no_of_children                                                       -0.7589      0.121     -6.252      0.000      -0.997      -0.521\n",
       "avg_price_per_room:no_of_children                                     0.0049      0.001      6.547      0.000       0.003       0.006\n",
       "=====================================================================================================================================\n",
       "\"\"\""
      ]
     },
     "execution_count": 34,
     "metadata": {},
     "output_type": "execute_result"
    }
   ],
   "source": [
    "# Logistic regression model with dummy variables \n",
    "logit_model = sm.logit('booking_status~no_of_special_requests+lead_time+no_of_weekend_nights+\\\n",
    "no_of_weekend_nights*no_of_week_nights+no_of_previous_cancellations+\\\n",
    "no_of_previous_cancellations*no_of_previous_bookings_not_canceled+\\\n",
    "avg_price_per_room+avg_price_per_room*no_of_adults+avg_price_per_room*no_of_children', data = train).fit()\n",
    "logit_model.summary()"
   ]
  },
  {
   "cell_type": "code",
   "execution_count": 35,
   "id": "c288ef92",
   "metadata": {},
   "outputs": [
    {
     "data": {
      "text/plain": [
       "549      0.729008\n",
       "24662    0.102562\n",
       "28933    0.450126\n",
       "34900    0.900384\n",
       "5012     0.581289\n",
       "           ...   \n",
       "19403    0.815915\n",
       "32857    0.812025\n",
       "27416    0.846245\n",
       "32819    0.890258\n",
       "31659    0.699469\n",
       "Length: 4842, dtype: float64"
      ]
     },
     "execution_count": 35,
     "metadata": {},
     "output_type": "execute_result"
    }
   ],
   "source": [
    "predictions_17 = logit_model.predict(svnteen_train)\n",
    "#predictions_17 = (predictions_17>best_cutoff).astype(int)\n",
    "predictions_17"
   ]
  },
  {
   "cell_type": "code",
   "execution_count": 36,
   "id": "69246fba",
   "metadata": {},
   "outputs": [
    {
     "data": {
      "text/plain": [
       "<AxesSubplot:ylabel='booking_status'>"
      ]
     },
     "execution_count": 36,
     "metadata": {},
     "output_type": "execute_result"
    },
    {
     "data": {
      "image/png": "[encoded data removed]",
      "text/plain": [
       "<Figure size 640x480 with 1 Axes>"
      ]
     },
     "metadata": {},
     "output_type": "display_data"
    }
   ],
   "source": [
    "sns.scatterplot(x=predictions_17, y=svnteen_train.booking_status, color=\"orange\")\n",
    "#I really think I'm graphing this wrong or approaching this the wrong way\n",
    "#Next steps: graph time on X and residuals on y... but does graphing residuals of a binary response make sense??"
   ]
  },
  {
   "cell_type": "code",
   "execution_count": 37,
   "id": "008de556",
   "metadata": {},
   "outputs": [],
   "source": [
    "cols=[hotels.arrival_year, hotels.arrival_month, hotels.arrival_date]\n",
    "hotels['date'] = hotels.apply(lambda x: str(x.arrival_year) + \"-\" + str(x.arrival_month) + \"-\" + str(x.arrival_date), axis=\"columns\")\n",
    "hotels['date']=pd.to_datetime(hotels['date'], infer_datetime_format = True, errors=\"coerce\")"
   ]
  },
  {
   "cell_type": "markdown",
   "id": "4cca354d",
   "metadata": {},
   "source": [
    "# Autocorrelation attempts\n",
    "\n",
    "Since logistic regression does not utilize residuals, we cannot really use autocorrelation. However, there might be some correlation between month with the number of cancellation, so we attempted to look into that relationship.\n",
    "\n",
    "First, I want to look at the different months and see number of overall booking as well as the number of cancellation for each month"
   ]
  },
  {
   "cell_type": "code",
   "execution_count": 38,
   "id": "2e29b2cb",
   "metadata": {},
   "outputs": [
    {
     "data": {
      "text/plain": [
       "arrival_month  booking_status\n",
       "1              1                  990\n",
       "               0                   24\n",
       "2              1                 1274\n",
       "               0                  430\n",
       "3              1                 1658\n",
       "               0                  700\n",
       "4              1                 1741\n",
       "               0                  995\n",
       "5              1                 1650\n",
       "               0                  948\n",
       "6              1                 1912\n",
       "               0                 1291\n",
       "7              1                 1606\n",
       "               0                 1314\n",
       "8              1                 2325\n",
       "               0                 1488\n",
       "9              1                 3073\n",
       "               0                 1538\n",
       "10             1                 3437\n",
       "               0                 1880\n",
       "11             1                 2105\n",
       "               0                  875\n",
       "12             1                 2619\n",
       "               0                  402\n",
       "Name: booking_status, dtype: int64"
      ]
     },
     "execution_count": 38,
     "metadata": {},
     "output_type": "execute_result"
    }
   ],
   "source": [
    "monthly_cancel = hotels.groupby(hotels.arrival_month).booking_status.value_counts()\n",
    "monthly_cancel"
   ]
  },
  {
   "cell_type": "code",
   "execution_count": 27,
   "id": "fd6a9b0e",
   "metadata": {},
   "outputs": [
    {
     "data": {
      "text/html": [
       "<div>\n",
       "<style scoped>\n",
       "    .dataframe tbody tr th:only-of-type {\n",
       "        vertical-align: middle;\n",
       "    }\n",
       "\n",
       "    .dataframe tbody tr th {\n",
       "        vertical-align: top;\n",
       "    }\n",
       "\n",
       "    .dataframe thead th {\n",
       "        text-align: right;\n",
       "    }\n",
       "</style>\n",
       "<table border=\"1\" class=\"dataframe\">\n",
       "  <thead>\n",
       "    <tr style=\"text-align: right;\">\n",
       "      <th></th>\n",
       "      <th>Did not cancel</th>\n",
       "      <th>Cancelled</th>\n",
       "    </tr>\n",
       "  </thead>\n",
       "  <tbody>\n",
       "    <tr>\n",
       "      <th>Jan</th>\n",
       "      <td>990</td>\n",
       "      <td>24</td>\n",
       "    </tr>\n",
       "    <tr>\n",
       "      <th>Feb</th>\n",
       "      <td>1274</td>\n",
       "      <td>430</td>\n",
       "    </tr>\n",
       "    <tr>\n",
       "      <th>Mar</th>\n",
       "      <td>1658</td>\n",
       "      <td>700</td>\n",
       "    </tr>\n",
       "    <tr>\n",
       "      <th>Apr</th>\n",
       "      <td>1741</td>\n",
       "      <td>995</td>\n",
       "    </tr>\n",
       "    <tr>\n",
       "      <th>May</th>\n",
       "      <td>1650</td>\n",
       "      <td>948</td>\n",
       "    </tr>\n",
       "    <tr>\n",
       "      <th>Jun</th>\n",
       "      <td>1912</td>\n",
       "      <td>1291</td>\n",
       "    </tr>\n",
       "    <tr>\n",
       "      <th>Jul</th>\n",
       "      <td>1606</td>\n",
       "      <td>1314</td>\n",
       "    </tr>\n",
       "    <tr>\n",
       "      <th>Aug</th>\n",
       "      <td>2325</td>\n",
       "      <td>1488</td>\n",
       "    </tr>\n",
       "    <tr>\n",
       "      <th>Sept</th>\n",
       "      <td>3073</td>\n",
       "      <td>1538</td>\n",
       "    </tr>\n",
       "    <tr>\n",
       "      <th>Oct</th>\n",
       "      <td>3437</td>\n",
       "      <td>1880</td>\n",
       "    </tr>\n",
       "    <tr>\n",
       "      <th>Nov</th>\n",
       "      <td>2105</td>\n",
       "      <td>875</td>\n",
       "    </tr>\n",
       "    <tr>\n",
       "      <th>Dec</th>\n",
       "      <td>2619</td>\n",
       "      <td>402</td>\n",
       "    </tr>\n",
       "  </tbody>\n",
       "</table>\n",
       "</div>"
      ],
      "text/plain": [
       "      Did not cancel  Cancelled\n",
       "Jan              990         24\n",
       "Feb             1274        430\n",
       "Mar             1658        700\n",
       "Apr             1741        995\n",
       "May             1650        948\n",
       "Jun             1912       1291\n",
       "Jul             1606       1314\n",
       "Aug             2325       1488\n",
       "Sept            3073       1538\n",
       "Oct             3437       1880\n",
       "Nov             2105        875\n",
       "Dec             2619        402"
      ]
     },
     "execution_count": 27,
     "metadata": {},
     "output_type": "execute_result"
    }
   ],
   "source": [
    "# create DataFrame\n",
    "monthly_cancel = pd.DataFrame({'Did not cancel': [990, 1274, 1658, 1741, 1650, 1912, 1606, 2325, 3073, 3437, 2105, 2619],\n",
    "                   'Cancelled': [24, 430, 700, 995, 948, 1291, 1314, 1488, 1538, 1880, 875, 402]}, \n",
    "                  index=['Jan', 'Feb', 'Mar', 'Apr', 'May', 'Jun', 'Jul', 'Aug', 'Sept', 'Oct', 'Nov', 'Dec'])\n",
    "monthly_cancel"
   ]
  },
  {
   "cell_type": "code",
   "execution_count": 28,
   "id": "dcf91d04",
   "metadata": {},
   "outputs": [
    {
     "data": {
      "image/png": "[encoded data removed]",
      "text/plain": [
       "<Figure size 640x480 with 1 Axes>"
      ]
     },
     "metadata": {},
     "output_type": "display_data"
    }
   ],
   "source": [
    "monthly_cancel.plot(kind='bar', stacked=True, color=['red', 'skyblue'])\n",
    "plt.show()"
   ]
  },
  {
   "cell_type": "markdown",
   "id": "03f92735",
   "metadata": {},
   "source": [
    "We can see that there are more hotel booking around August, September, and October. One way that we can explain this is that INN hotels is a decently cheap hotel and late August to mid October is pretty cheap off-season travel time so many people who want to save money will choose to travel during this time. However, this graph does not help us visualize the rate of cancellation for each month. Therefore I choose create another graph that shows the percentage of cancellation for each month."
   ]
  },
  {
   "cell_type": "code",
   "execution_count": 31,
   "id": "7fddd63c",
   "metadata": {},
   "outputs": [
    {
     "data": {
      "text/html": [
       "<div>\n",
       "<style scoped>\n",
       "    .dataframe tbody tr th:only-of-type {\n",
       "        vertical-align: middle;\n",
       "    }\n",
       "\n",
       "    .dataframe tbody tr th {\n",
       "        vertical-align: top;\n",
       "    }\n",
       "\n",
       "    .dataframe thead th {\n",
       "        text-align: right;\n",
       "    }\n",
       "</style>\n",
       "<table border=\"1\" class=\"dataframe\">\n",
       "  <thead>\n",
       "    <tr style=\"text-align: right;\">\n",
       "      <th></th>\n",
       "      <th>Did not cancel percent</th>\n",
       "      <th>Cancel percent</th>\n",
       "    </tr>\n",
       "  </thead>\n",
       "  <tbody>\n",
       "    <tr>\n",
       "      <th>Jan</th>\n",
       "      <td>0.976331</td>\n",
       "      <td>0.023669</td>\n",
       "    </tr>\n",
       "    <tr>\n",
       "      <th>Feb</th>\n",
       "      <td>0.747653</td>\n",
       "      <td>0.252347</td>\n",
       "    </tr>\n",
       "    <tr>\n",
       "      <th>Mar</th>\n",
       "      <td>0.703138</td>\n",
       "      <td>0.296862</td>\n",
       "    </tr>\n",
       "    <tr>\n",
       "      <th>Apr</th>\n",
       "      <td>0.636330</td>\n",
       "      <td>0.363670</td>\n",
       "    </tr>\n",
       "    <tr>\n",
       "      <th>May</th>\n",
       "      <td>0.635104</td>\n",
       "      <td>0.364896</td>\n",
       "    </tr>\n",
       "  </tbody>\n",
       "</table>\n",
       "</div>"
      ],
      "text/plain": [
       "     Did not cancel percent  Cancel percent\n",
       "Jan                0.976331        0.023669\n",
       "Feb                0.747653        0.252347\n",
       "Mar                0.703138        0.296862\n",
       "Apr                0.636330        0.363670\n",
       "May                0.635104        0.364896"
      ]
     },
     "execution_count": 31,
     "metadata": {},
     "output_type": "execute_result"
    }
   ],
   "source": [
    "monthly_cancel_percent = monthly_cancel.copy()\n",
    "monthly_cancel_percent['Total'] = monthly_cancel_percent['Did not cancel'] + monthly_cancel_percent['Cancelled']\n",
    "monthly_cancel_percent['Did not cancel percent'] = monthly_cancel_percent['Did not cancel']/monthly_cancel_percent['Total']\n",
    "monthly_cancel_percent['Cancel percent'] = monthly_cancel_percent['Cancelled']/monthly_cancel_percent['Total']\n",
    "monthly_cancel_percent = monthly_cancel_percent.drop(['Did not cancel', 'Cancelled', 'Total'], axis = 1)\n",
    "monthly_cancel_percent.head()"
   ]
  },
  {
   "cell_type": "code",
   "execution_count": 32,
   "id": "d40f2e91",
   "metadata": {},
   "outputs": [
    {
     "data": {
      "image/png": "[encoded data removed]",
      "text/plain": [
       "<Figure size 640x480 with 1 Axes>"
      ]
     },
     "metadata": {},
     "output_type": "display_data"
    }
   ],
   "source": [
    "monthly_cancel_percent.plot(kind='bar', stacked=True, color=['red', 'skyblue'])\n",
    "plt.show()"
   ]
  },
  {
   "cell_type": "markdown",
   "id": "093b2c5c",
   "metadata": {},
   "source": [
    "All of the months have a relatively similar rate of cancellation with the exception of January and December. July has a slightly higher rate of cancellation, but I don't think that it is too significant. Therefore, we can conclude that generally, even though there is a correlation between the totally number of reservations and the month of the year, there seems to be no correlation between the percentage of cancellation. "
   ]
  },
  {
   "cell_type": "code",
   "execution_count": 70,
   "id": "63406aff",
   "metadata": {},
   "outputs": [
    {
     "data": {
      "text/plain": [
       "booking_status                          1.000000\n",
       "no_of_special_requests                  0.253070\n",
       "repeated_guest                          0.107287\n",
       "required_car_parking_space              0.086185\n",
       "no_of_previous_bookings_not_canceled    0.060179\n",
       "no_of_previous_cancellations            0.033728\n",
       "arrival_month                           0.011233\n",
       "arrival_date                           -0.010629\n",
       "no_of_children                         -0.033078\n",
       "no_of_weekend_nights                   -0.061563\n",
       "no_of_adults                           -0.086920\n",
       "no_of_week_nights                      -0.092996\n",
       "avg_price_per_room                     -0.142569\n",
       "arrival_year                           -0.179529\n",
       "lead_time                              -0.438538\n",
       "dtype: float64"
      ]
     },
     "execution_count": 70,
     "metadata": {},
     "output_type": "execute_result"
    }
   ],
   "source": [
    "hotels.corrwith(hotels.booking_status).sort_values(ascending = False)"
   ]
  },
  {
   "cell_type": "markdown",
   "id": "3e907700",
   "metadata": {},
   "source": [
    "Since there are too many variables for me to even run forward or backward selection on my computer. I want to manually knockdown a few of the predictors. First I tried to just choose predictors that have a correlation with booking_status higher than 0.10"
   ]
  },
  {
   "cell_type": "code",
   "execution_count": 71,
   "id": "d668a323",
   "metadata": {},
   "outputs": [
    {
     "name": "stdout",
     "output_type": "stream",
     "text": [
      "Optimization terminated successfully.\n",
      "         Current function value: 0.462980\n",
      "         Iterations 11\n"
     ]
    },
    {
     "data": {
      "text/html": [
       "<table class=\"simpletable\">\n",
       "<caption>Logit Regression Results</caption>\n",
       "<tr>\n",
       "  <th>Dep. Variable:</th>    <td>booking_status</td>  <th>  No. Observations:  </th>  <td> 27206</td> \n",
       "</tr>\n",
       "<tr>\n",
       "  <th>Model:</th>                 <td>Logit</td>      <th>  Df Residuals:      </th>  <td> 27200</td> \n",
       "</tr>\n",
       "<tr>\n",
       "  <th>Method:</th>                 <td>MLE</td>       <th>  Df Model:          </th>  <td>     5</td> \n",
       "</tr>\n",
       "<tr>\n",
       "  <th>Date:</th>            <td>Sun, 05 Mar 2023</td> <th>  Pseudo R-squ.:     </th>  <td>0.2680</td> \n",
       "</tr>\n",
       "<tr>\n",
       "  <th>Time:</th>                <td>20:52:52</td>     <th>  Log-Likelihood:    </th> <td> -12596.</td>\n",
       "</tr>\n",
       "<tr>\n",
       "  <th>converged:</th>             <td>True</td>       <th>  LL-Null:           </th> <td> -17208.</td>\n",
       "</tr>\n",
       "<tr>\n",
       "  <th>Covariance Type:</th>     <td>nonrobust</td>    <th>  LLR p-value:       </th>  <td> 0.000</td> \n",
       "</tr>\n",
       "</table>\n",
       "<table class=\"simpletable\">\n",
       "<tr>\n",
       "             <td></td>               <th>coef</th>     <th>std err</th>      <th>z</th>      <th>P>|z|</th>  <th>[0.025</th>    <th>0.975]</th>  \n",
       "</tr>\n",
       "<tr>\n",
       "  <th>Intercept</th>              <td> 2120.0063</td> <td>  100.315</td> <td>   21.134</td> <td> 0.000</td> <td> 1923.393</td> <td> 2316.620</td>\n",
       "</tr>\n",
       "<tr>\n",
       "  <th>avg_price_per_room</th>     <td>   -0.0173</td> <td>    0.001</td> <td>  -34.582</td> <td> 0.000</td> <td>   -0.018</td> <td>   -0.016</td>\n",
       "</tr>\n",
       "<tr>\n",
       "  <th>arrival_year</th>           <td>   -1.0491</td> <td>    0.050</td> <td>  -21.101</td> <td> 0.000</td> <td>   -1.147</td> <td>   -0.952</td>\n",
       "</tr>\n",
       "<tr>\n",
       "  <th>lead_time</th>              <td>   -0.0124</td> <td>    0.000</td> <td>  -60.020</td> <td> 0.000</td> <td>   -0.013</td> <td>   -0.012</td>\n",
       "</tr>\n",
       "<tr>\n",
       "  <th>no_of_special_requests</th> <td>    1.1171</td> <td>    0.025</td> <td>   44.410</td> <td> 0.000</td> <td>    1.068</td> <td>    1.166</td>\n",
       "</tr>\n",
       "<tr>\n",
       "  <th>repeated_guest</th>         <td>    2.1152</td> <td>    0.291</td> <td>    7.280</td> <td> 0.000</td> <td>    1.546</td> <td>    2.685</td>\n",
       "</tr>\n",
       "</table>"
      ],
      "text/plain": [
       "<class 'statsmodels.iolib.summary.Summary'>\n",
       "\"\"\"\n",
       "                           Logit Regression Results                           \n",
       "==============================================================================\n",
       "Dep. Variable:         booking_status   No. Observations:                27206\n",
       "Model:                          Logit   Df Residuals:                    27200\n",
       "Method:                           MLE   Df Model:                            5\n",
       "Date:                Sun, 05 Mar 2023   Pseudo R-squ.:                  0.2680\n",
       "Time:                        20:52:52   Log-Likelihood:                -12596.\n",
       "converged:                       True   LL-Null:                       -17208.\n",
       "Covariance Type:            nonrobust   LLR p-value:                     0.000\n",
       "==========================================================================================\n",
       "                             coef    std err          z      P>|z|      [0.025      0.975]\n",
       "------------------------------------------------------------------------------------------\n",
       "Intercept               2120.0063    100.315     21.134      0.000    1923.393    2316.620\n",
       "avg_price_per_room        -0.0173      0.001    -34.582      0.000      -0.018      -0.016\n",
       "arrival_year              -1.0491      0.050    -21.101      0.000      -1.147      -0.952\n",
       "lead_time                 -0.0124      0.000    -60.020      0.000      -0.013      -0.012\n",
       "no_of_special_requests     1.1171      0.025     44.410      0.000       1.068       1.166\n",
       "repeated_guest             2.1152      0.291      7.280      0.000       1.546       2.685\n",
       "==========================================================================================\n",
       "\"\"\""
      ]
     },
     "execution_count": 71,
     "metadata": {},
     "output_type": "execute_result"
    }
   ],
   "source": [
    "baseline_model1 = sm.logit('booking_status~avg_price_per_room+arrival_year+lead_time+no_of_special_requests+repeated_guest', data = train).fit()\n",
    "baseline_model1.summary()"
   ]
  },
  {
   "cell_type": "code",
   "execution_count": 72,
   "id": "62da124b",
   "metadata": {},
   "outputs": [
    {
     "name": "stdout",
     "output_type": "stream",
     "text": [
      "Classification accuracy = 78.4%\n",
      "Precision = 81.4%\n",
      "TPR or Recall = 87.9%\n",
      "FNR = 12.1%\n",
      "FPR = 41.1%\n",
      "ROC-AUC = 83.2%\n"
     ]
    },
    {
     "data": {
      "image/png": "[encoded data removed]",
      "text/plain": [
       "<Figure size 640x480 with 2 Axes>"
      ]
     },
     "metadata": {},
     "output_type": "display_data"
    }
   ],
   "source": [
    "#matrix for train data\n",
    "confusion_matrix_data(train, train.booking_status, baseline_model1, cutoff = best_cutoff)"
   ]
  },
  {
   "cell_type": "code",
   "execution_count": 64,
   "id": "f812b631",
   "metadata": {},
   "outputs": [
    {
     "name": "stdout",
     "output_type": "stream",
     "text": [
      "Classification accuracy = 77.9%\n",
      "Precision = 81.0%\n",
      "TPR or Recall = 87.8%\n",
      "FNR = 12.2%\n",
      "FPR = 42.2%\n",
      "ROC-AUC = 82.8%\n"
     ]
    },
    {
     "data": {
      "image/png": "[encoded data removed]",
      "text/plain": [
       "<Figure size 640x480 with 2 Axes>"
      ]
     },
     "metadata": {},
     "output_type": "display_data"
    }
   ],
   "source": [
    "#matrix for train data\n",
    "confusion_matrix_data(test, test.booking_status, baseline_model1, cutoff = best_cutoff)"
   ]
  },
  {
   "cell_type": "markdown",
   "id": "2dd4c3be",
   "metadata": {},
   "source": [
    "This model is not as accurate as the model that we developed earlier. Furthermore, its false positive"
   ]
  },
  {
   "cell_type": "code",
   "execution_count": 66,
   "id": "a2f7742e",
   "metadata": {},
   "outputs": [
    {
     "name": "stdout",
     "output_type": "stream",
     "text": [
      "Optimization terminated successfully.\n",
      "         Current function value: 0.612066\n",
      "         Iterations 14\n"
     ]
    },
    {
     "data": {
      "text/html": [
       "<table class=\"simpletable\">\n",
       "<caption>Logit Regression Results</caption>\n",
       "<tr>\n",
       "  <th>Dep. Variable:</th>    <td>booking_status</td>  <th>  No. Observations:  </th>   <td> 27206</td>  \n",
       "</tr>\n",
       "<tr>\n",
       "  <th>Model:</th>                 <td>Logit</td>      <th>  Df Residuals:      </th>   <td> 27203</td>  \n",
       "</tr>\n",
       "<tr>\n",
       "  <th>Method:</th>                 <td>MLE</td>       <th>  Df Model:          </th>   <td>     2</td>  \n",
       "</tr>\n",
       "<tr>\n",
       "  <th>Date:</th>            <td>Sun, 05 Mar 2023</td> <th>  Pseudo R-squ.:     </th>   <td>0.03231</td> \n",
       "</tr>\n",
       "<tr>\n",
       "  <th>Time:</th>                <td>20:32:33</td>     <th>  Log-Likelihood:    </th>  <td> -16652.</td> \n",
       "</tr>\n",
       "<tr>\n",
       "  <th>converged:</th>             <td>True</td>       <th>  LL-Null:           </th>  <td> -17208.</td> \n",
       "</tr>\n",
       "<tr>\n",
       "  <th>Covariance Type:</th>     <td>nonrobust</td>    <th>  LLR p-value:       </th> <td>3.581e-242</td>\n",
       "</tr>\n",
       "</table>\n",
       "<table class=\"simpletable\">\n",
       "<tr>\n",
       "        <td></td>           <th>coef</th>     <th>std err</th>      <th>z</th>      <th>P>|z|</th>  <th>[0.025</th>    <th>0.975]</th>  \n",
       "</tr>\n",
       "<tr>\n",
       "  <th>Intercept</th>     <td> 2743.8576</td> <td>   90.686</td> <td>   30.257</td> <td> 0.000</td> <td> 2566.116</td> <td> 2921.599</td>\n",
       "</tr>\n",
       "<tr>\n",
       "  <th>arrival_year</th>  <td>   -1.3593</td> <td>    0.045</td> <td>  -30.249</td> <td> 0.000</td> <td>   -1.447</td> <td>   -1.271</td>\n",
       "</tr>\n",
       "<tr>\n",
       "  <th>arrival_month</th> <td>   -0.0408</td> <td>    0.004</td> <td>   -9.252</td> <td> 0.000</td> <td>   -0.049</td> <td>   -0.032</td>\n",
       "</tr>\n",
       "</table>"
      ],
      "text/plain": [
       "<class 'statsmodels.iolib.summary.Summary'>\n",
       "\"\"\"\n",
       "                           Logit Regression Results                           \n",
       "==============================================================================\n",
       "Dep. Variable:         booking_status   No. Observations:                27206\n",
       "Model:                          Logit   Df Residuals:                    27203\n",
       "Method:                           MLE   Df Model:                            2\n",
       "Date:                Sun, 05 Mar 2023   Pseudo R-squ.:                 0.03231\n",
       "Time:                        20:32:33   Log-Likelihood:                -16652.\n",
       "converged:                       True   LL-Null:                       -17208.\n",
       "Covariance Type:            nonrobust   LLR p-value:                3.581e-242\n",
       "=================================================================================\n",
       "                    coef    std err          z      P>|z|      [0.025      0.975]\n",
       "---------------------------------------------------------------------------------\n",
       "Intercept      2743.8576     90.686     30.257      0.000    2566.116    2921.599\n",
       "arrival_year     -1.3593      0.045    -30.249      0.000      -1.447      -1.271\n",
       "arrival_month    -0.0408      0.004     -9.252      0.000      -0.049      -0.032\n",
       "=================================================================================\n",
       "\"\"\""
      ]
     },
     "execution_count": 66,
     "metadata": {},
     "output_type": "execute_result"
    }
   ],
   "source": [
    "#Baseline model\n",
    "baseline_model2 = sm.logit('booking_status~arrival_year+arrival_month', data = train).fit()\n",
    "baseline_model2.summary()"
   ]
  },
  {
   "cell_type": "code",
   "execution_count": 68,
   "id": "1efd361c",
   "metadata": {},
   "outputs": [
    {
     "name": "stdout",
     "output_type": "stream",
     "text": [
      "Classification accuracy = 67.2%\n",
      "Precision = 67.2%\n",
      "TPR or Recall = 100.0%\n",
      "FNR = 0.0%\n",
      "FPR = 100.0%\n",
      "ROC-AUC = 60.3%\n"
     ]
    },
    {
     "data": {
      "image/png": "[encoded data removed]",
      "text/plain": [
       "<Figure size 640x480 with 2 Axes>"
      ]
     },
     "metadata": {},
     "output_type": "display_data"
    }
   ],
   "source": [
    "#matrix for train data\n",
    "confusion_matrix_data(train, train.booking_status, baseline_model2, cutoff = best_cutoff)"
   ]
  },
  {
   "cell_type": "code",
   "execution_count": 69,
   "id": "d47d8d9f",
   "metadata": {},
   "outputs": [
    {
     "name": "stdout",
     "output_type": "stream",
     "text": [
      "Classification accuracy = 67.2%\n",
      "Precision = 67.2%\n",
      "TPR or Recall = 100.0%\n",
      "FNR = 0.0%\n",
      "FPR = 100.0%\n",
      "ROC-AUC = 60.3%\n"
     ]
    },
    {
     "data": {
      "image/png": "[encoded data removed]",
      "text/plain": [
       "<Figure size 640x480 with 2 Axes>"
      ]
     },
     "metadata": {},
     "output_type": "display_data"
    }
   ],
   "source": [
    "#matrix for train data\n",
    "confusion_matrix_data(train, train.booking_status, baseline_model2, cutoff = best_cutoff)"
   ]
  }
 ],
 "metadata": {
  "kernelspec": {
   "display_name": "Python 3 (ipykernel)",
   "language": "python",
   "name": "python3"
  },
  "language_info": {
   "codemirror_mode": {
    "name": "ipython",
    "version": 3
   },
   "file_extension": ".py",
   "mimetype": "text/x-python",
   "name": "python",
   "nbconvert_exporter": "python",
   "pygments_lexer": "ipython3",
   "version": "3.9.15"
  },
  "toc": {
   "base_numbering": 1,
   "nav_menu": {},
   "number_sections": true,
   "sideBar": true,
   "skip_h1_title": false,
   "title_cell": "Table of Contents",
   "title_sidebar": "Contents",
   "toc_cell": false,
   "toc_position": {},
   "toc_section_display": true,
   "toc_window_display": false
  },
  "varInspector": {
   "cols": {
    "lenName": 16,
    "lenType": 16,
    "lenVar": 40
   },
   "kernels_config": {
    "python": {
     "delete_cmd_postfix": "",
     "delete_cmd_prefix": "del ",
     "library": "var_list.py",
     "varRefreshCmd": "print(var_dic_list())"
    },
    "r": {
     "delete_cmd_postfix": ") ",
     "delete_cmd_prefix": "rm(",
     "library": "var_list.r",
     "varRefreshCmd": "cat(var_dic_list()) "
    }
   },
   "types_to_exclude": [
    "module",
    "function",
    "builtin_function_or_method",
    "instance",
    "_Feature"
   ],
   "window_display": false
  }
 },
 "nbformat": 4,
 "nbformat_minor": 5
}
