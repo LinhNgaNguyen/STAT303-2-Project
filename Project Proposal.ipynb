{
 "cells": [
  {
   "cell_type": "raw",
   "id": "33dd6c4c",
   "metadata": {},
   "source": [
    "---\n",
    "title: \"Project proposal\"\n",
    "format: \n",
    "  html:\n",
    "    toc: true\n",
    "    toc-title: Contents\n",
    "    code-fold: show\n",
    "    self-contained: true\n",
    "jupyter: python3\n",
    "---"
   ]
  },
  {
   "cell_type": "markdown",
   "id": "0116f49b",
   "metadata": {},
   "source": [
    "## Instructions {-}\n",
    "\n",
    "1. Please answer the following questions as part of your project proposal.\n",
    "\n",
    "2. Write your answers in the *Markdown* cells of the Jupyter notebook. You don't need to write any code, but if you want to, you may use the *Code* cells.\n",
    "\n",
    "3. Use [Quarto](https://quarto.org/docs/output-formats/html-basics.html) to print the *.ipynb* file as HTML. You will need to open the command prompt, navigate to the directory containing the file, and use the command: `quarto render filename.ipynb --to html`. Submit the HTML file.\n",
    "\n",
    "4. The project proposal is worth 8 points, and is due on **27th January 2023 at 11:59 pm**. \n",
    "\n",
    "5. You must make one submission as a group, and not individually.\n",
    "\n",
    "6. Each team member must have at least **one commit** on the team's github repository. No points will be awarded to the team member(s) with no commits.\n",
    "\n",
    "7. Share the link of your project's GitHub repository [here](https://docs.google.com/spreadsheets/d/1khao3unpj_vsx4kOSg_Zzo77YK1UWL2w73Oa0aAirOo/edit#gid=0)."
   ]
  },
  {
   "cell_type": "markdown",
   "id": "fe7ea9bb",
   "metadata": {},
   "source": [
    "# 1) Team name\n",
    "Mention your team name.\n",
    "\n",
    "*(0 points)*"
   ]
  },
  {
   "cell_type": "markdown",
   "id": "d4d41d3c",
   "metadata": {},
   "source": [
    "anaconda"
   ]
  },
  {
   "cell_type": "markdown",
   "id": "16fccc9b",
   "metadata": {},
   "source": [
    "# 2) Member names\n",
    "Mention the names of your team members.\n",
    "\n",
    "*(0 points)*"
   ]
  },
  {
   "cell_type": "markdown",
   "id": "8a5439a1",
   "metadata": {},
   "source": [
    "Luna Nguyen, Elena Llaguno, Kiara Villalobos-Hernandez, Hoda Fakhari"
   ]
  },
  {
   "cell_type": "markdown",
   "id": "220a6528",
   "metadata": {},
   "source": [
    "# 3) Link to the GitHub repository\n",
    "Share the link of the team's project repository on GitHub.\n",
    "\n",
    "Also, put the link of your project's GitHub repository [here](https://docs.google.com/spreadsheets/d/1khao3unpj_vsx4kOSg_Zzo77YK1UWL2w73Oa0aAirOo/edit#gid=0).\n",
    "\n",
    "We believe there is no harm in having other teams view your GitHub repository. However, if you don't want anyone to see your team's work, you may make the repository *Private* and add your instructor and graduate TA as *Colloborators* in it.\n",
    "\n",
    "*(0 points)*"
   ]
  },
  {
   "cell_type": "markdown",
   "id": "7394681b",
   "metadata": {},
   "source": [
    "https://github.com/LinhNgaNguyen/STAT303-2-Project"
   ]
  },
  {
   "cell_type": "markdown",
   "id": "16c1a490",
   "metadata": {},
   "source": [
    "# 4) Topic\n",
    "Mention the topic of your course project.\n",
    "\n",
    "*(0.25 points)*"
   ]
  },
  {
   "cell_type": "markdown",
   "id": "b1415f4a",
   "metadata": {},
   "source": [
    "Our topic is the likelihood of hotel reservation cancellation based on different predictors, which include hoteal features, such as average price per room, and customer-specific booking details, such as number of days between the date of booking and the arrival date."
   ]
  },
  {
   "cell_type": "markdown",
   "id": "9403cdfb",
   "metadata": {},
   "source": [
    "# 5) Problem statement\n",
    "Explain the problem statement. The problem statement must include:\n",
    "\n",
    "1. The problem\n",
    "\n",
    "2. Is it a regression or classification problem or a combination of both?\n",
    "\n",
    "3. Is it an inference or prediction problem or a combination of both?\n",
    "\n",
    "4. How will you assess model accuracy?\n",
    "\n",
    "  - If it is a classification problem, then which measure(s) will you optimize for your model – precision, recall, false negative rate (FNR), accuracy, ROC-AUC etc., and why?\n",
    "  - If it is a regression problem, then which measure(s) will you optimize for your model – RMSE (Root mean squared error), MAE (mean absolute error), maximum absolute error etc., and why?\n",
    "\n",
    "5. What techniques do you think you may need to use to improve your model? If you have too many variables, some of which are  correlated or collinear, you may need to do variable selection *(techniques for variable selection that you will learn later in the course - stepwise regression, lasso, ridge regression)*. If the variables do not have a linear relationship with the response, or if some of the modeling assumptions are not satisfied, you may need to transform the predictors and/or the response (variable transformation) to obtain a better fit.\n",
    "\n",
    "*(5 points)*"
   ]
  },
  {
   "cell_type": "markdown",
   "id": "081c64e5",
   "metadata": {},
   "source": [
    "1. The problem we are exploring is hotel reservation cancellations. Hotels typically offer free or low-charge cancellation services that may result in loss of profit if abused by customers. If hotels were able to predict the likelihood of cancellation given certain booking details, they may be able to modify their cancellation policy to minimize loss based on customer-specific booking information. Thus, our research question is: What predictors are most indicative that a customer will cancer their reservation?\n",
    "2. This is a classification problem because the response variable we are interested in is whether a customer cancels their hotel reservation or not, which is categorical variable. \n",
    "3. This is an inference problem because we want to analyze the relationship between customer booking characteristics and their likelihood of canceling their hotel reservation to see which predictors have a statistically significant relationship with cancellations. It is also a prediction problem because we want to build a model to predict the likelihood of any random customer canceling their hotel reservation.\n",
    "4. To assess our model's accuracy, we will prioritize limiting false negative rates (predicting that customers will cancel when they really don't) while also maintaining a reasonable false positive rate (predicting they won't cancel and they really do). This will make sure that the hotel minimize their loss when people cancel their reservation.\n",
    "5. We'll probably have to decrease the number of predictors we consider through variable selection to ensure that our model only considers statistically significant predictors. We might also have to transform variables to improve the fit of our model after exploring the nature of the relationship between the response and each predictor."
   ]
  },
  {
   "cell_type": "markdown",
   "id": "9284a996",
   "metadata": {},
   "source": [
    "# 6) Data sources\n",
    "\n",
    "What data sources will you use, and how will the data help answer the questions? Explain.\n",
    "\n",
    "If the data is open source, share the link of the data.\n",
    "\n",
    "*(1 point)*"
   ]
  },
  {
   "cell_type": "markdown",
   "id": "2f6915df",
   "metadata": {},
   "source": [
    "The dataset we are using is linked here: https://www.kaggle.com/datasets/ahsan81/hotel-reservations-classification-dataset\n",
    "\n",
    "This dataset is from Kaggle and includes information about hotel bookings of the INN hotel chain for 36275 observations. The large sample size included in the dataset makes it ideal for both training and testing a model with higher accuracy. The variables included in the dataset are also easily accessible to hotel chains across the world. Thus, the results from the analysis may be beneficial to a many people in the hotel business. "
   ]
  },
  {
   "cell_type": "markdown",
   "id": "cb8a845f",
   "metadata": {},
   "source": [
    "# 7) Stakeholders"
   ]
  },
  {
   "cell_type": "markdown",
   "id": "d39c782c",
   "metadata": {},
   "source": [
    "Who are the stakeholders, and how will your project benefit them? Explain.\n",
    "\n",
    "*(1 point)*"
   ]
  },
  {
   "cell_type": "markdown",
   "id": "9a03688e",
   "metadata": {},
   "source": [
    "Our stakeholders are the INN hotel chain. This consists of the chain and individual hotel management teams as well as other staff.\n",
    "\n",
    "We are suggesting that the hotel should charge the bookings a nonrefundable deposit to ensure that the customers follow through with their bookings. In particular, we will use our past data to identify characteristics of bookings that are most likely to be cancelled. Then, using this data, the hotel can charge a higher nonrefundable deposit for customers that are more likely cancel than those who do not. This would benefit the hotel by minimizing the probability of having empty rooms and losing revenue. However, we also want to note to the hotel chain that charging people with a higher nonrefundable deposit will make customers less willing to book the hotel because the stake is higher."
   ]
  },
  {
   "cell_type": "markdown",
   "id": "57e41b2a",
   "metadata": {},
   "source": [
    "# 8) Results\n",
    "What kind of results do you expect? \n",
    "\n",
    "How much accuracy is required / desired in your model (based on the metric(s) chosen in question 5), such that it is useful to the stakeholders and why?\n",
    "\n",
    "**Hint:** If it is a classification model, then your model must be at least better than random classification. If it is a regression model, then your model must be at least better than trivial models, such as the one with only the intercept term.\n",
    "\n",
    "*(0.5 point)*"
   ]
  },
  {
   "cell_type": "markdown",
   "id": "056763b1",
   "metadata": {},
   "source": [
    "Our results will consist of the predictors that are most indicative of a customer cancelling their hotel reservation. \n",
    "\n",
    "Since we are trying to classify customers into those that will probably cancel their reservations and those who won't, we want our model to be at least more accurate than random classification. In general, a false negative rate and false positive rate close to 0 will indicate high model accuracy. Additionally, a model with recall close to 1 will be more reliable for hotel chains."
   ]
  },
  {
   "cell_type": "markdown",
   "id": "0c874b4f",
   "metadata": {},
   "source": [
    "# 9) Work-split\n",
    "How do you plan to split the project work amongst individual team members?\n",
    "\n",
    "*(0.25 point)*"
   ]
  },
  {
   "cell_type": "markdown",
   "id": "fa68909d",
   "metadata": {},
   "source": [
    "Elena - Will work on variable transformation, identifying key predictors, and adjusting the model to improve model fit\n",
    "\n",
    "Luna - Will focus on increasing accuracy of the model by adjusting predictors considered and other relevant factors\n",
    "\n",
    "Hoda - Will train and test the model and identify metrics indicative of model's efficiency (R-squared, p-values, etc.)\n",
    "\n",
    "Kiara - Will help with data cleaning and quality checking as well as producing relevant visualizations\n",
    "\n",
    "All - Project report and presentation creation"
   ]
  }
 ],
 "metadata": {
  "kernelspec": {
   "display_name": "Python 3 (ipykernel)",
   "language": "python",
   "name": "python3"
  },
  "language_info": {
   "codemirror_mode": {
    "name": "ipython",
    "version": 3
   },
   "file_extension": ".py",
   "mimetype": "text/x-python",
   "name": "python",
   "nbconvert_exporter": "python",
   "pygments_lexer": "ipython3",
   "version": "3.9.13"
  },
  "toc": {
   "base_numbering": 1,
   "nav_menu": {},
   "number_sections": true,
   "sideBar": true,
   "skip_h1_title": false,
   "title_cell": "Table of Contents",
   "title_sidebar": "Contents",
   "toc_cell": false,
   "toc_position": {},
   "toc_section_display": true,
   "toc_window_display": false
  },
  "varInspector": {
   "cols": {
    "lenName": 16,
    "lenType": 16,
    "lenVar": 40
   },
   "kernels_config": {
    "python": {
     "delete_cmd_postfix": "",
     "delete_cmd_prefix": "del ",
     "library": "var_list.py",
     "varRefreshCmd": "print(var_dic_list())"
    },
    "r": {
     "delete_cmd_postfix": ") ",
     "delete_cmd_prefix": "rm(",
     "library": "var_list.r",
     "varRefreshCmd": "cat(var_dic_list()) "
    }
   },
   "types_to_exclude": [
    "module",
    "function",
    "builtin_function_or_method",
    "instance",
    "_Feature"
   ],
   "window_display": false
  }
 },
 "nbformat": 4,
 "nbformat_minor": 5
}
