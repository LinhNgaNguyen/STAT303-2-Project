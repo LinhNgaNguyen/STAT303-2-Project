{
 "cells": [
  {
   "cell_type": "code",
   "execution_count": 1,
   "id": "a0f4eb70",
   "metadata": {
    "ExecuteTime": {
     "end_time": "2023-03-01T21:42:39.657718Z",
     "start_time": "2023-03-01T21:42:33.990491Z"
    }
   },
   "outputs": [],
   "source": [
    "import pandas as pd\n",
    "import numpy as np\n",
    "import seaborn as sns\n",
    "import matplotlib.pyplot as plt\n",
    "import statsmodels.formula.api as sm\n",
    "from sklearn.linear_model import Ridge, RidgeCV, Lasso, LassoCV\n",
    "from sklearn.preprocessing import StandardScaler \n",
    "from sklearn.metrics import r2_score\n",
    "from sklearn.model_selection import train_test_split\n",
    "from sklearn.metrics import roc_curve, auc\n",
    "from sklearn.metrics import precision_recall_curve\n",
    "import itertools\n",
    "import time"
   ]
  },
  {
   "cell_type": "code",
   "execution_count": 2,
   "id": "67c1d50f",
   "metadata": {
    "ExecuteTime": {
     "end_time": "2023-03-01T21:42:43.897511Z",
     "start_time": "2023-03-01T21:42:43.661052Z"
    }
   },
   "outputs": [],
   "source": [
    "df = pd.read_csv(\"Hotel Reservations.csv\")"
   ]
  },
  {
   "cell_type": "markdown",
   "id": "8b53484c",
   "metadata": {},
   "source": [
    "## Primary EDA \n",
    "\n",
    "Includes assessment of variable types, descriptive statistics, correlations, count plots of categorical predictors vs. response, box plots of continuous predictors vs. response. "
   ]
  },
  {
   "cell_type": "code",
   "execution_count": 11,
   "id": "a2a13fdd",
   "metadata": {
    "ExecuteTime": {
     "end_time": "2023-02-28T22:13:31.436760Z",
     "start_time": "2023-02-28T22:13:31.392528Z"
    }
   },
   "outputs": [
    {
     "data": {
      "text/html": [
       "<div>\n",
       "<style scoped>\n",
       "    .dataframe tbody tr th:only-of-type {\n",
       "        vertical-align: middle;\n",
       "    }\n",
       "\n",
       "    .dataframe tbody tr th {\n",
       "        vertical-align: top;\n",
       "    }\n",
       "\n",
       "    .dataframe thead th {\n",
       "        text-align: right;\n",
       "    }\n",
       "</style>\n",
       "<table border=\"1\" class=\"dataframe\">\n",
       "  <thead>\n",
       "    <tr style=\"text-align: right;\">\n",
       "      <th></th>\n",
       "      <th>Booking_ID</th>\n",
       "      <th>no_of_adults</th>\n",
       "      <th>no_of_children</th>\n",
       "      <th>no_of_weekend_nights</th>\n",
       "      <th>no_of_week_nights</th>\n",
       "      <th>type_of_meal_plan</th>\n",
       "      <th>required_car_parking_space</th>\n",
       "      <th>room_type_reserved</th>\n",
       "      <th>lead_time</th>\n",
       "      <th>arrival_year</th>\n",
       "      <th>arrival_month</th>\n",
       "      <th>arrival_date</th>\n",
       "      <th>market_segment_type</th>\n",
       "      <th>repeated_guest</th>\n",
       "      <th>no_of_previous_cancellations</th>\n",
       "      <th>no_of_previous_bookings_not_canceled</th>\n",
       "      <th>avg_price_per_room</th>\n",
       "      <th>no_of_special_requests</th>\n",
       "      <th>booking_status</th>\n",
       "    </tr>\n",
       "  </thead>\n",
       "  <tbody>\n",
       "    <tr>\n",
       "      <th>0</th>\n",
       "      <td>INN00001</td>\n",
       "      <td>2</td>\n",
       "      <td>0</td>\n",
       "      <td>1</td>\n",
       "      <td>2</td>\n",
       "      <td>Meal Plan 1</td>\n",
       "      <td>0</td>\n",
       "      <td>Room_Type 1</td>\n",
       "      <td>224</td>\n",
       "      <td>2017</td>\n",
       "      <td>10</td>\n",
       "      <td>2</td>\n",
       "      <td>Offline</td>\n",
       "      <td>0</td>\n",
       "      <td>0</td>\n",
       "      <td>0</td>\n",
       "      <td>65.00</td>\n",
       "      <td>0</td>\n",
       "      <td>Not_Canceled</td>\n",
       "    </tr>\n",
       "    <tr>\n",
       "      <th>1</th>\n",
       "      <td>INN00002</td>\n",
       "      <td>2</td>\n",
       "      <td>0</td>\n",
       "      <td>2</td>\n",
       "      <td>3</td>\n",
       "      <td>Not Selected</td>\n",
       "      <td>0</td>\n",
       "      <td>Room_Type 1</td>\n",
       "      <td>5</td>\n",
       "      <td>2018</td>\n",
       "      <td>11</td>\n",
       "      <td>6</td>\n",
       "      <td>Online</td>\n",
       "      <td>0</td>\n",
       "      <td>0</td>\n",
       "      <td>0</td>\n",
       "      <td>106.68</td>\n",
       "      <td>1</td>\n",
       "      <td>Not_Canceled</td>\n",
       "    </tr>\n",
       "    <tr>\n",
       "      <th>2</th>\n",
       "      <td>INN00003</td>\n",
       "      <td>1</td>\n",
       "      <td>0</td>\n",
       "      <td>2</td>\n",
       "      <td>1</td>\n",
       "      <td>Meal Plan 1</td>\n",
       "      <td>0</td>\n",
       "      <td>Room_Type 1</td>\n",
       "      <td>1</td>\n",
       "      <td>2018</td>\n",
       "      <td>2</td>\n",
       "      <td>28</td>\n",
       "      <td>Online</td>\n",
       "      <td>0</td>\n",
       "      <td>0</td>\n",
       "      <td>0</td>\n",
       "      <td>60.00</td>\n",
       "      <td>0</td>\n",
       "      <td>Canceled</td>\n",
       "    </tr>\n",
       "    <tr>\n",
       "      <th>3</th>\n",
       "      <td>INN00004</td>\n",
       "      <td>2</td>\n",
       "      <td>0</td>\n",
       "      <td>0</td>\n",
       "      <td>2</td>\n",
       "      <td>Meal Plan 1</td>\n",
       "      <td>0</td>\n",
       "      <td>Room_Type 1</td>\n",
       "      <td>211</td>\n",
       "      <td>2018</td>\n",
       "      <td>5</td>\n",
       "      <td>20</td>\n",
       "      <td>Online</td>\n",
       "      <td>0</td>\n",
       "      <td>0</td>\n",
       "      <td>0</td>\n",
       "      <td>100.00</td>\n",
       "      <td>0</td>\n",
       "      <td>Canceled</td>\n",
       "    </tr>\n",
       "    <tr>\n",
       "      <th>4</th>\n",
       "      <td>INN00005</td>\n",
       "      <td>2</td>\n",
       "      <td>0</td>\n",
       "      <td>1</td>\n",
       "      <td>1</td>\n",
       "      <td>Not Selected</td>\n",
       "      <td>0</td>\n",
       "      <td>Room_Type 1</td>\n",
       "      <td>48</td>\n",
       "      <td>2018</td>\n",
       "      <td>4</td>\n",
       "      <td>11</td>\n",
       "      <td>Online</td>\n",
       "      <td>0</td>\n",
       "      <td>0</td>\n",
       "      <td>0</td>\n",
       "      <td>94.50</td>\n",
       "      <td>0</td>\n",
       "      <td>Canceled</td>\n",
       "    </tr>\n",
       "  </tbody>\n",
       "</table>\n",
       "</div>"
      ],
      "text/plain": [
       "  Booking_ID  no_of_adults  no_of_children  no_of_weekend_nights  \\\n",
       "0   INN00001             2               0                     1   \n",
       "1   INN00002             2               0                     2   \n",
       "2   INN00003             1               0                     2   \n",
       "3   INN00004             2               0                     0   \n",
       "4   INN00005             2               0                     1   \n",
       "\n",
       "   no_of_week_nights type_of_meal_plan  required_car_parking_space  \\\n",
       "0                  2       Meal Plan 1                           0   \n",
       "1                  3      Not Selected                           0   \n",
       "2                  1       Meal Plan 1                           0   \n",
       "3                  2       Meal Plan 1                           0   \n",
       "4                  1      Not Selected                           0   \n",
       "\n",
       "  room_type_reserved  lead_time  arrival_year  arrival_month  arrival_date  \\\n",
       "0        Room_Type 1        224          2017             10             2   \n",
       "1        Room_Type 1          5          2018             11             6   \n",
       "2        Room_Type 1          1          2018              2            28   \n",
       "3        Room_Type 1        211          2018              5            20   \n",
       "4        Room_Type 1         48          2018              4            11   \n",
       "\n",
       "  market_segment_type  repeated_guest  no_of_previous_cancellations  \\\n",
       "0             Offline               0                             0   \n",
       "1              Online               0                             0   \n",
       "2              Online               0                             0   \n",
       "3              Online               0                             0   \n",
       "4              Online               0                             0   \n",
       "\n",
       "   no_of_previous_bookings_not_canceled  avg_price_per_room  \\\n",
       "0                                     0               65.00   \n",
       "1                                     0              106.68   \n",
       "2                                     0               60.00   \n",
       "3                                     0              100.00   \n",
       "4                                     0               94.50   \n",
       "\n",
       "   no_of_special_requests booking_status  \n",
       "0                       0   Not_Canceled  \n",
       "1                       1   Not_Canceled  \n",
       "2                       0       Canceled  \n",
       "3                       0       Canceled  \n",
       "4                       0       Canceled  "
      ]
     },
     "execution_count": 11,
     "metadata": {},
     "output_type": "execute_result"
    }
   ],
   "source": [
    "# Snapshot of data\n",
    "df.head()"
   ]
  },
  {
   "cell_type": "code",
   "execution_count": 15,
   "id": "0f6fd965",
   "metadata": {
    "ExecuteTime": {
     "end_time": "2023-02-28T22:30:23.906615Z",
     "start_time": "2023-02-28T22:30:23.787312Z"
    }
   },
   "outputs": [
    {
     "name": "stdout",
     "output_type": "stream",
     "text": [
      "<class 'pandas.core.frame.DataFrame'>\n",
      "RangeIndex: 36275 entries, 0 to 36274\n",
      "Data columns (total 19 columns):\n",
      " #   Column                                Non-Null Count  Dtype  \n",
      "---  ------                                --------------  -----  \n",
      " 0   Booking_ID                            36275 non-null  object \n",
      " 1   no_of_adults                          36275 non-null  int64  \n",
      " 2   no_of_children                        36275 non-null  int64  \n",
      " 3   no_of_weekend_nights                  36275 non-null  int64  \n",
      " 4   no_of_week_nights                     36275 non-null  int64  \n",
      " 5   type_of_meal_plan                     36275 non-null  object \n",
      " 6   required_car_parking_space            36275 non-null  int64  \n",
      " 7   room_type_reserved                    36275 non-null  object \n",
      " 8   lead_time                             36275 non-null  int64  \n",
      " 9   arrival_year                          36275 non-null  int64  \n",
      " 10  arrival_month                         36275 non-null  int64  \n",
      " 11  arrival_date                          36275 non-null  int64  \n",
      " 12  market_segment_type                   36275 non-null  object \n",
      " 13  repeated_guest                        36275 non-null  int64  \n",
      " 14  no_of_previous_cancellations          36275 non-null  int64  \n",
      " 15  no_of_previous_bookings_not_canceled  36275 non-null  int64  \n",
      " 16  avg_price_per_room                    36275 non-null  float64\n",
      " 17  no_of_special_requests                36275 non-null  int64  \n",
      " 18  booking_status                        36275 non-null  object \n",
      "dtypes: float64(1), int64(13), object(5)\n",
      "memory usage: 5.3+ MB\n"
     ]
    }
   ],
   "source": [
    "# Variable types\n",
    "df.info()"
   ]
  },
  {
   "cell_type": "code",
   "execution_count": 7,
   "id": "c3a7bb7f",
   "metadata": {
    "ExecuteTime": {
     "end_time": "2023-02-28T21:47:17.454001Z",
     "start_time": "2023-02-28T21:47:17.340586Z"
    }
   },
   "outputs": [
    {
     "data": {
      "text/html": [
       "<div>\n",
       "<style scoped>\n",
       "    .dataframe tbody tr th:only-of-type {\n",
       "        vertical-align: middle;\n",
       "    }\n",
       "\n",
       "    .dataframe tbody tr th {\n",
       "        vertical-align: top;\n",
       "    }\n",
       "\n",
       "    .dataframe thead th {\n",
       "        text-align: right;\n",
       "    }\n",
       "</style>\n",
       "<table border=\"1\" class=\"dataframe\">\n",
       "  <thead>\n",
       "    <tr style=\"text-align: right;\">\n",
       "      <th></th>\n",
       "      <th>count</th>\n",
       "      <th>mean</th>\n",
       "      <th>std</th>\n",
       "      <th>min</th>\n",
       "      <th>25%</th>\n",
       "      <th>50%</th>\n",
       "      <th>75%</th>\n",
       "      <th>max</th>\n",
       "    </tr>\n",
       "  </thead>\n",
       "  <tbody>\n",
       "    <tr>\n",
       "      <th>no_of_adults</th>\n",
       "      <td>36275.0</td>\n",
       "      <td>1.844962</td>\n",
       "      <td>0.518715</td>\n",
       "      <td>0.0</td>\n",
       "      <td>2.0</td>\n",
       "      <td>2.00</td>\n",
       "      <td>2.0</td>\n",
       "      <td>4.0</td>\n",
       "    </tr>\n",
       "    <tr>\n",
       "      <th>no_of_children</th>\n",
       "      <td>36275.0</td>\n",
       "      <td>0.105279</td>\n",
       "      <td>0.402648</td>\n",
       "      <td>0.0</td>\n",
       "      <td>0.0</td>\n",
       "      <td>0.00</td>\n",
       "      <td>0.0</td>\n",
       "      <td>10.0</td>\n",
       "    </tr>\n",
       "    <tr>\n",
       "      <th>no_of_weekend_nights</th>\n",
       "      <td>36275.0</td>\n",
       "      <td>0.810724</td>\n",
       "      <td>0.870644</td>\n",
       "      <td>0.0</td>\n",
       "      <td>0.0</td>\n",
       "      <td>1.00</td>\n",
       "      <td>2.0</td>\n",
       "      <td>7.0</td>\n",
       "    </tr>\n",
       "    <tr>\n",
       "      <th>no_of_week_nights</th>\n",
       "      <td>36275.0</td>\n",
       "      <td>2.204300</td>\n",
       "      <td>1.410905</td>\n",
       "      <td>0.0</td>\n",
       "      <td>1.0</td>\n",
       "      <td>2.00</td>\n",
       "      <td>3.0</td>\n",
       "      <td>17.0</td>\n",
       "    </tr>\n",
       "    <tr>\n",
       "      <th>required_car_parking_space</th>\n",
       "      <td>36275.0</td>\n",
       "      <td>0.030986</td>\n",
       "      <td>0.173281</td>\n",
       "      <td>0.0</td>\n",
       "      <td>0.0</td>\n",
       "      <td>0.00</td>\n",
       "      <td>0.0</td>\n",
       "      <td>1.0</td>\n",
       "    </tr>\n",
       "    <tr>\n",
       "      <th>lead_time</th>\n",
       "      <td>36275.0</td>\n",
       "      <td>85.232557</td>\n",
       "      <td>85.930817</td>\n",
       "      <td>0.0</td>\n",
       "      <td>17.0</td>\n",
       "      <td>57.00</td>\n",
       "      <td>126.0</td>\n",
       "      <td>443.0</td>\n",
       "    </tr>\n",
       "    <tr>\n",
       "      <th>arrival_year</th>\n",
       "      <td>36275.0</td>\n",
       "      <td>2017.820427</td>\n",
       "      <td>0.383836</td>\n",
       "      <td>2017.0</td>\n",
       "      <td>2018.0</td>\n",
       "      <td>2018.00</td>\n",
       "      <td>2018.0</td>\n",
       "      <td>2018.0</td>\n",
       "    </tr>\n",
       "    <tr>\n",
       "      <th>arrival_month</th>\n",
       "      <td>36275.0</td>\n",
       "      <td>7.423653</td>\n",
       "      <td>3.069894</td>\n",
       "      <td>1.0</td>\n",
       "      <td>5.0</td>\n",
       "      <td>8.00</td>\n",
       "      <td>10.0</td>\n",
       "      <td>12.0</td>\n",
       "    </tr>\n",
       "    <tr>\n",
       "      <th>arrival_date</th>\n",
       "      <td>36275.0</td>\n",
       "      <td>15.596995</td>\n",
       "      <td>8.740447</td>\n",
       "      <td>1.0</td>\n",
       "      <td>8.0</td>\n",
       "      <td>16.00</td>\n",
       "      <td>23.0</td>\n",
       "      <td>31.0</td>\n",
       "    </tr>\n",
       "    <tr>\n",
       "      <th>repeated_guest</th>\n",
       "      <td>36275.0</td>\n",
       "      <td>0.025637</td>\n",
       "      <td>0.158053</td>\n",
       "      <td>0.0</td>\n",
       "      <td>0.0</td>\n",
       "      <td>0.00</td>\n",
       "      <td>0.0</td>\n",
       "      <td>1.0</td>\n",
       "    </tr>\n",
       "    <tr>\n",
       "      <th>no_of_previous_cancellations</th>\n",
       "      <td>36275.0</td>\n",
       "      <td>0.023349</td>\n",
       "      <td>0.368331</td>\n",
       "      <td>0.0</td>\n",
       "      <td>0.0</td>\n",
       "      <td>0.00</td>\n",
       "      <td>0.0</td>\n",
       "      <td>13.0</td>\n",
       "    </tr>\n",
       "    <tr>\n",
       "      <th>no_of_previous_bookings_not_canceled</th>\n",
       "      <td>36275.0</td>\n",
       "      <td>0.153411</td>\n",
       "      <td>1.754171</td>\n",
       "      <td>0.0</td>\n",
       "      <td>0.0</td>\n",
       "      <td>0.00</td>\n",
       "      <td>0.0</td>\n",
       "      <td>58.0</td>\n",
       "    </tr>\n",
       "    <tr>\n",
       "      <th>avg_price_per_room</th>\n",
       "      <td>36275.0</td>\n",
       "      <td>103.423539</td>\n",
       "      <td>35.089424</td>\n",
       "      <td>0.0</td>\n",
       "      <td>80.3</td>\n",
       "      <td>99.45</td>\n",
       "      <td>120.0</td>\n",
       "      <td>540.0</td>\n",
       "    </tr>\n",
       "    <tr>\n",
       "      <th>no_of_special_requests</th>\n",
       "      <td>36275.0</td>\n",
       "      <td>0.619655</td>\n",
       "      <td>0.786236</td>\n",
       "      <td>0.0</td>\n",
       "      <td>0.0</td>\n",
       "      <td>0.00</td>\n",
       "      <td>1.0</td>\n",
       "      <td>5.0</td>\n",
       "    </tr>\n",
       "  </tbody>\n",
       "</table>\n",
       "</div>"
      ],
      "text/plain": [
       "                                        count         mean        std     min  \\\n",
       "no_of_adults                          36275.0     1.844962   0.518715     0.0   \n",
       "no_of_children                        36275.0     0.105279   0.402648     0.0   \n",
       "no_of_weekend_nights                  36275.0     0.810724   0.870644     0.0   \n",
       "no_of_week_nights                     36275.0     2.204300   1.410905     0.0   \n",
       "required_car_parking_space            36275.0     0.030986   0.173281     0.0   \n",
       "lead_time                             36275.0    85.232557  85.930817     0.0   \n",
       "arrival_year                          36275.0  2017.820427   0.383836  2017.0   \n",
       "arrival_month                         36275.0     7.423653   3.069894     1.0   \n",
       "arrival_date                          36275.0    15.596995   8.740447     1.0   \n",
       "repeated_guest                        36275.0     0.025637   0.158053     0.0   \n",
       "no_of_previous_cancellations          36275.0     0.023349   0.368331     0.0   \n",
       "no_of_previous_bookings_not_canceled  36275.0     0.153411   1.754171     0.0   \n",
       "avg_price_per_room                    36275.0   103.423539  35.089424     0.0   \n",
       "no_of_special_requests                36275.0     0.619655   0.786236     0.0   \n",
       "\n",
       "                                         25%      50%     75%     max  \n",
       "no_of_adults                             2.0     2.00     2.0     4.0  \n",
       "no_of_children                           0.0     0.00     0.0    10.0  \n",
       "no_of_weekend_nights                     0.0     1.00     2.0     7.0  \n",
       "no_of_week_nights                        1.0     2.00     3.0    17.0  \n",
       "required_car_parking_space               0.0     0.00     0.0     1.0  \n",
       "lead_time                               17.0    57.00   126.0   443.0  \n",
       "arrival_year                          2018.0  2018.00  2018.0  2018.0  \n",
       "arrival_month                            5.0     8.00    10.0    12.0  \n",
       "arrival_date                             8.0    16.00    23.0    31.0  \n",
       "repeated_guest                           0.0     0.00     0.0     1.0  \n",
       "no_of_previous_cancellations             0.0     0.00     0.0    13.0  \n",
       "no_of_previous_bookings_not_canceled     0.0     0.00     0.0    58.0  \n",
       "avg_price_per_room                      80.3    99.45   120.0   540.0  \n",
       "no_of_special_requests                   0.0     0.00     1.0     5.0  "
      ]
     },
     "execution_count": 7,
     "metadata": {},
     "output_type": "execute_result"
    }
   ],
   "source": [
    "# Distributions of continuous variables\n",
    "df.describe().T"
   ]
  },
  {
   "cell_type": "code",
   "execution_count": 8,
   "id": "4ef148d6",
   "metadata": {
    "ExecuteTime": {
     "end_time": "2023-02-28T21:48:24.960811Z",
     "start_time": "2023-02-28T21:48:24.878137Z"
    }
   },
   "outputs": [
    {
     "data": {
      "text/plain": [
       "Booking_ID                              0\n",
       "no_of_adults                            0\n",
       "no_of_children                          0\n",
       "no_of_weekend_nights                    0\n",
       "no_of_week_nights                       0\n",
       "type_of_meal_plan                       0\n",
       "required_car_parking_space              0\n",
       "room_type_reserved                      0\n",
       "lead_time                               0\n",
       "arrival_year                            0\n",
       "arrival_month                           0\n",
       "arrival_date                            0\n",
       "market_segment_type                     0\n",
       "repeated_guest                          0\n",
       "no_of_previous_cancellations            0\n",
       "no_of_previous_bookings_not_canceled    0\n",
       "avg_price_per_room                      0\n",
       "no_of_special_requests                  0\n",
       "booking_status                          0\n",
       "dtype: int64"
      ]
     },
     "execution_count": 8,
     "metadata": {},
     "output_type": "execute_result"
    }
   ],
   "source": [
    "# Calculating number of missing variables\n",
    "df.isnull().sum()"
   ]
  },
  {
   "cell_type": "code",
   "execution_count": 13,
   "id": "16171d74",
   "metadata": {
    "ExecuteTime": {
     "end_time": "2023-02-28T22:16:13.878816Z",
     "start_time": "2023-02-28T22:16:10.772631Z"
    }
   },
   "outputs": [
    {
     "data": {
      "image/png": "[encoded data removed]",
      "text/plain": [
       "<Figure size 1008x504 with 2 Axes>"
      ]
     },
     "metadata": {
      "needs_background": "light"
     },
     "output_type": "display_data"
    }
   ],
   "source": [
    "# Determining correlations \n",
    "plt.figure(figsize = (14,7));\n",
    "sns.heatmap(df.corr(), annot = True);"
   ]
  },
  {
   "cell_type": "code",
   "execution_count": 20,
   "id": "8ebb6d55",
   "metadata": {
    "ExecuteTime": {
     "end_time": "2023-02-28T23:02:52.234057Z",
     "start_time": "2023-02-28T23:02:48.268294Z"
    }
   },
   "outputs": [
    {
     "data": {
      "image/png": "[encoded data removed]",
      "text/plain": [
       "<Figure size 1152x1296 with 8 Axes>"
      ]
     },
     "metadata": {
      "needs_background": "light"
     },
     "output_type": "display_data"
    }
   ],
   "source": [
    "# Relationship between categorical variables and response\n",
    "fig, ax = plt.subplots(4, 2, figsize=(16, 18));\n",
    "plt.subplots_adjust(hspace = 0.4, wspace = 0.3);\n",
    "\n",
    "sns.countplot(data=df, x ='repeated_guest', hue=\"booking_status\", ax=ax[0, 0]);\n",
    "sns.countplot(data=df,x='market_segment_type',hue='booking_status', ax=ax[0, 1]);\n",
    "sns.countplot(data=df, x=\"arrival_month\", hue=\"booking_status\", ax=ax[1,0]);\n",
    "sns.countplot(data=df, x=\"arrival_year\",   hue=\"booking_status\", ax=ax[1,1]);\n",
    "sns.countplot(data=df, x=\"type_of_meal_plan\",   hue=\"booking_status\", ax=ax[2,0]);\n",
    "sns.countplot(data=df, x=\"room_type_reserved\",   hue=\"booking_status\", ax=ax[2,1]);\n",
    "sns.countplot(data=df, x=\"required_car_parking_space\",   hue=\"booking_status\", ax=ax[3,0]);\n"
   ]
  },
  {
   "cell_type": "code",
   "execution_count": 22,
   "id": "a18d7fd2",
   "metadata": {
    "ExecuteTime": {
     "end_time": "2023-02-28T23:16:15.979592Z",
     "start_time": "2023-02-28T23:16:14.237824Z"
    }
   },
   "outputs": [
    {
     "data": {
      "image/png": "[encoded data removed]",
      "text/plain": [
       "<Figure size 1152x1296 with 9 Axes>"
      ]
     },
     "metadata": {
      "needs_background": "light"
     },
     "output_type": "display_data"
    }
   ],
   "source": [
    "# Relationship between continuous variables and response\n",
    "fig, ax = plt.subplots(3, 3, figsize=(16, 18));\n",
    "plt.subplots_adjust(hspace = 0.4, wspace = 0.3);\n",
    "\n",
    "sns.boxplot(data=df, x ='avg_price_per_room', y ='booking_status', ax=ax[0, 0]);\n",
    "sns.boxplot(data=df, x ='no_of_special_requests', y ='booking_status', ax=ax[0, 1]).set(ylabel=None);\n",
    "sns.boxplot(data=df, x ='no_of_previous_bookings_not_canceled', y ='booking_status', ax=ax[0, 2]).set(ylabel=None);\n",
    "sns.boxplot(data=df, x ='no_of_previous_cancellations', y ='booking_status', ax=ax[1, 0]);\n",
    "sns.boxplot(data=df, x ='lead_time', y ='booking_status', ax=ax[1, 1]).set(ylabel=None);\n",
    "sns.boxplot(data=df, x ='no_of_week_nights', y ='booking_status', ax=ax[1, 2]).set(ylabel=None);\n",
    "sns.boxplot(data=df, x ='no_of_weekend_nights', y ='booking_status', ax=ax[2, 0]);\n",
    "sns.boxplot(data=df, x ='no_of_children', y ='booking_status', ax=ax[2, 1]).set(ylabel=None);\n",
    "sns.boxplot(data=df, x ='no_of_adults', y ='booking_status', ax=ax[2, 2]).set(ylabel=None);"
   ]
  },
  {
   "cell_type": "code",
   "execution_count": 3,
   "id": "7360ecc9",
   "metadata": {
    "ExecuteTime": {
     "end_time": "2023-03-01T21:43:25.891999Z",
     "start_time": "2023-03-01T21:43:25.836330Z"
    }
   },
   "outputs": [],
   "source": [
    "# Mapping response to 0 (Not Canceled) and 1 (Canceled)\n",
    "df['booking_status'].replace(['Canceled', 'Not_Canceled'],[0, 1], inplace=True)"
   ]
  },
  {
   "cell_type": "code",
   "execution_count": 13,
   "id": "c42f7330",
   "metadata": {
    "ExecuteTime": {
     "end_time": "2023-03-01T23:47:40.216079Z",
     "start_time": "2023-03-01T23:47:40.192060Z"
    }
   },
   "outputs": [
    {
     "data": {
      "text/plain": [
       "1    0.672364\n",
       "0    0.327636\n",
       "Name: booking_status, dtype: float64"
      ]
     },
     "execution_count": 13,
     "metadata": {},
     "output_type": "execute_result"
    }
   ],
   "source": [
    "# Proportion of 0 and 1s\n",
    "df.booking_status.value_counts(1)"
   ]
  },
  {
   "cell_type": "code",
   "execution_count": 14,
   "id": "62308069",
   "metadata": {
    "ExecuteTime": {
     "end_time": "2023-03-01T23:47:43.609325Z",
     "start_time": "2023-03-01T23:47:43.310525Z"
    }
   },
   "outputs": [
    {
     "data": {
      "text/plain": [
       "<AxesSubplot:xlabel='booking_status', ylabel='count'>"
      ]
     },
     "execution_count": 14,
     "metadata": {},
     "output_type": "execute_result"
    },
    {
     "data": {
      "image/png": "[encoded data removed]",
      "text/plain": [
       "<Figure size 432x288 with 1 Axes>"
      ]
     },
     "metadata": {
      "needs_background": "light"
     },
     "output_type": "display_data"
    }
   ],
   "source": [
    "sns.countplot(x = 'booking_status', data = df)"
   ]
  },
  {
   "cell_type": "code",
   "execution_count": 24,
   "id": "450e1f5e",
   "metadata": {
    "ExecuteTime": {
     "end_time": "2023-03-01T00:46:04.895280Z",
     "start_time": "2023-03-01T00:46:04.838951Z"
    }
   },
   "outputs": [
    {
     "data": {
      "text/plain": [
       "no_of_adults                           -0.086920\n",
       "no_of_children                         -0.033078\n",
       "no_of_weekend_nights                   -0.061563\n",
       "no_of_week_nights                      -0.092996\n",
       "required_car_parking_space              0.086185\n",
       "lead_time                              -0.438538\n",
       "arrival_year                           -0.179529\n",
       "arrival_month                           0.011233\n",
       "arrival_date                           -0.010629\n",
       "repeated_guest                          0.107287\n",
       "no_of_previous_cancellations            0.033728\n",
       "no_of_previous_bookings_not_canceled    0.060179\n",
       "avg_price_per_room                     -0.142569\n",
       "no_of_special_requests                  0.253070\n",
       "booking_status                          1.000000\n",
       "dtype: float64"
      ]
     },
     "execution_count": 24,
     "metadata": {},
     "output_type": "execute_result"
    }
   ],
   "source": [
    "# Correlation of variables with response\n",
    "df.corrwith(df.booking_status)"
   ]
  },
  {
   "cell_type": "code",
   "execution_count": 8,
   "id": "48bb84d6",
   "metadata": {
    "ExecuteTime": {
     "end_time": "2023-03-01T22:59:13.424627Z",
     "start_time": "2023-03-01T22:59:13.365400Z"
    },
    "scrolled": true
   },
   "outputs": [
    {
     "data": {
      "text/html": [
       "<div>\n",
       "<style scoped>\n",
       "    .dataframe tbody tr th:only-of-type {\n",
       "        vertical-align: middle;\n",
       "    }\n",
       "\n",
       "    .dataframe tbody tr th {\n",
       "        vertical-align: top;\n",
       "    }\n",
       "\n",
       "    .dataframe thead th {\n",
       "        text-align: right;\n",
       "    }\n",
       "</style>\n",
       "<table border=\"1\" class=\"dataframe\">\n",
       "  <thead>\n",
       "    <tr style=\"text-align: right;\">\n",
       "      <th></th>\n",
       "      <th>Booking_ID</th>\n",
       "      <th>no_of_adults</th>\n",
       "      <th>no_of_children</th>\n",
       "      <th>no_of_weekend_nights</th>\n",
       "      <th>no_of_week_nights</th>\n",
       "      <th>type_of_meal_plan</th>\n",
       "      <th>required_car_parking_space</th>\n",
       "      <th>room_type_reserved</th>\n",
       "      <th>lead_time</th>\n",
       "      <th>arrival_year</th>\n",
       "      <th>...</th>\n",
       "      <th>12</th>\n",
       "      <th>Meal Plan 1</th>\n",
       "      <th>Meal Plan 2</th>\n",
       "      <th>Not Selected</th>\n",
       "      <th>Room_Type 1</th>\n",
       "      <th>Room_Type 2</th>\n",
       "      <th>Room_Type 3</th>\n",
       "      <th>Room_Type 4</th>\n",
       "      <th>Room_Type 5</th>\n",
       "      <th>Room_Type 6</th>\n",
       "    </tr>\n",
       "  </thead>\n",
       "  <tbody>\n",
       "    <tr>\n",
       "      <th>0</th>\n",
       "      <td>INN00001</td>\n",
       "      <td>2</td>\n",
       "      <td>0</td>\n",
       "      <td>1</td>\n",
       "      <td>2</td>\n",
       "      <td>Meal Plan 1</td>\n",
       "      <td>0</td>\n",
       "      <td>Room_Type 1</td>\n",
       "      <td>224</td>\n",
       "      <td>2017</td>\n",
       "      <td>...</td>\n",
       "      <td>0</td>\n",
       "      <td>1</td>\n",
       "      <td>0</td>\n",
       "      <td>0</td>\n",
       "      <td>1</td>\n",
       "      <td>0</td>\n",
       "      <td>0</td>\n",
       "      <td>0</td>\n",
       "      <td>0</td>\n",
       "      <td>0</td>\n",
       "    </tr>\n",
       "    <tr>\n",
       "      <th>1</th>\n",
       "      <td>INN00002</td>\n",
       "      <td>2</td>\n",
       "      <td>0</td>\n",
       "      <td>2</td>\n",
       "      <td>3</td>\n",
       "      <td>Not Selected</td>\n",
       "      <td>0</td>\n",
       "      <td>Room_Type 1</td>\n",
       "      <td>5</td>\n",
       "      <td>2018</td>\n",
       "      <td>...</td>\n",
       "      <td>0</td>\n",
       "      <td>0</td>\n",
       "      <td>0</td>\n",
       "      <td>1</td>\n",
       "      <td>1</td>\n",
       "      <td>0</td>\n",
       "      <td>0</td>\n",
       "      <td>0</td>\n",
       "      <td>0</td>\n",
       "      <td>0</td>\n",
       "    </tr>\n",
       "    <tr>\n",
       "      <th>2</th>\n",
       "      <td>INN00003</td>\n",
       "      <td>1</td>\n",
       "      <td>0</td>\n",
       "      <td>2</td>\n",
       "      <td>1</td>\n",
       "      <td>Meal Plan 1</td>\n",
       "      <td>0</td>\n",
       "      <td>Room_Type 1</td>\n",
       "      <td>1</td>\n",
       "      <td>2018</td>\n",
       "      <td>...</td>\n",
       "      <td>0</td>\n",
       "      <td>1</td>\n",
       "      <td>0</td>\n",
       "      <td>0</td>\n",
       "      <td>1</td>\n",
       "      <td>0</td>\n",
       "      <td>0</td>\n",
       "      <td>0</td>\n",
       "      <td>0</td>\n",
       "      <td>0</td>\n",
       "    </tr>\n",
       "    <tr>\n",
       "      <th>3</th>\n",
       "      <td>INN00004</td>\n",
       "      <td>2</td>\n",
       "      <td>0</td>\n",
       "      <td>0</td>\n",
       "      <td>2</td>\n",
       "      <td>Meal Plan 1</td>\n",
       "      <td>0</td>\n",
       "      <td>Room_Type 1</td>\n",
       "      <td>211</td>\n",
       "      <td>2018</td>\n",
       "      <td>...</td>\n",
       "      <td>0</td>\n",
       "      <td>1</td>\n",
       "      <td>0</td>\n",
       "      <td>0</td>\n",
       "      <td>1</td>\n",
       "      <td>0</td>\n",
       "      <td>0</td>\n",
       "      <td>0</td>\n",
       "      <td>0</td>\n",
       "      <td>0</td>\n",
       "    </tr>\n",
       "    <tr>\n",
       "      <th>4</th>\n",
       "      <td>INN00005</td>\n",
       "      <td>2</td>\n",
       "      <td>0</td>\n",
       "      <td>1</td>\n",
       "      <td>1</td>\n",
       "      <td>Not Selected</td>\n",
       "      <td>0</td>\n",
       "      <td>Room_Type 1</td>\n",
       "      <td>48</td>\n",
       "      <td>2018</td>\n",
       "      <td>...</td>\n",
       "      <td>0</td>\n",
       "      <td>0</td>\n",
       "      <td>0</td>\n",
       "      <td>1</td>\n",
       "      <td>1</td>\n",
       "      <td>0</td>\n",
       "      <td>0</td>\n",
       "      <td>0</td>\n",
       "      <td>0</td>\n",
       "      <td>0</td>\n",
       "    </tr>\n",
       "  </tbody>\n",
       "</table>\n",
       "<p>5 rows × 43 columns</p>\n",
       "</div>"
      ],
      "text/plain": [
       "  Booking_ID  no_of_adults  no_of_children  no_of_weekend_nights  \\\n",
       "0   INN00001             2               0                     1   \n",
       "1   INN00002             2               0                     2   \n",
       "2   INN00003             1               0                     2   \n",
       "3   INN00004             2               0                     0   \n",
       "4   INN00005             2               0                     1   \n",
       "\n",
       "   no_of_week_nights type_of_meal_plan  required_car_parking_space  \\\n",
       "0                  2       Meal Plan 1                           0   \n",
       "1                  3      Not Selected                           0   \n",
       "2                  1       Meal Plan 1                           0   \n",
       "3                  2       Meal Plan 1                           0   \n",
       "4                  1      Not Selected                           0   \n",
       "\n",
       "  room_type_reserved  lead_time  arrival_year  ...  12  Meal Plan 1  \\\n",
       "0        Room_Type 1        224          2017  ...   0            1   \n",
       "1        Room_Type 1          5          2018  ...   0            0   \n",
       "2        Room_Type 1          1          2018  ...   0            1   \n",
       "3        Room_Type 1        211          2018  ...   0            1   \n",
       "4        Room_Type 1         48          2018  ...   0            0   \n",
       "\n",
       "  Meal Plan 2  Not Selected  Room_Type 1  Room_Type 2  Room_Type 3  \\\n",
       "0           0             0            1            0            0   \n",
       "1           0             1            1            0            0   \n",
       "2           0             0            1            0            0   \n",
       "3           0             0            1            0            0   \n",
       "4           0             1            1            0            0   \n",
       "\n",
       "   Room_Type 4  Room_Type 5  Room_Type 6  \n",
       "0            0            0            0  \n",
       "1            0            0            0  \n",
       "2            0            0            0  \n",
       "3            0            0            0  \n",
       "4            0            0            0  \n",
       "\n",
       "[5 rows x 43 columns]"
      ]
     },
     "execution_count": 8,
     "metadata": {},
     "output_type": "execute_result"
    }
   ],
   "source": [
    "# Convert categorical variables to dummies and append to df \n",
    "dummy_market = pd.get_dummies(df.market_segment_type)\n",
    "dummy_month = pd.get_dummies(df.arrival_month)\n",
    "dummy_meal = pd.get_dummies(df.type_of_meal_plan)\n",
    "dummy_room = pd.get_dummies(df.room_type_reserved)\n",
    "\n",
    "df_dummy = pd.concat([df, dummy_market.drop('Aviation', axis = 1), dummy_month.drop(4, axis = 1), dummy_meal.drop('Meal Plan 3', axis = 1), dummy_room.drop('Room_Type 7', axis = 1)], axis = 1)\n",
    "df_dummy.columns = df_dummy.columns.astype(str)\n",
    "df_dummy.head()"
   ]
  },
  {
   "cell_type": "code",
   "execution_count": 26,
   "id": "0f27e01f",
   "metadata": {
    "ExecuteTime": {
     "end_time": "2023-03-02T00:04:02.283145Z",
     "start_time": "2023-03-02T00:04:02.236418Z"
    }
   },
   "outputs": [
    {
     "data": {
      "text/html": [
       "<div>\n",
       "<style scoped>\n",
       "    .dataframe tbody tr th:only-of-type {\n",
       "        vertical-align: middle;\n",
       "    }\n",
       "\n",
       "    .dataframe tbody tr th {\n",
       "        vertical-align: top;\n",
       "    }\n",
       "\n",
       "    .dataframe thead th {\n",
       "        text-align: right;\n",
       "    }\n",
       "</style>\n",
       "<table border=\"1\" class=\"dataframe\">\n",
       "  <thead>\n",
       "    <tr style=\"text-align: right;\">\n",
       "      <th></th>\n",
       "      <th>Booking_ID</th>\n",
       "      <th>no_of_adults</th>\n",
       "      <th>no_of_children</th>\n",
       "      <th>no_of_weekend_nights</th>\n",
       "      <th>no_of_week_nights</th>\n",
       "      <th>type_of_meal_plan</th>\n",
       "      <th>required_car_parking_space</th>\n",
       "      <th>room_type_reserved</th>\n",
       "      <th>lead_time</th>\n",
       "      <th>arrival_year</th>\n",
       "      <th>...</th>\n",
       "      <th>December</th>\n",
       "      <th>MealPlan1</th>\n",
       "      <th>MealPlan2</th>\n",
       "      <th>NotSelected</th>\n",
       "      <th>Room_Type1</th>\n",
       "      <th>Room_Type2</th>\n",
       "      <th>Room_Type3</th>\n",
       "      <th>Room_Type4</th>\n",
       "      <th>Room_Type5</th>\n",
       "      <th>Room_Type6</th>\n",
       "    </tr>\n",
       "  </thead>\n",
       "  <tbody>\n",
       "    <tr>\n",
       "      <th>0</th>\n",
       "      <td>INN00001</td>\n",
       "      <td>2</td>\n",
       "      <td>0</td>\n",
       "      <td>1</td>\n",
       "      <td>2</td>\n",
       "      <td>Meal Plan 1</td>\n",
       "      <td>0</td>\n",
       "      <td>Room_Type 1</td>\n",
       "      <td>224</td>\n",
       "      <td>2017</td>\n",
       "      <td>...</td>\n",
       "      <td>0</td>\n",
       "      <td>1</td>\n",
       "      <td>0</td>\n",
       "      <td>0</td>\n",
       "      <td>1</td>\n",
       "      <td>0</td>\n",
       "      <td>0</td>\n",
       "      <td>0</td>\n",
       "      <td>0</td>\n",
       "      <td>0</td>\n",
       "    </tr>\n",
       "    <tr>\n",
       "      <th>1</th>\n",
       "      <td>INN00002</td>\n",
       "      <td>2</td>\n",
       "      <td>0</td>\n",
       "      <td>2</td>\n",
       "      <td>3</td>\n",
       "      <td>Not Selected</td>\n",
       "      <td>0</td>\n",
       "      <td>Room_Type 1</td>\n",
       "      <td>5</td>\n",
       "      <td>2018</td>\n",
       "      <td>...</td>\n",
       "      <td>0</td>\n",
       "      <td>0</td>\n",
       "      <td>0</td>\n",
       "      <td>1</td>\n",
       "      <td>1</td>\n",
       "      <td>0</td>\n",
       "      <td>0</td>\n",
       "      <td>0</td>\n",
       "      <td>0</td>\n",
       "      <td>0</td>\n",
       "    </tr>\n",
       "    <tr>\n",
       "      <th>2</th>\n",
       "      <td>INN00003</td>\n",
       "      <td>1</td>\n",
       "      <td>0</td>\n",
       "      <td>2</td>\n",
       "      <td>1</td>\n",
       "      <td>Meal Plan 1</td>\n",
       "      <td>0</td>\n",
       "      <td>Room_Type 1</td>\n",
       "      <td>1</td>\n",
       "      <td>2018</td>\n",
       "      <td>...</td>\n",
       "      <td>0</td>\n",
       "      <td>1</td>\n",
       "      <td>0</td>\n",
       "      <td>0</td>\n",
       "      <td>1</td>\n",
       "      <td>0</td>\n",
       "      <td>0</td>\n",
       "      <td>0</td>\n",
       "      <td>0</td>\n",
       "      <td>0</td>\n",
       "    </tr>\n",
       "    <tr>\n",
       "      <th>3</th>\n",
       "      <td>INN00004</td>\n",
       "      <td>2</td>\n",
       "      <td>0</td>\n",
       "      <td>0</td>\n",
       "      <td>2</td>\n",
       "      <td>Meal Plan 1</td>\n",
       "      <td>0</td>\n",
       "      <td>Room_Type 1</td>\n",
       "      <td>211</td>\n",
       "      <td>2018</td>\n",
       "      <td>...</td>\n",
       "      <td>0</td>\n",
       "      <td>1</td>\n",
       "      <td>0</td>\n",
       "      <td>0</td>\n",
       "      <td>1</td>\n",
       "      <td>0</td>\n",
       "      <td>0</td>\n",
       "      <td>0</td>\n",
       "      <td>0</td>\n",
       "      <td>0</td>\n",
       "    </tr>\n",
       "    <tr>\n",
       "      <th>4</th>\n",
       "      <td>INN00005</td>\n",
       "      <td>2</td>\n",
       "      <td>0</td>\n",
       "      <td>1</td>\n",
       "      <td>1</td>\n",
       "      <td>Not Selected</td>\n",
       "      <td>0</td>\n",
       "      <td>Room_Type 1</td>\n",
       "      <td>48</td>\n",
       "      <td>2018</td>\n",
       "      <td>...</td>\n",
       "      <td>0</td>\n",
       "      <td>0</td>\n",
       "      <td>0</td>\n",
       "      <td>1</td>\n",
       "      <td>1</td>\n",
       "      <td>0</td>\n",
       "      <td>0</td>\n",
       "      <td>0</td>\n",
       "      <td>0</td>\n",
       "      <td>0</td>\n",
       "    </tr>\n",
       "  </tbody>\n",
       "</table>\n",
       "<p>5 rows × 43 columns</p>\n",
       "</div>"
      ],
      "text/plain": [
       "  Booking_ID  no_of_adults  no_of_children  no_of_weekend_nights  \\\n",
       "0   INN00001             2               0                     1   \n",
       "1   INN00002             2               0                     2   \n",
       "2   INN00003             1               0                     2   \n",
       "3   INN00004             2               0                     0   \n",
       "4   INN00005             2               0                     1   \n",
       "\n",
       "   no_of_week_nights type_of_meal_plan  required_car_parking_space  \\\n",
       "0                  2       Meal Plan 1                           0   \n",
       "1                  3      Not Selected                           0   \n",
       "2                  1       Meal Plan 1                           0   \n",
       "3                  2       Meal Plan 1                           0   \n",
       "4                  1      Not Selected                           0   \n",
       "\n",
       "  room_type_reserved  lead_time  arrival_year  ...  December  MealPlan1  \\\n",
       "0        Room_Type 1        224          2017  ...         0          1   \n",
       "1        Room_Type 1          5          2018  ...         0          0   \n",
       "2        Room_Type 1          1          2018  ...         0          1   \n",
       "3        Room_Type 1        211          2018  ...         0          1   \n",
       "4        Room_Type 1         48          2018  ...         0          0   \n",
       "\n",
       "  MealPlan2  NotSelected  Room_Type1  Room_Type2  Room_Type3  Room_Type4  \\\n",
       "0         0            0           1           0           0           0   \n",
       "1         0            1           1           0           0           0   \n",
       "2         0            0           1           0           0           0   \n",
       "3         0            0           1           0           0           0   \n",
       "4         0            1           1           0           0           0   \n",
       "\n",
       "   Room_Type5  Room_Type6  \n",
       "0           0           0  \n",
       "1           0           0  \n",
       "2           0           0  \n",
       "3           0           0  \n",
       "4           0           0  \n",
       "\n",
       "[5 rows x 43 columns]"
      ]
     },
     "execution_count": 26,
     "metadata": {},
     "output_type": "execute_result"
    }
   ],
   "source": [
    "# Remove spaces from column names \n",
    "df_dummy.columns = df_dummy.columns.str.replace(' ', '')\n",
    "\n",
    "# Convert month number to name in columns \n",
    "df_dummy.rename(columns={'1': 'January', '2': 'February', '3': 'March', \n",
    "                         '5': 'May', '6': 'June', '7': 'July', \n",
    "                        '8': 'August', '9': 'September', '10': 'October',\n",
    "                        '11': 'November', '12': 'December'}, inplace=True)\n",
    "\n",
    "df_dummy.head()"
   ]
  },
  {
   "cell_type": "code",
   "execution_count": 30,
   "id": "1b58edec",
   "metadata": {
    "ExecuteTime": {
     "end_time": "2023-03-01T01:01:44.630458Z",
     "start_time": "2023-03-01T01:01:44.534399Z"
    }
   },
   "outputs": [],
   "source": [
    "# Split train and test datasets\n",
    "y = df_dummy.booking_status\n",
    "X = df_dummy.drop('booking_status', axis = 1)\n",
    "X_train, X_test, y_train, y_test = train_test_split(X, y, test_size=0.25, random_state=0, shuffle=True, stratify=y)\n"
   ]
  },
  {
   "cell_type": "code",
   "execution_count": 23,
   "id": "7c5b4a01",
   "metadata": {
    "ExecuteTime": {
     "end_time": "2023-03-02T00:03:31.120014Z",
     "start_time": "2023-03-02T00:03:31.040425Z"
    }
   },
   "outputs": [
    {
     "data": {
      "text/html": [
       "<div>\n",
       "<style scoped>\n",
       "    .dataframe tbody tr th:only-of-type {\n",
       "        vertical-align: middle;\n",
       "    }\n",
       "\n",
       "    .dataframe tbody tr th {\n",
       "        vertical-align: top;\n",
       "    }\n",
       "\n",
       "    .dataframe thead th {\n",
       "        text-align: right;\n",
       "    }\n",
       "</style>\n",
       "<table border=\"1\" class=\"dataframe\">\n",
       "  <thead>\n",
       "    <tr style=\"text-align: right;\">\n",
       "      <th></th>\n",
       "      <th>Booking_ID</th>\n",
       "      <th>no_of_adults</th>\n",
       "      <th>no_of_children</th>\n",
       "      <th>no_of_weekend_nights</th>\n",
       "      <th>no_of_week_nights</th>\n",
       "      <th>type_of_meal_plan</th>\n",
       "      <th>required_car_parking_space</th>\n",
       "      <th>room_type_reserved</th>\n",
       "      <th>lead_time</th>\n",
       "      <th>arrival_year</th>\n",
       "      <th>...</th>\n",
       "      <th>December</th>\n",
       "      <th>MealPlan1</th>\n",
       "      <th>MealPlan2</th>\n",
       "      <th>NotSelected</th>\n",
       "      <th>Room_Type1</th>\n",
       "      <th>Room_Type2</th>\n",
       "      <th>Room_Type3</th>\n",
       "      <th>Room_Type4</th>\n",
       "      <th>Room_Type5</th>\n",
       "      <th>Room_Type6</th>\n",
       "    </tr>\n",
       "  </thead>\n",
       "  <tbody>\n",
       "    <tr>\n",
       "      <th>6093</th>\n",
       "      <td>INN06094</td>\n",
       "      <td>2</td>\n",
       "      <td>0</td>\n",
       "      <td>2</td>\n",
       "      <td>3</td>\n",
       "      <td>Meal Plan 1</td>\n",
       "      <td>0</td>\n",
       "      <td>Room_Type 4</td>\n",
       "      <td>85</td>\n",
       "      <td>2018</td>\n",
       "      <td>...</td>\n",
       "      <td>0</td>\n",
       "      <td>1</td>\n",
       "      <td>0</td>\n",
       "      <td>0</td>\n",
       "      <td>0</td>\n",
       "      <td>0</td>\n",
       "      <td>0</td>\n",
       "      <td>1</td>\n",
       "      <td>0</td>\n",
       "      <td>0</td>\n",
       "    </tr>\n",
       "    <tr>\n",
       "      <th>11877</th>\n",
       "      <td>INN11878</td>\n",
       "      <td>1</td>\n",
       "      <td>0</td>\n",
       "      <td>0</td>\n",
       "      <td>3</td>\n",
       "      <td>Meal Plan 1</td>\n",
       "      <td>0</td>\n",
       "      <td>Room_Type 1</td>\n",
       "      <td>166</td>\n",
       "      <td>2018</td>\n",
       "      <td>...</td>\n",
       "      <td>0</td>\n",
       "      <td>1</td>\n",
       "      <td>0</td>\n",
       "      <td>0</td>\n",
       "      <td>1</td>\n",
       "      <td>0</td>\n",
       "      <td>0</td>\n",
       "      <td>0</td>\n",
       "      <td>0</td>\n",
       "      <td>0</td>\n",
       "    </tr>\n",
       "    <tr>\n",
       "      <th>27585</th>\n",
       "      <td>INN27586</td>\n",
       "      <td>2</td>\n",
       "      <td>0</td>\n",
       "      <td>2</td>\n",
       "      <td>2</td>\n",
       "      <td>Meal Plan 1</td>\n",
       "      <td>0</td>\n",
       "      <td>Room_Type 2</td>\n",
       "      <td>159</td>\n",
       "      <td>2018</td>\n",
       "      <td>...</td>\n",
       "      <td>0</td>\n",
       "      <td>1</td>\n",
       "      <td>0</td>\n",
       "      <td>0</td>\n",
       "      <td>0</td>\n",
       "      <td>1</td>\n",
       "      <td>0</td>\n",
       "      <td>0</td>\n",
       "      <td>0</td>\n",
       "      <td>0</td>\n",
       "    </tr>\n",
       "    <tr>\n",
       "      <th>28306</th>\n",
       "      <td>INN28307</td>\n",
       "      <td>2</td>\n",
       "      <td>0</td>\n",
       "      <td>1</td>\n",
       "      <td>0</td>\n",
       "      <td>Meal Plan 1</td>\n",
       "      <td>0</td>\n",
       "      <td>Room_Type 1</td>\n",
       "      <td>258</td>\n",
       "      <td>2018</td>\n",
       "      <td>...</td>\n",
       "      <td>0</td>\n",
       "      <td>1</td>\n",
       "      <td>0</td>\n",
       "      <td>0</td>\n",
       "      <td>1</td>\n",
       "      <td>0</td>\n",
       "      <td>0</td>\n",
       "      <td>0</td>\n",
       "      <td>0</td>\n",
       "      <td>0</td>\n",
       "    </tr>\n",
       "    <tr>\n",
       "      <th>19753</th>\n",
       "      <td>INN19754</td>\n",
       "      <td>2</td>\n",
       "      <td>0</td>\n",
       "      <td>0</td>\n",
       "      <td>3</td>\n",
       "      <td>Meal Plan 1</td>\n",
       "      <td>0</td>\n",
       "      <td>Room_Type 1</td>\n",
       "      <td>116</td>\n",
       "      <td>2018</td>\n",
       "      <td>...</td>\n",
       "      <td>0</td>\n",
       "      <td>1</td>\n",
       "      <td>0</td>\n",
       "      <td>0</td>\n",
       "      <td>1</td>\n",
       "      <td>0</td>\n",
       "      <td>0</td>\n",
       "      <td>0</td>\n",
       "      <td>0</td>\n",
       "      <td>0</td>\n",
       "    </tr>\n",
       "  </tbody>\n",
       "</table>\n",
       "<p>5 rows × 43 columns</p>\n",
       "</div>"
      ],
      "text/plain": [
       "      Booking_ID  no_of_adults  no_of_children  no_of_weekend_nights  \\\n",
       "6093    INN06094             2               0                     2   \n",
       "11877   INN11878             1               0                     0   \n",
       "27585   INN27586             2               0                     2   \n",
       "28306   INN28307             2               0                     1   \n",
       "19753   INN19754             2               0                     0   \n",
       "\n",
       "       no_of_week_nights type_of_meal_plan  required_car_parking_space  \\\n",
       "6093                   3       Meal Plan 1                           0   \n",
       "11877                  3       Meal Plan 1                           0   \n",
       "27585                  2       Meal Plan 1                           0   \n",
       "28306                  0       Meal Plan 1                           0   \n",
       "19753                  3       Meal Plan 1                           0   \n",
       "\n",
       "      room_type_reserved  lead_time  arrival_year  ...  December  MealPlan1  \\\n",
       "6093         Room_Type 4         85          2018  ...         0          1   \n",
       "11877        Room_Type 1        166          2018  ...         0          1   \n",
       "27585        Room_Type 2        159          2018  ...         0          1   \n",
       "28306        Room_Type 1        258          2018  ...         0          1   \n",
       "19753        Room_Type 1        116          2018  ...         0          1   \n",
       "\n",
       "      MealPlan2  NotSelected  Room_Type1  Room_Type2  Room_Type3  Room_Type4  \\\n",
       "6093          0            0           0           0           0           1   \n",
       "11877         0            0           1           0           0           0   \n",
       "27585         0            0           0           1           0           0   \n",
       "28306         0            0           1           0           0           0   \n",
       "19753         0            0           1           0           0           0   \n",
       "\n",
       "       Room_Type5  Room_Type6  \n",
       "6093            0           0  \n",
       "11877           0           0  \n",
       "27585           0           0  \n",
       "28306           0           0  \n",
       "19753           0           0  \n",
       "\n",
       "[5 rows x 43 columns]"
      ]
     },
     "execution_count": 23,
     "metadata": {},
     "output_type": "execute_result"
    }
   ],
   "source": [
    "# Split train and test datasets\n",
    "train, test = train_test_split(df_dummy, test_size=0.25, random_state=25, shuffle=True)\n",
    "train.head()"
   ]
  },
  {
   "cell_type": "code",
   "execution_count": 21,
   "id": "d10b948d",
   "metadata": {
    "ExecuteTime": {
     "end_time": "2023-03-02T00:03:18.612891Z",
     "start_time": "2023-03-02T00:03:18.587837Z"
    }
   },
   "outputs": [],
   "source": [
    "test = test.drop('booking_status', axis = 1)"
   ]
  },
  {
   "cell_type": "markdown",
   "id": "991a3bf1",
   "metadata": {},
   "source": [
    "## Baseline Model \n",
    "Evaluating model with all predictor variables. Categorical predictors have been transformed to dummy variables. "
   ]
  },
  {
   "cell_type": "code",
   "execution_count": 27,
   "id": "ca9b43e7",
   "metadata": {
    "ExecuteTime": {
     "end_time": "2023-03-02T00:06:47.639076Z",
     "start_time": "2023-03-02T00:06:46.424506Z"
    },
    "scrolled": true
   },
   "outputs": [
    {
     "name": "stdout",
     "output_type": "stream",
     "text": [
      "Warning: Maximum number of iterations has been exceeded.\n",
      "         Current function value: 0.406889\n",
      "         Iterations: 35\n"
     ]
    },
    {
     "name": "stderr",
     "output_type": "stream",
     "text": [
      "C:\\Users\\hodaf\\anaconda3\\lib\\site-packages\\statsmodels\\base\\model.py:604: ConvergenceWarning: Maximum Likelihood optimization failed to converge. Check mle_retvals\n",
      "  warnings.warn(\"Maximum Likelihood optimization failed to \"\n"
     ]
    },
    {
     "data": {
      "text/html": [
       "<table class=\"simpletable\">\n",
       "<caption>Logit Regression Results</caption>\n",
       "<tr>\n",
       "  <th>Dep. Variable:</th>    <td>booking_status</td>  <th>  No. Observations:  </th>  <td> 27206</td> \n",
       "</tr>\n",
       "<tr>\n",
       "  <th>Model:</th>                 <td>Logit</td>      <th>  Df Residuals:      </th>  <td> 27168</td> \n",
       "</tr>\n",
       "<tr>\n",
       "  <th>Method:</th>                 <td>MLE</td>       <th>  Df Model:          </th>  <td>    37</td> \n",
       "</tr>\n",
       "<tr>\n",
       "  <th>Date:</th>            <td>Wed, 01 Mar 2023</td> <th>  Pseudo R-squ.:     </th>  <td>0.3553</td> \n",
       "</tr>\n",
       "<tr>\n",
       "  <th>Time:</th>                <td>18:06:47</td>     <th>  Log-Likelihood:    </th> <td> -11070.</td>\n",
       "</tr>\n",
       "<tr>\n",
       "  <th>converged:</th>             <td>False</td>      <th>  LL-Null:           </th> <td> -17170.</td>\n",
       "</tr>\n",
       "<tr>\n",
       "  <th>Covariance Type:</th>     <td>nonrobust</td>    <th>  LLR p-value:       </th>  <td> 0.000</td> \n",
       "</tr>\n",
       "</table>\n",
       "<table class=\"simpletable\">\n",
       "<tr>\n",
       "                    <td></td>                      <th>coef</th>     <th>std err</th>      <th>z</th>      <th>P>|z|</th>  <th>[0.025</th>    <th>0.975]</th>  \n",
       "</tr>\n",
       "<tr>\n",
       "  <th>Intercept</th>                            <td>  953.3177</td> <td> 3.45e+04</td> <td>    0.028</td> <td> 0.978</td> <td>-6.67e+04</td> <td> 6.86e+04</td>\n",
       "</tr>\n",
       "<tr>\n",
       "  <th>no_of_adults</th>                         <td>   -0.1417</td> <td>    0.038</td> <td>   -3.735</td> <td> 0.000</td> <td>   -0.216</td> <td>   -0.067</td>\n",
       "</tr>\n",
       "<tr>\n",
       "  <th>no_of_children</th>                       <td>   -0.2050</td> <td>    0.059</td> <td>   -3.451</td> <td> 0.001</td> <td>   -0.321</td> <td>   -0.089</td>\n",
       "</tr>\n",
       "<tr>\n",
       "  <th>no_of_weekend_nights</th>                 <td>   -0.1310</td> <td>    0.020</td> <td>   -6.638</td> <td> 0.000</td> <td>   -0.170</td> <td>   -0.092</td>\n",
       "</tr>\n",
       "<tr>\n",
       "  <th>no_of_week_nights</th>                    <td>   -0.0563</td> <td>    0.012</td> <td>   -4.563</td> <td> 0.000</td> <td>   -0.080</td> <td>   -0.032</td>\n",
       "</tr>\n",
       "<tr>\n",
       "  <th>required_car_parking_space</th>           <td>    1.7396</td> <td>    0.142</td> <td>   12.226</td> <td> 0.000</td> <td>    1.461</td> <td>    2.019</td>\n",
       "</tr>\n",
       "<tr>\n",
       "  <th>lead_time</th>                            <td>   -0.0162</td> <td>    0.000</td> <td>  -57.587</td> <td> 0.000</td> <td>   -0.017</td> <td>   -0.016</td>\n",
       "</tr>\n",
       "<tr>\n",
       "  <th>arrival_year</th>                         <td>   -0.4718</td> <td>    0.062</td> <td>   -7.561</td> <td> 0.000</td> <td>   -0.594</td> <td>   -0.350</td>\n",
       "</tr>\n",
       "<tr>\n",
       "  <th>arrival_date</th>                         <td>   -0.0026</td> <td>    0.002</td> <td>   -1.354</td> <td> 0.176</td> <td>   -0.006</td> <td>    0.001</td>\n",
       "</tr>\n",
       "<tr>\n",
       "  <th>repeated_guest</th>                       <td>    2.0207</td> <td>    0.483</td> <td>    4.181</td> <td> 0.000</td> <td>    1.074</td> <td>    2.968</td>\n",
       "</tr>\n",
       "<tr>\n",
       "  <th>no_of_previous_cancellations</th>         <td>   -0.3279</td> <td>    0.095</td> <td>   -3.465</td> <td> 0.001</td> <td>   -0.513</td> <td>   -0.142</td>\n",
       "</tr>\n",
       "<tr>\n",
       "  <th>no_of_previous_bookings_not_canceled</th> <td>    0.0903</td> <td>    0.077</td> <td>    1.173</td> <td> 0.241</td> <td>   -0.061</td> <td>    0.241</td>\n",
       "</tr>\n",
       "<tr>\n",
       "  <th>avg_price_per_room</th>                   <td>   -0.0194</td> <td>    0.001</td> <td>  -23.911</td> <td> 0.000</td> <td>   -0.021</td> <td>   -0.018</td>\n",
       "</tr>\n",
       "<tr>\n",
       "  <th>no_of_special_requests</th>               <td>    1.5720</td> <td>    0.030</td> <td>   51.984</td> <td> 0.000</td> <td>    1.513</td> <td>    1.631</td>\n",
       "</tr>\n",
       "<tr>\n",
       "  <th>Complementary</th>                        <td>   20.6477</td> <td> 3752.665</td> <td>    0.006</td> <td> 0.996</td> <td>-7334.441</td> <td> 7375.737</td>\n",
       "</tr>\n",
       "<tr>\n",
       "  <th>Corporate</th>                            <td>    0.8690</td> <td>    0.253</td> <td>    3.437</td> <td> 0.001</td> <td>    0.373</td> <td>    1.365</td>\n",
       "</tr>\n",
       "<tr>\n",
       "  <th>Offline</th>                              <td>    1.9568</td> <td>    0.242</td> <td>    8.088</td> <td> 0.000</td> <td>    1.483</td> <td>    2.431</td>\n",
       "</tr>\n",
       "<tr>\n",
       "  <th>Online</th>                               <td>    0.1045</td> <td>    0.239</td> <td>    0.438</td> <td> 0.662</td> <td>   -0.363</td> <td>    0.572</td>\n",
       "</tr>\n",
       "<tr>\n",
       "  <th>January</th>                              <td>    2.2706</td> <td>    0.251</td> <td>    9.051</td> <td> 0.000</td> <td>    1.779</td> <td>    2.762</td>\n",
       "</tr>\n",
       "<tr>\n",
       "  <th>February</th>                             <td>   -0.5317</td> <td>    0.093</td> <td>   -5.726</td> <td> 0.000</td> <td>   -0.714</td> <td>   -0.350</td>\n",
       "</tr>\n",
       "<tr>\n",
       "  <th>March</th>                                <td>   -0.2699</td> <td>    0.082</td> <td>   -3.303</td> <td> 0.001</td> <td>   -0.430</td> <td>   -0.110</td>\n",
       "</tr>\n",
       "<tr>\n",
       "  <th>May</th>                                  <td>    0.3591</td> <td>    0.081</td> <td>    4.449</td> <td> 0.000</td> <td>    0.201</td> <td>    0.517</td>\n",
       "</tr>\n",
       "<tr>\n",
       "  <th>June</th>                                 <td>    0.1412</td> <td>    0.077</td> <td>    1.843</td> <td> 0.065</td> <td>   -0.009</td> <td>    0.291</td>\n",
       "</tr>\n",
       "<tr>\n",
       "  <th>July</th>                                 <td>    0.2188</td> <td>    0.079</td> <td>    2.779</td> <td> 0.005</td> <td>    0.065</td> <td>    0.373</td>\n",
       "</tr>\n",
       "<tr>\n",
       "  <th>August</th>                               <td>    0.1996</td> <td>    0.077</td> <td>    2.576</td> <td> 0.010</td> <td>    0.048</td> <td>    0.351</td>\n",
       "</tr>\n",
       "<tr>\n",
       "  <th>September</th>                            <td>    0.3166</td> <td>    0.079</td> <td>    4.013</td> <td> 0.000</td> <td>    0.162</td> <td>    0.471</td>\n",
       "</tr>\n",
       "<tr>\n",
       "  <th>October</th>                              <td>   -0.0305</td> <td>    0.075</td> <td>   -0.407</td> <td> 0.684</td> <td>   -0.177</td> <td>    0.116</td>\n",
       "</tr>\n",
       "<tr>\n",
       "  <th>November</th>                             <td>   -0.3207</td> <td>    0.083</td> <td>   -3.843</td> <td> 0.000</td> <td>   -0.484</td> <td>   -0.157</td>\n",
       "</tr>\n",
       "<tr>\n",
       "  <th>December</th>                             <td>    1.6013</td> <td>    0.100</td> <td>   15.997</td> <td> 0.000</td> <td>    1.405</td> <td>    1.798</td>\n",
       "</tr>\n",
       "<tr>\n",
       "  <th>MealPlan1</th>                            <td>    3.3118</td> <td> 3.45e+04</td> <td>  9.6e-05</td> <td> 1.000</td> <td>-6.76e+04</td> <td> 6.76e+04</td>\n",
       "</tr>\n",
       "<tr>\n",
       "  <th>MealPlan2</th>                            <td>    3.0851</td> <td> 3.45e+04</td> <td> 8.94e-05</td> <td> 1.000</td> <td>-6.76e+04</td> <td> 6.76e+04</td>\n",
       "</tr>\n",
       "<tr>\n",
       "  <th>NotSelected</th>                          <td>    3.0586</td> <td> 3.45e+04</td> <td> 8.86e-05</td> <td> 1.000</td> <td>-6.76e+04</td> <td> 6.76e+04</td>\n",
       "</tr>\n",
       "<tr>\n",
       "  <th>Room_Type1</th>                           <td>   -1.4155</td> <td>    0.301</td> <td>   -4.702</td> <td> 0.000</td> <td>   -2.005</td> <td>   -0.826</td>\n",
       "</tr>\n",
       "<tr>\n",
       "  <th>Room_Type2</th>                           <td>   -1.1210</td> <td>    0.324</td> <td>   -3.458</td> <td> 0.001</td> <td>   -1.756</td> <td>   -0.486</td>\n",
       "</tr>\n",
       "<tr>\n",
       "  <th>Room_Type3</th>                           <td>   -1.8955</td> <td>    1.604</td> <td>   -1.181</td> <td> 0.237</td> <td>   -5.040</td> <td>    1.249</td>\n",
       "</tr>\n",
       "<tr>\n",
       "  <th>Room_Type4</th>                           <td>   -1.1473</td> <td>    0.299</td> <td>   -3.837</td> <td> 0.000</td> <td>   -1.733</td> <td>   -0.561</td>\n",
       "</tr>\n",
       "<tr>\n",
       "  <th>Room_Type5</th>                           <td>   -0.5025</td> <td>    0.356</td> <td>   -1.413</td> <td> 0.158</td> <td>   -1.200</td> <td>    0.195</td>\n",
       "</tr>\n",
       "<tr>\n",
       "  <th>Room_Type6</th>                           <td>   -0.3765</td> <td>    0.307</td> <td>   -1.225</td> <td> 0.221</td> <td>   -0.979</td> <td>    0.226</td>\n",
       "</tr>\n",
       "</table>"
      ],
      "text/plain": [
       "<class 'statsmodels.iolib.summary.Summary'>\n",
       "\"\"\"\n",
       "                           Logit Regression Results                           \n",
       "==============================================================================\n",
       "Dep. Variable:         booking_status   No. Observations:                27206\n",
       "Model:                          Logit   Df Residuals:                    27168\n",
       "Method:                           MLE   Df Model:                           37\n",
       "Date:                Wed, 01 Mar 2023   Pseudo R-squ.:                  0.3553\n",
       "Time:                        18:06:47   Log-Likelihood:                -11070.\n",
       "converged:                      False   LL-Null:                       -17170.\n",
       "Covariance Type:            nonrobust   LLR p-value:                     0.000\n",
       "========================================================================================================\n",
       "                                           coef    std err          z      P>|z|      [0.025      0.975]\n",
       "--------------------------------------------------------------------------------------------------------\n",
       "Intercept                              953.3177   3.45e+04      0.028      0.978   -6.67e+04    6.86e+04\n",
       "no_of_adults                            -0.1417      0.038     -3.735      0.000      -0.216      -0.067\n",
       "no_of_children                          -0.2050      0.059     -3.451      0.001      -0.321      -0.089\n",
       "no_of_weekend_nights                    -0.1310      0.020     -6.638      0.000      -0.170      -0.092\n",
       "no_of_week_nights                       -0.0563      0.012     -4.563      0.000      -0.080      -0.032\n",
       "required_car_parking_space               1.7396      0.142     12.226      0.000       1.461       2.019\n",
       "lead_time                               -0.0162      0.000    -57.587      0.000      -0.017      -0.016\n",
       "arrival_year                            -0.4718      0.062     -7.561      0.000      -0.594      -0.350\n",
       "arrival_date                            -0.0026      0.002     -1.354      0.176      -0.006       0.001\n",
       "repeated_guest                           2.0207      0.483      4.181      0.000       1.074       2.968\n",
       "no_of_previous_cancellations            -0.3279      0.095     -3.465      0.001      -0.513      -0.142\n",
       "no_of_previous_bookings_not_canceled     0.0903      0.077      1.173      0.241      -0.061       0.241\n",
       "avg_price_per_room                      -0.0194      0.001    -23.911      0.000      -0.021      -0.018\n",
       "no_of_special_requests                   1.5720      0.030     51.984      0.000       1.513       1.631\n",
       "Complementary                           20.6477   3752.665      0.006      0.996   -7334.441    7375.737\n",
       "Corporate                                0.8690      0.253      3.437      0.001       0.373       1.365\n",
       "Offline                                  1.9568      0.242      8.088      0.000       1.483       2.431\n",
       "Online                                   0.1045      0.239      0.438      0.662      -0.363       0.572\n",
       "January                                  2.2706      0.251      9.051      0.000       1.779       2.762\n",
       "February                                -0.5317      0.093     -5.726      0.000      -0.714      -0.350\n",
       "March                                   -0.2699      0.082     -3.303      0.001      -0.430      -0.110\n",
       "May                                      0.3591      0.081      4.449      0.000       0.201       0.517\n",
       "June                                     0.1412      0.077      1.843      0.065      -0.009       0.291\n",
       "July                                     0.2188      0.079      2.779      0.005       0.065       0.373\n",
       "August                                   0.1996      0.077      2.576      0.010       0.048       0.351\n",
       "September                                0.3166      0.079      4.013      0.000       0.162       0.471\n",
       "October                                 -0.0305      0.075     -0.407      0.684      -0.177       0.116\n",
       "November                                -0.3207      0.083     -3.843      0.000      -0.484      -0.157\n",
       "December                                 1.6013      0.100     15.997      0.000       1.405       1.798\n",
       "MealPlan1                                3.3118   3.45e+04    9.6e-05      1.000   -6.76e+04    6.76e+04\n",
       "MealPlan2                                3.0851   3.45e+04   8.94e-05      1.000   -6.76e+04    6.76e+04\n",
       "NotSelected                              3.0586   3.45e+04   8.86e-05      1.000   -6.76e+04    6.76e+04\n",
       "Room_Type1                              -1.4155      0.301     -4.702      0.000      -2.005      -0.826\n",
       "Room_Type2                              -1.1210      0.324     -3.458      0.001      -1.756      -0.486\n",
       "Room_Type3                              -1.8955      1.604     -1.181      0.237      -5.040       1.249\n",
       "Room_Type4                              -1.1473      0.299     -3.837      0.000      -1.733      -0.561\n",
       "Room_Type5                              -0.5025      0.356     -1.413      0.158      -1.200       0.195\n",
       "Room_Type6                              -0.3765      0.307     -1.225      0.221      -0.979       0.226\n",
       "========================================================================================================\n",
       "\"\"\""
      ]
     },
     "execution_count": 27,
     "metadata": {},
     "output_type": "execute_result"
    }
   ],
   "source": [
    "# Baseline model with all predictors and no interactions \n",
    "baseline_model = sm.logit('booking_status~no_of_adults+no_of_children+no_of_weekend_nights+\\\n",
    "       no_of_week_nights+required_car_parking_space+\\\n",
    "       lead_time+arrival_year+\\\n",
    "       arrival_date+repeated_guest+\\\n",
    "       no_of_previous_cancellations+no_of_previous_bookings_not_canceled+\\\n",
    "       avg_price_per_room+no_of_special_requests+\\\n",
    "       Complementary+Corporate+Offline+Online+January+February+March+May+June+\\\n",
    "       July+August+September+October+November+December+MealPlan1+MealPlan2+\\\n",
    "       NotSelected+Room_Type1+Room_Type2+Room_Type3+\\\n",
    "       Room_Type4+Room_Type5+Room_Type6', data = train).fit()\n",
    "baseline_model.summary()"
   ]
  },
  {
   "cell_type": "code",
   "execution_count": 30,
   "id": "112ee5f2",
   "metadata": {
    "ExecuteTime": {
     "end_time": "2023-03-02T00:07:30.950207Z",
     "start_time": "2023-03-02T00:07:30.393039Z"
    }
   },
   "outputs": [
    {
     "name": "stdout",
     "output_type": "stream",
     "text": [
      "Classification accuracy = 80.6%\n",
      "Precision = 80.8%\n",
      "TPR or Recall = 93.3%\n",
      "FNR = 6.7%\n",
      "FPR = 45.8%\n",
      "ROC-AUC = 87.5%\n"
     ]
    },
    {
     "data": {
      "image/png": "[encoded data removed]",
      "text/plain": [
       "<Figure size 432x288 with 2 Axes>"
      ]
     },
     "metadata": {
      "needs_background": "light"
     },
     "output_type": "display_data"
    }
   ],
   "source": [
    "confusion_matrix_data(train, train.booking_status, baseline_model, cutoff = 0.4)"
   ]
  },
  {
   "cell_type": "code",
   "execution_count": 32,
   "id": "ef556254",
   "metadata": {
    "ExecuteTime": {
     "end_time": "2023-03-02T00:08:00.324028Z",
     "start_time": "2023-03-02T00:07:59.815967Z"
    }
   },
   "outputs": [
    {
     "name": "stdout",
     "output_type": "stream",
     "text": [
      "Classification accuracy = 79.8%\n",
      "Precision = 79.8%\n",
      "TPR or Recall = 93.3%\n",
      "FNR = 6.7%\n",
      "FPR = 47.3%\n",
      "ROC-AUC = 86.4%\n"
     ]
    },
    {
     "data": {
      "image/png": "[encoded data removed]",
      "text/plain": [
       "<Figure size 432x288 with 2 Axes>"
      ]
     },
     "metadata": {
      "needs_background": "light"
     },
     "output_type": "display_data"
    }
   ],
   "source": [
    "confusion_matrix_data(test, test.booking_status, baseline_model, cutoff = 0.4)"
   ]
  },
  {
   "cell_type": "code",
   "execution_count": 29,
   "id": "995672e2",
   "metadata": {
    "ExecuteTime": {
     "end_time": "2023-03-02T00:07:25.351102Z",
     "start_time": "2023-03-02T00:07:25.327698Z"
    }
   },
   "outputs": [],
   "source": [
    "#Function to compute confusion matrix and prediction accuracy on test/train data\n",
    "def confusion_matrix_data(data,actual_values,model,cutoff=0.5):\n",
    "#Predict the values using the Logit model\n",
    "    pred_values = model.predict(data)\n",
    "# Specify the bins\n",
    "    bins=np.array([0,cutoff,1])\n",
    "#Confusion matrix\n",
    "    cm = np.histogram2d(actual_values, pred_values, bins=bins)[0]\n",
    "    cm_df = pd.DataFrame(cm)\n",
    "    cm_df.columns = ['Predicted 0','Predicted 1']\n",
    "    cm_df = cm_df.rename(index={0: 'Actual 0',1:'Actual 1'})\n",
    "# Calculate the accuracy\n",
    "    accuracy = (cm[0,0]+cm[1,1])/cm.sum()\n",
    "    fnr = (cm[1,0])/(cm[1,0]+cm[1,1])\n",
    "    precision = (cm[1,1])/(cm[0,1]+cm[1,1])\n",
    "    fpr = (cm[0,1])/(cm[0,0]+cm[0,1])\n",
    "    tpr = (cm[1,1])/(cm[1,0]+cm[1,1])\n",
    "    fpr_roc, tpr_roc, auc_thresholds = roc_curve(actual_values, pred_values)\n",
    "    auc_value = (auc(fpr_roc, tpr_roc))# AUC of ROC\n",
    "    sns.heatmap(cm_df, annot=True, cmap='Blues', fmt='g')\n",
    "    plt.ylabel(\"Actual Values\")\n",
    "    plt.xlabel(\"Predicted Values\")\n",
    "    print(\"Classification accuracy = {:.1%}\".format(accuracy))\n",
    "    print(\"Precision = {:.1%}\".format(precision))\n",
    "    print(\"TPR or Recall = {:.1%}\".format(tpr))\n",
    "    print(\"FNR = {:.1%}\".format(fnr))\n",
    "    print(\"FPR = {:.1%}\".format(fpr))\n",
    "    print(\"ROC-AUC = {:.1%}\".format(auc_value))"
   ]
  },
  {
   "cell_type": "code",
   "execution_count": 110,
   "id": "39525bce",
   "metadata": {
    "ExecuteTime": {
     "end_time": "2023-03-01T05:08:29.068710Z",
     "start_time": "2023-03-01T05:08:28.714674Z"
    }
   },
   "outputs": [
    {
     "name": "stdout",
     "output_type": "stream",
     "text": [
      "Optimization terminated successfully.\n",
      "         Current function value: 0.466366\n",
      "         Iterations 11\n"
     ]
    },
    {
     "data": {
      "text/html": [
       "<table class=\"simpletable\">\n",
       "<caption>Logit Regression Results</caption>\n",
       "<tr>\n",
       "  <th>Dep. Variable:</th>    <td>booking_status</td>  <th>  No. Observations:  </th>  <td> 27206</td> \n",
       "</tr>\n",
       "<tr>\n",
       "  <th>Model:</th>                 <td>Logit</td>      <th>  Df Residuals:      </th>  <td> 27192</td> \n",
       "</tr>\n",
       "<tr>\n",
       "  <th>Method:</th>                 <td>MLE</td>       <th>  Df Model:          </th>  <td>    13</td> \n",
       "</tr>\n",
       "<tr>\n",
       "  <th>Date:</th>            <td>Tue, 28 Feb 2023</td> <th>  Pseudo R-squ.:     </th>  <td>0.2627</td> \n",
       "</tr>\n",
       "<tr>\n",
       "  <th>Time:</th>                <td>23:08:29</td>     <th>  Log-Likelihood:    </th> <td> -12688.</td>\n",
       "</tr>\n",
       "<tr>\n",
       "  <th>converged:</th>             <td>True</td>       <th>  LL-Null:           </th> <td> -17208.</td>\n",
       "</tr>\n",
       "<tr>\n",
       "  <th>Covariance Type:</th>     <td>nonrobust</td>    <th>  LLR p-value:       </th>  <td> 0.000</td> \n",
       "</tr>\n",
       "</table>\n",
       "<table class=\"simpletable\">\n",
       "<tr>\n",
       "                                  <td></td>                                     <th>coef</th>     <th>std err</th>      <th>z</th>      <th>P>|z|</th>  <th>[0.025</th>    <th>0.975]</th>  \n",
       "</tr>\n",
       "<tr>\n",
       "  <th>Intercept</th>                                                         <td>    5.3143</td> <td>    0.219</td> <td>   24.243</td> <td> 0.000</td> <td>    4.885</td> <td>    5.744</td>\n",
       "</tr>\n",
       "<tr>\n",
       "  <th>no_of_special_requests</th>                                            <td>    1.1224</td> <td>    0.025</td> <td>   44.296</td> <td> 0.000</td> <td>    1.073</td> <td>    1.172</td>\n",
       "</tr>\n",
       "<tr>\n",
       "  <th>lead_time</th>                                                         <td>   -0.0127</td> <td>    0.000</td> <td>  -60.848</td> <td> 0.000</td> <td>   -0.013</td> <td>   -0.012</td>\n",
       "</tr>\n",
       "<tr>\n",
       "  <th>no_of_weekend_nights</th>                                              <td>   -0.0697</td> <td>    0.029</td> <td>   -2.409</td> <td> 0.016</td> <td>   -0.126</td> <td>   -0.013</td>\n",
       "</tr>\n",
       "<tr>\n",
       "  <th>no_of_week_nights</th>                                                 <td>    0.0221</td> <td>    0.018</td> <td>    1.252</td> <td> 0.211</td> <td>   -0.012</td> <td>    0.057</td>\n",
       "</tr>\n",
       "<tr>\n",
       "  <th>no_of_weekend_nights:no_of_week_nights</th>                            <td>   -0.0453</td> <td>    0.008</td> <td>   -5.757</td> <td> 0.000</td> <td>   -0.061</td> <td>   -0.030</td>\n",
       "</tr>\n",
       "<tr>\n",
       "  <th>no_of_previous_cancellations</th>                                      <td>   -0.0070</td> <td>    0.070</td> <td>   -0.101</td> <td> 0.920</td> <td>   -0.144</td> <td>    0.130</td>\n",
       "</tr>\n",
       "<tr>\n",
       "  <th>no_of_previous_bookings_not_canceled</th>                              <td>    0.6133</td> <td>    0.174</td> <td>    3.522</td> <td> 0.000</td> <td>    0.272</td> <td>    0.955</td>\n",
       "</tr>\n",
       "<tr>\n",
       "  <th>no_of_previous_cancellations:no_of_previous_bookings_not_canceled</th> <td>   -0.0501</td> <td>    0.021</td> <td>   -2.393</td> <td> 0.017</td> <td>   -0.091</td> <td>   -0.009</td>\n",
       "</tr>\n",
       "<tr>\n",
       "  <th>avg_price_per_room</th>                                                <td>   -0.0327</td> <td>    0.002</td> <td>  -17.483</td> <td> 0.000</td> <td>   -0.036</td> <td>   -0.029</td>\n",
       "</tr>\n",
       "<tr>\n",
       "  <th>no_of_adults</th>                                                      <td>   -0.9304</td> <td>    0.108</td> <td>   -8.596</td> <td> 0.000</td> <td>   -1.143</td> <td>   -0.718</td>\n",
       "</tr>\n",
       "<tr>\n",
       "  <th>avg_price_per_room:no_of_adults</th>                                   <td>    0.0065</td> <td>    0.001</td> <td>    7.298</td> <td> 0.000</td> <td>    0.005</td> <td>    0.008</td>\n",
       "</tr>\n",
       "<tr>\n",
       "  <th>no_of_children</th>                                                    <td>   -0.7589</td> <td>    0.121</td> <td>   -6.252</td> <td> 0.000</td> <td>   -0.997</td> <td>   -0.521</td>\n",
       "</tr>\n",
       "<tr>\n",
       "  <th>avg_price_per_room:no_of_children</th>                                 <td>    0.0049</td> <td>    0.001</td> <td>    6.547</td> <td> 0.000</td> <td>    0.003</td> <td>    0.006</td>\n",
       "</tr>\n",
       "</table>"
      ],
      "text/plain": [
       "<class 'statsmodels.iolib.summary.Summary'>\n",
       "\"\"\"\n",
       "                           Logit Regression Results                           \n",
       "==============================================================================\n",
       "Dep. Variable:         booking_status   No. Observations:                27206\n",
       "Model:                          Logit   Df Residuals:                    27192\n",
       "Method:                           MLE   Df Model:                           13\n",
       "Date:                Tue, 28 Feb 2023   Pseudo R-squ.:                  0.2627\n",
       "Time:                        23:08:29   Log-Likelihood:                -12688.\n",
       "converged:                       True   LL-Null:                       -17208.\n",
       "Covariance Type:            nonrobust   LLR p-value:                     0.000\n",
       "=====================================================================================================================================\n",
       "                                                                        coef    std err          z      P>|z|      [0.025      0.975]\n",
       "-------------------------------------------------------------------------------------------------------------------------------------\n",
       "Intercept                                                             5.3143      0.219     24.243      0.000       4.885       5.744\n",
       "no_of_special_requests                                                1.1224      0.025     44.296      0.000       1.073       1.172\n",
       "lead_time                                                            -0.0127      0.000    -60.848      0.000      -0.013      -0.012\n",
       "no_of_weekend_nights                                                 -0.0697      0.029     -2.409      0.016      -0.126      -0.013\n",
       "no_of_week_nights                                                     0.0221      0.018      1.252      0.211      -0.012       0.057\n",
       "no_of_weekend_nights:no_of_week_nights                               -0.0453      0.008     -5.757      0.000      -0.061      -0.030\n",
       "no_of_previous_cancellations                                         -0.0070      0.070     -0.101      0.920      -0.144       0.130\n",
       "no_of_previous_bookings_not_canceled                                  0.6133      0.174      3.522      0.000       0.272       0.955\n",
       "no_of_previous_cancellations:no_of_previous_bookings_not_canceled    -0.0501      0.021     -2.393      0.017      -0.091      -0.009\n",
       "avg_price_per_room                                                   -0.0327      0.002    -17.483      0.000      -0.036      -0.029\n",
       "no_of_adults                                                         -0.9304      0.108     -8.596      0.000      -1.143      -0.718\n",
       "avg_price_per_room:no_of_adults                                       0.0065      0.001      7.298      0.000       0.005       0.008\n",
       "no_of_children                                                       -0.7589      0.121     -6.252      0.000      -0.997      -0.521\n",
       "avg_price_per_room:no_of_children                                     0.0049      0.001      6.547      0.000       0.003       0.006\n",
       "=====================================================================================================================================\n",
       "\"\"\""
      ]
     },
     "execution_count": 110,
     "metadata": {},
     "output_type": "execute_result"
    }
   ],
   "source": [
    "# Logistic regression model with only continuous variables\n",
    "logit_model = sm.logit('booking_status~no_of_special_requests+lead_time+no_of_weekend_nights+\\\n",
    "no_of_weekend_nights*no_of_week_nights+no_of_previous_cancellations+\\\n",
    "no_of_previous_cancellations*no_of_previous_bookings_not_canceled+\\\n",
    "avg_price_per_room+avg_price_per_room*no_of_adults+avg_price_per_room*no_of_children', data = train).fit()\n",
    "logit_model.summary()"
   ]
  },
  {
   "cell_type": "code",
   "execution_count": 111,
   "id": "76af48cd",
   "metadata": {
    "ExecuteTime": {
     "end_time": "2023-03-01T05:08:34.655966Z",
     "start_time": "2023-03-01T05:08:34.150978Z"
    }
   },
   "outputs": [
    {
     "name": "stdout",
     "output_type": "stream",
     "text": [
      "Classification accuracy = 77.5%\n",
      "Precision = 77.3%\n",
      "TPR or Recall = 94.1%\n",
      "FNR = 5.9%\n",
      "FPR = 56.6%\n",
      "ROC-AUC = 82.8%\n"
     ]
    },
    {
     "data": {
      "image/png": "[encoded data removed]",
      "text/plain": [
       "<Figure size 432x288 with 2 Axes>"
      ]
     },
     "metadata": {
      "needs_background": "light"
     },
     "output_type": "display_data"
    }
   ],
   "source": [
    "confusion_matrix_data(train, train.booking_status, logit_model, cutoff = 0.4)"
   ]
  },
  {
   "cell_type": "code",
   "execution_count": 112,
   "id": "cd17f1d3",
   "metadata": {
    "ExecuteTime": {
     "end_time": "2023-03-01T05:08:40.478497Z",
     "start_time": "2023-03-01T05:08:40.043137Z"
    }
   },
   "outputs": [
    {
     "name": "stdout",
     "output_type": "stream",
     "text": [
      "Classification accuracy = 76.8%\n",
      "Precision = 76.8%\n",
      "TPR or Recall = 93.9%\n",
      "FNR = 6.1%\n",
      "FPR = 58.3%\n",
      "ROC-AUC = 82.6%\n"
     ]
    },
    {
     "data": {
      "image/png": "[encoded data removed]",
      "text/plain": [
       "<Figure size 432x288 with 2 Axes>"
      ]
     },
     "metadata": {
      "needs_background": "light"
     },
     "output_type": "display_data"
    }
   ],
   "source": [
    "confusion_matrix_data(test, test.booking_status, logit_model, cutoff = 0.4)"
   ]
  },
  {
   "cell_type": "code",
   "execution_count": 79,
   "id": "741e9c6e",
   "metadata": {
    "ExecuteTime": {
     "end_time": "2023-03-01T04:26:04.008557Z",
     "start_time": "2023-03-01T04:26:03.693728Z"
    }
   },
   "outputs": [
    {
     "name": "stdout",
     "output_type": "stream",
     "text": [
      "Optimization terminated successfully.\n",
      "         Current function value: 0.467066\n",
      "         Iterations 8\n"
     ]
    },
    {
     "data": {
      "text/html": [
       "<table class=\"simpletable\">\n",
       "<caption>Logit Regression Results</caption>\n",
       "<tr>\n",
       "  <th>Dep. Variable:</th>    <td>booking_status</td>  <th>  No. Observations:  </th>  <td> 27206</td> \n",
       "</tr>\n",
       "<tr>\n",
       "  <th>Model:</th>                 <td>Logit</td>      <th>  Df Residuals:      </th>  <td> 27196</td> \n",
       "</tr>\n",
       "<tr>\n",
       "  <th>Method:</th>                 <td>MLE</td>       <th>  Df Model:          </th>  <td>     9</td> \n",
       "</tr>\n",
       "<tr>\n",
       "  <th>Date:</th>            <td>Tue, 28 Feb 2023</td> <th>  Pseudo R-squ.:     </th>  <td>0.2616</td> \n",
       "</tr>\n",
       "<tr>\n",
       "  <th>Time:</th>                <td>22:26:03</td>     <th>  Log-Likelihood:    </th> <td> -12707.</td>\n",
       "</tr>\n",
       "<tr>\n",
       "  <th>converged:</th>             <td>True</td>       <th>  LL-Null:           </th> <td> -17208.</td>\n",
       "</tr>\n",
       "<tr>\n",
       "  <th>Covariance Type:</th>     <td>nonrobust</td>    <th>  LLR p-value:       </th>  <td> 0.000</td> \n",
       "</tr>\n",
       "</table>\n",
       "<table class=\"simpletable\">\n",
       "<tr>\n",
       "                  <td></td>                     <th>coef</th>     <th>std err</th>      <th>z</th>      <th>P>|z|</th>  <th>[0.025</th>    <th>0.975]</th>  \n",
       "</tr>\n",
       "<tr>\n",
       "  <th>Intercept</th>                         <td>    5.2889</td> <td>    0.218</td> <td>   24.312</td> <td> 0.000</td> <td>    4.862</td> <td>    5.715</td>\n",
       "</tr>\n",
       "<tr>\n",
       "  <th>no_of_special_requests</th>            <td>    1.1212</td> <td>    0.025</td> <td>   44.425</td> <td> 0.000</td> <td>    1.072</td> <td>    1.171</td>\n",
       "</tr>\n",
       "<tr>\n",
       "  <th>lead_time</th>                         <td>   -0.0126</td> <td>    0.000</td> <td>  -61.543</td> <td> 0.000</td> <td>   -0.013</td> <td>   -0.012</td>\n",
       "</tr>\n",
       "<tr>\n",
       "  <th>no_of_weekend_nights</th>              <td>   -0.2188</td> <td>    0.018</td> <td>  -12.366</td> <td> 0.000</td> <td>   -0.253</td> <td>   -0.184</td>\n",
       "</tr>\n",
       "<tr>\n",
       "  <th>avg_price_per_room</th>                <td>   -0.0323</td> <td>    0.002</td> <td>  -17.261</td> <td> 0.000</td> <td>   -0.036</td> <td>   -0.029</td>\n",
       "</tr>\n",
       "<tr>\n",
       "  <th>no_of_adults</th>                      <td>   -0.8843</td> <td>    0.108</td> <td>   -8.207</td> <td> 0.000</td> <td>   -1.095</td> <td>   -0.673</td>\n",
       "</tr>\n",
       "<tr>\n",
       "  <th>avg_price_per_room:no_of_adults</th>   <td>    0.0063</td> <td>    0.001</td> <td>    7.075</td> <td> 0.000</td> <td>    0.005</td> <td>    0.008</td>\n",
       "</tr>\n",
       "<tr>\n",
       "  <th>no_of_children</th>                    <td>   -0.7423</td> <td>    0.121</td> <td>   -6.122</td> <td> 0.000</td> <td>   -0.980</td> <td>   -0.505</td>\n",
       "</tr>\n",
       "<tr>\n",
       "  <th>avg_price_per_room:no_of_children</th> <td>    0.0048</td> <td>    0.001</td> <td>    6.405</td> <td> 0.000</td> <td>    0.003</td> <td>    0.006</td>\n",
       "</tr>\n",
       "<tr>\n",
       "  <th>repeated_guest</th>                    <td>    1.8042</td> <td>    0.289</td> <td>    6.252</td> <td> 0.000</td> <td>    1.239</td> <td>    2.370</td>\n",
       "</tr>\n",
       "</table>"
      ],
      "text/plain": [
       "<class 'statsmodels.iolib.summary.Summary'>\n",
       "\"\"\"\n",
       "                           Logit Regression Results                           \n",
       "==============================================================================\n",
       "Dep. Variable:         booking_status   No. Observations:                27206\n",
       "Model:                          Logit   Df Residuals:                    27196\n",
       "Method:                           MLE   Df Model:                            9\n",
       "Date:                Tue, 28 Feb 2023   Pseudo R-squ.:                  0.2616\n",
       "Time:                        22:26:03   Log-Likelihood:                -12707.\n",
       "converged:                       True   LL-Null:                       -17208.\n",
       "Covariance Type:            nonrobust   LLR p-value:                     0.000\n",
       "=====================================================================================================\n",
       "                                        coef    std err          z      P>|z|      [0.025      0.975]\n",
       "-----------------------------------------------------------------------------------------------------\n",
       "Intercept                             5.2889      0.218     24.312      0.000       4.862       5.715\n",
       "no_of_special_requests                1.1212      0.025     44.425      0.000       1.072       1.171\n",
       "lead_time                            -0.0126      0.000    -61.543      0.000      -0.013      -0.012\n",
       "no_of_weekend_nights                 -0.2188      0.018    -12.366      0.000      -0.253      -0.184\n",
       "avg_price_per_room                   -0.0323      0.002    -17.261      0.000      -0.036      -0.029\n",
       "no_of_adults                         -0.8843      0.108     -8.207      0.000      -1.095      -0.673\n",
       "avg_price_per_room:no_of_adults       0.0063      0.001      7.075      0.000       0.005       0.008\n",
       "no_of_children                       -0.7423      0.121     -6.122      0.000      -0.980      -0.505\n",
       "avg_price_per_room:no_of_children     0.0048      0.001      6.405      0.000       0.003       0.006\n",
       "repeated_guest                        1.8042      0.289      6.252      0.000       1.239       2.370\n",
       "=====================================================================================================\n",
       "\"\"\""
      ]
     },
     "execution_count": 79,
     "metadata": {},
     "output_type": "execute_result"
    }
   ],
   "source": [
    "# Logistic regression model adding categorical variables\n",
    "logit_model = sm.logit('booking_status~no_of_special_requests+lead_time+no_of_weekend_nights+\\\n",
    "avg_price_per_room+avg_price_per_room*no_of_adults+avg_price_per_room*no_of_children+\\\n",
    "repeated_guest', data = train).fit()\n",
    "logit_model.summary()"
   ]
  },
  {
   "cell_type": "code",
   "execution_count": null,
   "id": "dc734e62",
   "metadata": {},
   "outputs": [],
   "source": []
  },
  {
   "cell_type": "code",
   "execution_count": 80,
   "id": "d8917022",
   "metadata": {
    "ExecuteTime": {
     "end_time": "2023-03-01T04:26:13.771371Z",
     "start_time": "2023-03-01T04:26:13.366155Z"
    }
   },
   "outputs": [
    {
     "name": "stdout",
     "output_type": "stream",
     "text": [
      "Classification accuracy = 77.5%\n",
      "Precision = 77.3%\n",
      "TPR or Recall = 94.1%\n",
      "FNR = 5.9%\n",
      "FPR = 56.7%\n",
      "ROC-AUC = 82.7%\n"
     ]
    },
    {
     "data": {
      "image/png": "[encoded data removed]",
      "text/plain": [
       "<Figure size 432x288 with 2 Axes>"
      ]
     },
     "metadata": {
      "needs_background": "light"
     },
     "output_type": "display_data"
    }
   ],
   "source": [
    "confusion_matrix_data(train, train.booking_status, logit_model, cutoff = 0.4)"
   ]
  },
  {
   "cell_type": "code",
   "execution_count": 109,
   "id": "77502e67",
   "metadata": {
    "ExecuteTime": {
     "end_time": "2023-03-01T05:08:19.041068Z",
     "start_time": "2023-03-01T05:08:18.644066Z"
    }
   },
   "outputs": [
    {
     "name": "stdout",
     "output_type": "stream",
     "text": [
      "Classification accuracy = 76.8%\n",
      "Precision = 76.8%\n",
      "TPR or Recall = 93.9%\n",
      "FNR = 6.1%\n",
      "FPR = 58.3%\n",
      "ROC-AUC = 82.6%\n"
     ]
    },
    {
     "data": {
      "image/png": "[encoded data removed]",
      "text/plain": [
       "<Figure size 432x288 with 2 Axes>"
      ]
     },
     "metadata": {
      "needs_background": "light"
     },
     "output_type": "display_data"
    }
   ],
   "source": [
    "confusion_matrix_data(test, test.booking_status, logit_model, cutoff = 0.4)"
   ]
  },
  {
   "cell_type": "code",
   "execution_count": 34,
   "id": "1b246a02",
   "metadata": {
    "ExecuteTime": {
     "end_time": "2023-03-02T00:28:54.307752Z",
     "start_time": "2023-03-02T00:28:54.283005Z"
    }
   },
   "outputs": [],
   "source": [
    "#Creating a set of predictors from which we need to find the best subset of predictors\n",
    "X = train[['no_of_adults', 'no_of_children','no_of_weekend_nights','no_of_week_nights','type_of_meal_plan',\n",
    "           'required_car_parking_space', 'room_type_reserved','lead_time','arrival_year','arrival_month',\n",
    "                               'arrival_date','market_segment_type','repeated_guest', 'no_of_previous_cancellations',\n",
    "       'no_of_previous_bookings_not_canceled','avg_price_per_room', 'no_of_special_requests','Complementary',\n",
    "                                  'Corporate','Offline',\n",
    "                                     'Online','January',\n",
    "       'February', 'March', 'May', 'June', 'July', 'August', 'September',\n",
    "       'October', 'November', 'December', 'MealPlan1', 'MealPlan2',\n",
    "       'NotSelected', 'Room_Type1', 'Room_Type2', 'Room_Type3', 'Room_Type4',\n",
    "       'Room_Type5', 'Room_Type6']]"
   ]
  },
  {
   "cell_type": "code",
   "execution_count": 100,
   "id": "6c8869f5",
   "metadata": {
    "ExecuteTime": {
     "end_time": "2023-03-01T04:38:51.052783Z",
     "start_time": "2023-03-01T04:38:50.918570Z"
    }
   },
   "outputs": [
    {
     "ename": "TypeError",
     "evalue": "Cannot cast Index to dtype int32",
     "output_type": "error",
     "traceback": [
      "\u001b[1;31m---------------------------------------------------------------------------\u001b[0m",
      "\u001b[1;31mValueError\u001b[0m                                Traceback (most recent call last)",
      "File \u001b[1;32m~\\anaconda3\\lib\\site-packages\\pandas\\core\\indexes\\base.py:1059\u001b[0m, in \u001b[0;36mIndex.astype\u001b[1;34m(self, dtype, copy)\u001b[0m\n\u001b[0;32m   1058\u001b[0m \u001b[38;5;28;01mtry\u001b[39;00m:\n\u001b[1;32m-> 1059\u001b[0m     new_values \u001b[38;5;241m=\u001b[39m \u001b[43mvalues\u001b[49m\u001b[38;5;241;43m.\u001b[39;49m\u001b[43mastype\u001b[49m\u001b[43m(\u001b[49m\u001b[43mdtype\u001b[49m\u001b[43m,\u001b[49m\u001b[43m \u001b[49m\u001b[43mcopy\u001b[49m\u001b[38;5;241;43m=\u001b[39;49m\u001b[43mcopy\u001b[49m\u001b[43m)\u001b[49m\n\u001b[0;32m   1060\u001b[0m \u001b[38;5;28;01mexcept\u001b[39;00m (\u001b[38;5;167;01mTypeError\u001b[39;00m, \u001b[38;5;167;01mValueError\u001b[39;00m) \u001b[38;5;28;01mas\u001b[39;00m err:\n",
      "\u001b[1;31mValueError\u001b[0m: invalid literal for int() with base 10: 'Booking_ID'",
      "\nThe above exception was the direct cause of the following exception:\n",
      "\u001b[1;31mTypeError\u001b[0m                                 Traceback (most recent call last)",
      "Input \u001b[1;32mIn [100]\u001b[0m, in \u001b[0;36m<cell line: 1>\u001b[1;34m()\u001b[0m\n\u001b[1;32m----> 1\u001b[0m \u001b[43mdf\u001b[49m\u001b[38;5;241;43m.\u001b[39;49m\u001b[43mcolumns\u001b[49m\u001b[38;5;241;43m.\u001b[39;49m\u001b[43mastype\u001b[49m\u001b[43m(\u001b[49m\u001b[38;5;28;43mint\u001b[39;49m\u001b[43m)\u001b[49m\n",
      "File \u001b[1;32m~\\anaconda3\\lib\\site-packages\\pandas\\core\\indexes\\base.py:1061\u001b[0m, in \u001b[0;36mIndex.astype\u001b[1;34m(self, dtype, copy)\u001b[0m\n\u001b[0;32m   1059\u001b[0m         new_values \u001b[38;5;241m=\u001b[39m values\u001b[38;5;241m.\u001b[39mastype(dtype, copy\u001b[38;5;241m=\u001b[39mcopy)\n\u001b[0;32m   1060\u001b[0m     \u001b[38;5;28;01mexcept\u001b[39;00m (\u001b[38;5;167;01mTypeError\u001b[39;00m, \u001b[38;5;167;01mValueError\u001b[39;00m) \u001b[38;5;28;01mas\u001b[39;00m err:\n\u001b[1;32m-> 1061\u001b[0m         \u001b[38;5;28;01mraise\u001b[39;00m \u001b[38;5;167;01mTypeError\u001b[39;00m(\n\u001b[0;32m   1062\u001b[0m             \u001b[38;5;124mf\u001b[39m\u001b[38;5;124m\"\u001b[39m\u001b[38;5;124mCannot cast \u001b[39m\u001b[38;5;132;01m{\u001b[39;00m\u001b[38;5;28mtype\u001b[39m(\u001b[38;5;28mself\u001b[39m)\u001b[38;5;241m.\u001b[39m\u001b[38;5;18m__name__\u001b[39m\u001b[38;5;132;01m}\u001b[39;00m\u001b[38;5;124m to dtype \u001b[39m\u001b[38;5;132;01m{\u001b[39;00mdtype\u001b[38;5;132;01m}\u001b[39;00m\u001b[38;5;124m\"\u001b[39m\n\u001b[0;32m   1063\u001b[0m         ) \u001b[38;5;28;01mfrom\u001b[39;00m \u001b[38;5;21;01merr\u001b[39;00m\n\u001b[0;32m   1065\u001b[0m \u001b[38;5;66;03m# pass copy=False because any copying will be done in the astype above\u001b[39;00m\n\u001b[0;32m   1066\u001b[0m \u001b[38;5;28;01mreturn\u001b[39;00m Index(new_values, name\u001b[38;5;241m=\u001b[39m\u001b[38;5;28mself\u001b[39m\u001b[38;5;241m.\u001b[39mname, dtype\u001b[38;5;241m=\u001b[39mnew_values\u001b[38;5;241m.\u001b[39mdtype, copy\u001b[38;5;241m=\u001b[39m\u001b[38;5;28;01mFalse\u001b[39;00m)\n",
      "\u001b[1;31mTypeError\u001b[0m: Cannot cast Index to dtype int32"
     ]
    }
   ],
   "source": []
  },
  {
   "cell_type": "code",
   "execution_count": 35,
   "id": "a53e8359",
   "metadata": {
    "ExecuteTime": {
     "end_time": "2023-03-02T00:29:14.268130Z",
     "start_time": "2023-03-02T00:29:14.252893Z"
    }
   },
   "outputs": [],
   "source": [
    "#Function to develop a model based on all predictors in predictor_subset\n",
    "def processSubset(predictor_subset):\n",
    "    # Fit model on feature_set and calculate R-squared\n",
    "    model = sm.logit('booking_status~' + '+'.join(predictor_subset),data = train).fit()\n",
    "    Rsquared = model.rsquared\n",
    "    return {\"model\":model, \"Accuracy\":Rsquared}"
   ]
  },
  {
   "cell_type": "code",
   "execution_count": 36,
   "id": "09f633a0",
   "metadata": {
    "ExecuteTime": {
     "end_time": "2023-03-02T00:29:16.295606Z",
     "start_time": "2023-03-02T00:29:16.267782Z"
    }
   },
   "outputs": [],
   "source": [
    "#Function to find the best predictor out of p-k predictors and add it to the model containing the k predictors\n",
    "def forward(predictors):\n",
    "\n",
    "    # Pull out predictors we still need to process\n",
    "    remaining_predictors = [p for p in X.columns if p not in predictors]\n",
    "    \n",
    "    tic = time.time()\n",
    "    \n",
    "    results = []\n",
    "    \n",
    "    for p in remaining_predictors:\n",
    "        results.append(processSubset(predictors+[p]))\n",
    "    \n",
    "    # Wrap everything up in a nice dataframe\n",
    "    models = pd.DataFrame(results)\n",
    "    \n",
    "    # Choose the model with the highest RSS\n",
    "    best_model = models.loc[models['Rsquared'].argmax()]\n",
    "    \n",
    "    toc = time.time()\n",
    "    print(\"Processed \", models.shape[0], \"models on\", len(predictors)+1, \"predictors in\", (toc-tic), \"seconds.\")\n",
    "    \n",
    "    # Return the best model, along with some other useful information about the model\n",
    "    return best_model"
   ]
  },
  {
   "cell_type": "code",
   "execution_count": 37,
   "id": "3b0553dd",
   "metadata": {
    "ExecuteTime": {
     "end_time": "2023-03-02T00:29:19.482653Z",
     "start_time": "2023-03-02T00:29:19.455595Z"
    }
   },
   "outputs": [],
   "source": [
    "def forward_selection():\n",
    "    models_best = pd.DataFrame(columns=[\"Rsquared\", \"model\"])\n",
    "\n",
    "    tic = time.time()\n",
    "    predictors = []\n",
    "\n",
    "    for i in range(1,len(X.columns)+1):    \n",
    "        models_best.loc[i] = forward(predictors)\n",
    "        predictors = list(models_best.loc[i][\"model\"].params.index[1:])\n",
    "\n",
    "    toc = time.time()\n",
    "    print(\"Total elapsed time:\", (toc-tic), \"seconds.\")\n",
    "    return models_best"
   ]
  },
  {
   "cell_type": "code",
   "execution_count": 38,
   "id": "769acb82",
   "metadata": {
    "ExecuteTime": {
     "end_time": "2023-03-02T00:29:20.947433Z",
     "start_time": "2023-03-02T00:29:20.652457Z"
    }
   },
   "outputs": [
    {
     "name": "stdout",
     "output_type": "stream",
     "text": [
      "Optimization terminated successfully.\n",
      "         Current function value: 0.627206\n",
      "         Iterations 5\n"
     ]
    },
    {
     "ename": "AttributeError",
     "evalue": "'LogitResults' object has no attribute 'rsquared'",
     "output_type": "error",
     "traceback": [
      "\u001b[1;31m---------------------------------------------------------------------------\u001b[0m",
      "\u001b[1;31mAttributeError\u001b[0m                            Traceback (most recent call last)",
      "Input \u001b[1;32mIn [38]\u001b[0m, in \u001b[0;36m<cell line: 1>\u001b[1;34m()\u001b[0m\n\u001b[1;32m----> 1\u001b[0m models_best \u001b[38;5;241m=\u001b[39m \u001b[43mforward_selection\u001b[49m\u001b[43m(\u001b[49m\u001b[43m)\u001b[49m\n",
      "Input \u001b[1;32mIn [37]\u001b[0m, in \u001b[0;36mforward_selection\u001b[1;34m()\u001b[0m\n\u001b[0;32m      5\u001b[0m predictors \u001b[38;5;241m=\u001b[39m []\n\u001b[0;32m      7\u001b[0m \u001b[38;5;28;01mfor\u001b[39;00m i \u001b[38;5;129;01min\u001b[39;00m \u001b[38;5;28mrange\u001b[39m(\u001b[38;5;241m1\u001b[39m,\u001b[38;5;28mlen\u001b[39m(X\u001b[38;5;241m.\u001b[39mcolumns)\u001b[38;5;241m+\u001b[39m\u001b[38;5;241m1\u001b[39m):    \n\u001b[1;32m----> 8\u001b[0m     models_best\u001b[38;5;241m.\u001b[39mloc[i] \u001b[38;5;241m=\u001b[39m \u001b[43mforward\u001b[49m\u001b[43m(\u001b[49m\u001b[43mpredictors\u001b[49m\u001b[43m)\u001b[49m\n\u001b[0;32m      9\u001b[0m     predictors \u001b[38;5;241m=\u001b[39m \u001b[38;5;28mlist\u001b[39m(models_best\u001b[38;5;241m.\u001b[39mloc[i][\u001b[38;5;124m\"\u001b[39m\u001b[38;5;124mmodel\u001b[39m\u001b[38;5;124m\"\u001b[39m]\u001b[38;5;241m.\u001b[39mparams\u001b[38;5;241m.\u001b[39mindex[\u001b[38;5;241m1\u001b[39m:])\n\u001b[0;32m     11\u001b[0m toc \u001b[38;5;241m=\u001b[39m time\u001b[38;5;241m.\u001b[39mtime()\n",
      "Input \u001b[1;32mIn [36]\u001b[0m, in \u001b[0;36mforward\u001b[1;34m(predictors)\u001b[0m\n\u001b[0;32m      9\u001b[0m results \u001b[38;5;241m=\u001b[39m []\n\u001b[0;32m     11\u001b[0m \u001b[38;5;28;01mfor\u001b[39;00m p \u001b[38;5;129;01min\u001b[39;00m remaining_predictors:\n\u001b[1;32m---> 12\u001b[0m     results\u001b[38;5;241m.\u001b[39mappend(\u001b[43mprocessSubset\u001b[49m\u001b[43m(\u001b[49m\u001b[43mpredictors\u001b[49m\u001b[38;5;241;43m+\u001b[39;49m\u001b[43m[\u001b[49m\u001b[43mp\u001b[49m\u001b[43m]\u001b[49m\u001b[43m)\u001b[49m)\n\u001b[0;32m     14\u001b[0m \u001b[38;5;66;03m# Wrap everything up in a nice dataframe\u001b[39;00m\n\u001b[0;32m     15\u001b[0m models \u001b[38;5;241m=\u001b[39m pd\u001b[38;5;241m.\u001b[39mDataFrame(results)\n",
      "Input \u001b[1;32mIn [35]\u001b[0m, in \u001b[0;36mprocessSubset\u001b[1;34m(predictor_subset)\u001b[0m\n\u001b[0;32m      2\u001b[0m \u001b[38;5;28;01mdef\u001b[39;00m \u001b[38;5;21mprocessSubset\u001b[39m(predictor_subset):\n\u001b[0;32m      3\u001b[0m     \u001b[38;5;66;03m# Fit model on feature_set and calculate R-squared\u001b[39;00m\n\u001b[0;32m      4\u001b[0m     model \u001b[38;5;241m=\u001b[39m sm\u001b[38;5;241m.\u001b[39mlogit(\u001b[38;5;124m'\u001b[39m\u001b[38;5;124mbooking_status~\u001b[39m\u001b[38;5;124m'\u001b[39m \u001b[38;5;241m+\u001b[39m \u001b[38;5;124m'\u001b[39m\u001b[38;5;124m+\u001b[39m\u001b[38;5;124m'\u001b[39m\u001b[38;5;241m.\u001b[39mjoin(predictor_subset),data \u001b[38;5;241m=\u001b[39m train)\u001b[38;5;241m.\u001b[39mfit()\n\u001b[1;32m----> 5\u001b[0m     Rsquared \u001b[38;5;241m=\u001b[39m \u001b[43mmodel\u001b[49m\u001b[38;5;241;43m.\u001b[39;49m\u001b[43mrsquared\u001b[49m\n\u001b[0;32m      6\u001b[0m     \u001b[38;5;28;01mreturn\u001b[39;00m {\u001b[38;5;124m\"\u001b[39m\u001b[38;5;124mmodel\u001b[39m\u001b[38;5;124m\"\u001b[39m:model, \u001b[38;5;124m\"\u001b[39m\u001b[38;5;124mRsquared\u001b[39m\u001b[38;5;124m\"\u001b[39m:Rsquared}\n",
      "File \u001b[1;32m~\\anaconda3\\lib\\site-packages\\statsmodels\\base\\wrapper.py:34\u001b[0m, in \u001b[0;36mResultsWrapper.__getattribute__\u001b[1;34m(self, attr)\u001b[0m\n\u001b[0;32m     31\u001b[0m \u001b[38;5;28;01mexcept\u001b[39;00m \u001b[38;5;167;01mAttributeError\u001b[39;00m:\n\u001b[0;32m     32\u001b[0m     \u001b[38;5;28;01mpass\u001b[39;00m\n\u001b[1;32m---> 34\u001b[0m obj \u001b[38;5;241m=\u001b[39m \u001b[38;5;28;43mgetattr\u001b[39;49m\u001b[43m(\u001b[49m\u001b[43mresults\u001b[49m\u001b[43m,\u001b[49m\u001b[43m \u001b[49m\u001b[43mattr\u001b[49m\u001b[43m)\u001b[49m\n\u001b[0;32m     35\u001b[0m data \u001b[38;5;241m=\u001b[39m results\u001b[38;5;241m.\u001b[39mmodel\u001b[38;5;241m.\u001b[39mdata\n\u001b[0;32m     36\u001b[0m how \u001b[38;5;241m=\u001b[39m \u001b[38;5;28mself\u001b[39m\u001b[38;5;241m.\u001b[39m_wrap_attrs\u001b[38;5;241m.\u001b[39mget(attr)\n",
      "\u001b[1;31mAttributeError\u001b[0m: 'LogitResults' object has no attribute 'rsquared'"
     ]
    }
   ],
   "source": [
    "models_best = forward_selection()"
   ]
  },
  {
   "cell_type": "code",
   "execution_count": null,
   "id": "4ecd3470",
   "metadata": {},
   "outputs": [],
   "source": []
  }
 ],
 "metadata": {
  "kernelspec": {
   "display_name": "Python 3 (ipykernel)",
   "language": "python",
   "name": "python3"
  },
  "language_info": {
   "codemirror_mode": {
    "name": "ipython",
    "version": 3
   },
   "file_extension": ".py",
   "mimetype": "text/x-python",
   "name": "python",
   "nbconvert_exporter": "python",
   "pygments_lexer": "ipython3",
   "version": "3.9.12"
  },
  "toc": {
   "base_numbering": 1,
   "nav_menu": {},
   "number_sections": true,
   "sideBar": true,
   "skip_h1_title": false,
   "title_cell": "Table of Contents",
   "title_sidebar": "Contents",
   "toc_cell": false,
   "toc_position": {},
   "toc_section_display": true,
   "toc_window_display": false
  },
  "varInspector": {
   "cols": {
    "lenName": 16,
    "lenType": 16,
    "lenVar": 40
   },
   "kernels_config": {
    "python": {
     "delete_cmd_postfix": "",
     "delete_cmd_prefix": "del ",
     "library": "var_list.py",
     "varRefreshCmd": "print(var_dic_list())"
    },
    "r": {
     "delete_cmd_postfix": ") ",
     "delete_cmd_prefix": "rm(",
     "library": "var_list.r",
     "varRefreshCmd": "cat(var_dic_list()) "
    }
   },
   "types_to_exclude": [
    "module",
    "function",
    "builtin_function_or_method",
    "instance",
    "_Feature"
   ],
   "window_display": false
  }
 },
 "nbformat": 4,
 "nbformat_minor": 5
}
