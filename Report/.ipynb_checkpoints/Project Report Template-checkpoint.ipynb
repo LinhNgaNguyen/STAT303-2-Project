{
 "cells": [
  {
   "cell_type": "raw",
   "id": "33dd6c4c",
   "metadata": {},
   "source": [
    "---\n",
    "title: \"Project Report: Hotel Cancelletions\"\n",
    "subtitle: anaconda\n",
    "author: Hoda Fakhari, Elena Llaguno Cantu, Luna Nguyen, and Kiara Villalobos-Hernandez\n",
    "date: 03/15/2023\n",
    "number-sections: true\n",
    "abstract: This project report aims to analyze hotel cancellations at INN Hotel Chain from 2017 to 2018. The goal is to develop effective logistical models to predict cancellation probabilities of hotel guests, which would help minimize hotel profit loss and implement effective overbooking strategies. The data was thoroughly explored and cleaned, and new variables such as seasons and holidays were manually inputted to gain additional insights. Exploratory data analysis (EDA) was conducted, which revealed that hotel cancellations were less during winter. Additionally, greater lead times and increased room prices both led to an increased probability of hotel cancellations. The aim was to minimize False Negative Rates (FNR) and maximize model accuracy to create an effective \"overbooking formula\" for hotels. Various techniques such as forward and backward selection, lasso and ridge regression, as well as KNN were used to develop the models. The baseline model, as well as the ridge regression model, were found to be the best models considering the FNR and accuracy metrics. Both models had an accuracy close to 80% and an FNR of around 30%. Based on the findings of EDA, we recommend enhancing customer service and marketing efforts to prevent cancellations. We also recommend using the logistical model developed above to mitigate overbooking to minimize loss. In conclusion, this project provides a valuable insight into hotel cancellations at INN Hotel Chain. The developed models would help the hotel chain to predict cancellation probabilities and make informed decisions to minimize loss.\n",
    "format: \n",
    "  html:\n",
    "    toc: true\n",
    "    toc-title: Contents\n",
    "    self-contained: true\n",
    "    font-size: 100%\n",
    "    toc-depth: 4\n",
    "    mainfont: serif\n",
    "jupyter: python3\n",
    "---"
   ]
  },
  {
   "cell_type": "markdown",
   "id": "0116f49b",
   "metadata": {},
   "source": [
    "## Background / Motivation (Luna + Kiara)\n",
    "\n",
    "What motivated you to work on this problem?\n",
    "\n",
    "Mention any background about the problem, if it is required to understand your analysis later on."
   ]
  },
  {
   "cell_type": "markdown",
   "id": "14581c18",
   "metadata": {},
   "source": [
    "Many hotels usually only charge a small price or allow customers to cancel their hotel booking completely free. However, this can lead to a problem for the hotel if customers abuse this service. Therefore, one solution is to overbook the hotel, but overbooking runs the risk of upsetting customers if they end up not getting a room. This also might result in the hotel having to book their customer a room in a different hotel, leading to an even higher cost. "
   ]
  },
  {
   "cell_type": "markdown",
   "id": "84ff1421",
   "metadata": {},
   "source": [
    "## Problem statement (Luna + Kiara)\n",
    "\n",
    "Describe your problem statement. Articulate your objectives using absolutely no jargon. Interpret the problem as inference and/or prediction."
   ]
  },
  {
   "cell_type": "markdown",
   "id": "deaaef9f",
   "metadata": {},
   "source": [
    "Predicting the probability of cancellation of each customer to develop an overbooking formula is very helpful to determine the number of rooms to overbook and therefore, maximimizes profit. "
   ]
  },
  {
   "cell_type": "markdown",
   "id": "38c7b95f",
   "metadata": {},
   "source": [
    "## Data sources (Luna + Kiara)\n",
    "What data did you use? Provide details about your data. Include links to data if you are using open-access data."
   ]
  },
  {
   "cell_type": "markdown",
   "id": "d9015c28",
   "metadata": {},
   "source": [
    "We pull a hotel reservation dataset from Kaggle with around 36,000 observations and 18 variables. Here is the link to the dataset: https://www.kaggle.com/datasets/ahsan81/hotel-reservations-classification-dataset"
   ]
  },
  {
   "cell_type": "markdown",
   "id": "8c255035",
   "metadata": {},
   "source": [
    "## Stakeholders (Luna + Kiara)\n",
    "Who cares? If you are successful, what difference will it make to them?"
   ]
  },
  {
   "cell_type": "markdown",
   "id": "72451abc",
   "metadata": {},
   "source": [
    "The hotel manager and the INN hotel chain are our stakeholders. For the hotel manager, they would be able to identify the probability of a customer cancelling their reservation to navigate overbooking. On the other hand, the INN hotel chain cares because they want to maximizes their profit by minimizing the loss from having empty rooms in the hotel."
   ]
  },
  {
   "cell_type": "markdown",
   "id": "fe7ea9bb",
   "metadata": {},
   "source": [
    "## Data quality check / cleaning / preparation (Hoda, Elena)\n",
    "\n",
    "In a tabular form, show the distribution of values of each variable used in the analysis - for both categorical and continuous variables. Distribution of a categorical variable must include the number of missing values, the number of unique values, the frequency of all its levels. If a categorical variable has too many levels, you may just include the counts of the top 3-5 levels. \n",
    "\n",
    "If the tables in this section take too much space, you may put them in the appendix, and just mention any useful insights you obtained from the data quality check that helped you develop the model or helped you realize the necessary data cleaning / preparation.\n",
    "\n",
    "Were there any potentially incorrect values of variables that required cleaning? If yes, how did you clean them? \n",
    "\n",
    "Did you do any data wrangling or data preparation before the data was ready to use for model development? Did you create any new predictors from exisiting predictors? For example, if you have number of transactions and spend in a credit card dataset, you may create spend per transaction for predicting if a customer pays their credit card bill. Mention the steps at a broad level, you may put minor details in the appendix. Only mention the steps that ended up being useful towards developing your final model(s)."
   ]
  },
  {
   "cell_type": "code",
   "execution_count": 3,
   "id": "dcd0d051",
   "metadata": {},
   "outputs": [],
   "source": [
    "#importing libraries\n",
    "import pandas as pd\n",
    "import numpy as np\n",
    "import seaborn as sns\n",
    "import matplotlib.pyplot as plt\n",
    "import statsmodels.formula.api as sm\n",
    "from sklearn.linear_model import Ridge, RidgeCV, Lasso, LassoCV\n",
    "from sklearn.preprocessing import StandardScaler \n",
    "from sklearn.metrics import r2_score\n",
    "from sklearn.model_selection import train_test_split\n",
    "from sklearn.metrics import roc_curve, auc\n",
    "from sklearn.metrics import precision_recall_curve\n",
    "import itertools\n",
    "import time\n",
    "from datetime import datetime"
   ]
  },
  {
   "cell_type": "code",
   "execution_count": 5,
   "id": "bc142d20",
   "metadata": {},
   "outputs": [
    {
     "name": "stdout",
     "output_type": "stream",
     "text": [
      "There are 0 missing values in the hotel reservation dataset.\n"
     ]
    }
   ],
   "source": [
    "# reading the hotel reservation dataset and identifying the number of missing values\n",
    "hotels = pd.read_csv('Hotel Reservations.csv')\n",
    "print('There are', hotels.isnull().sum().sum(), 'missing values in the hotel reservation dataset.')"
   ]
  },
  {
   "cell_type": "code",
   "execution_count": 9,
   "id": "b33c28ba",
   "metadata": {},
   "outputs": [
    {
     "data": {
      "text/plain": [
       "Booking_ID                               object\n",
       "no_of_adults                              int64\n",
       "no_of_children                            int64\n",
       "no_of_weekend_nights                      int64\n",
       "no_of_week_nights                         int64\n",
       "type_of_meal_plan                        object\n",
       "required_car_parking_space                int64\n",
       "room_type_reserved                       object\n",
       "lead_time                                 int64\n",
       "arrival_year                              int64\n",
       "arrival_month                             int64\n",
       "arrival_date                              int64\n",
       "market_segment_type                      object\n",
       "repeated_guest                            int64\n",
       "no_of_previous_cancellations              int64\n",
       "no_of_previous_bookings_not_canceled      int64\n",
       "avg_price_per_room                      float64\n",
       "no_of_special_requests                    int64\n",
       "booking_status                           object\n",
       "dtype: object"
      ]
     },
     "execution_count": 9,
     "metadata": {},
     "output_type": "execute_result"
    }
   ],
   "source": [
    "hotels.dtypes"
   ]
  },
  {
   "cell_type": "code",
   "execution_count": 10,
   "id": "be6f5d44",
   "metadata": {},
   "outputs": [
    {
     "data": {
      "text/plain": [
       "Meal Plan 1     27835\n",
       "Not Selected     5130\n",
       "Meal Plan 2      3305\n",
       "Meal Plan 3         5\n",
       "Name: type_of_meal_plan, dtype: int64"
      ]
     },
     "execution_count": 10,
     "metadata": {},
     "output_type": "execute_result"
    }
   ],
   "source": [
    "hotels.type_of_meal_plan.value_counts()"
   ]
  },
  {
   "cell_type": "code",
   "execution_count": 12,
   "id": "77e6febb",
   "metadata": {},
   "outputs": [
    {
     "data": {
      "text/plain": [
       "Room_Type 1    28130\n",
       "Room_Type 4     6057\n",
       "Room_Type 6      966\n",
       "Room_Type 2      692\n",
       "Room_Type 5      265\n",
       "Room_Type 7      158\n",
       "Room_Type 3        7\n",
       "Name: room_type_reserved, dtype: int64"
      ]
     },
     "execution_count": 12,
     "metadata": {},
     "output_type": "execute_result"
    }
   ],
   "source": [
    "hotels.room_type_reserved.value_counts()"
   ]
  },
  {
   "cell_type": "code",
   "execution_count": 13,
   "id": "72dee50e",
   "metadata": {},
   "outputs": [
    {
     "data": {
      "text/plain": [
       "Online           23214\n",
       "Offline          10528\n",
       "Corporate         2017\n",
       "Complementary      391\n",
       "Aviation           125\n",
       "Name: market_segment_type, dtype: int64"
      ]
     },
     "execution_count": 13,
     "metadata": {},
     "output_type": "execute_result"
    }
   ],
   "source": [
    "hotels.market_segment_type.value_counts()"
   ]
  },
  {
   "cell_type": "code",
   "execution_count": 20,
   "id": "ac264788",
   "metadata": {},
   "outputs": [
    {
     "data": {
      "text/plain": [
       "0    24390\n",
       "1    11885\n",
       "Name: booking_status, dtype: int64"
      ]
     },
     "execution_count": 20,
     "metadata": {},
     "output_type": "execute_result"
    }
   ],
   "source": [
    "hotels.booking_status.value_counts()"
   ]
  },
  {
   "cell_type": "code",
   "execution_count": 21,
   "id": "36e319ca",
   "metadata": {},
   "outputs": [],
   "source": [
    "# Mapping response to 0 (Not Canceled) and 1 (Canceled) so we can use the information in a logistic regression\n",
    "hotels['booking_status'].replace(['Canceled', 'Not_Canceled'],[1, 0], inplace=True)"
   ]
  },
  {
   "cell_type": "code",
   "execution_count": 22,
   "id": "aa8e3513",
   "metadata": {},
   "outputs": [],
   "source": [
    "# Split train and test datasets (75% of the data is used for training while the other 25% is used for testing)\n",
    "y = hotels.booking_status\n",
    "X = hotels.drop('booking_status', axis = 1)\n",
    "X_train, X_test, y_train, y_test = train_test_split(X, y, test_size=0.25, random_state=0, shuffle=True, stratify=y)\n",
    "train, test = train_test_split(hotels, test_size=0.25, random_state=25, shuffle=True, stratify=y)"
   ]
  },
  {
   "cell_type": "code",
   "execution_count": 23,
   "id": "e82d40af",
   "metadata": {},
   "outputs": [],
   "source": [
    "# Checking for the number of reservations cancelled and not cancelled every month\n",
    "monthly_cancel = hotels.groupby(hotels.arrival_month).booking_status.value_counts()\n",
    "\n",
    "# Creating a dataframe with the number of reservations cancelled and not cancelled for every month\n",
    "monthly_cancel = pd.DataFrame({'Did not cancel': [990, 1274, 1658, 1741, 1650, 1912, 1606, 2325, 3073, 3437, 2105, 2619],\n",
    "                   'Cancelled': [24, 430, 700, 995, 948, 1291, 1314, 1488, 1538, 1880, 875, 402]}, \n",
    "                  index=['Jan', 'Feb', 'Mar', 'Apr', 'May', 'Jun', 'Jul', 'Aug', 'Sept', 'Oct', 'Nov', 'Dec'])"
   ]
  },
  {
   "cell_type": "code",
   "execution_count": 24,
   "id": "eb1df235",
   "metadata": {},
   "outputs": [],
   "source": [
    "# Create a dataframe wiht the percentage of reservations cancelled and not cancelled for every month\n",
    "monthly_cancel_percent = monthly_cancel.copy()\n",
    "monthly_cancel_percent['Total'] = monthly_cancel_percent['Did not cancel'] + monthly_cancel_percent['Cancelled']\n",
    "monthly_cancel_percent['Did not cancel percent'] = monthly_cancel_percent['Did not cancel']/monthly_cancel_percent['Total']\n",
    "monthly_cancel_percent['Cancel percent'] = monthly_cancel_percent['Cancelled']/monthly_cancel_percent['Total']\n",
    "monthly_cancel_percent = monthly_cancel_percent.drop(['Did not cancel', 'Cancelled', 'Total'], axis = 1)"
   ]
  },
  {
   "cell_type": "code",
   "execution_count": null,
   "id": "50d20739",
   "metadata": {},
   "outputs": [],
   "source": []
  },
  {
   "cell_type": "code",
   "execution_count": null,
   "id": "cd70d870",
   "metadata": {},
   "outputs": [],
   "source": []
  },
  {
   "cell_type": "code",
   "execution_count": null,
   "id": "b0cc70cb",
   "metadata": {},
   "outputs": [],
   "source": []
  },
  {
   "cell_type": "markdown",
   "id": "fbb11c9b",
   "metadata": {},
   "source": [
    "## Exploratory data analysis (Hoda, Elena)"
   ]
  },
  {
   "cell_type": "markdown",
   "id": "e4bd74a9",
   "metadata": {},
   "source": [
    "Put the relevant EDA here (visualizations, tables, etc.) that helped you figure out useful predictors for developing the model(s). Only put the EDA that ended up being useful towards developing your final model(s). \n",
    "\n",
    "List the insights (as bullet points) you got from EDA that ended up being useful towards developing your final model. \n",
    "\n",
    "Again, if there are too many plots / tables, you may put them into appendix, and just mention the insights you got from them."
   ]
  },
  {
   "cell_type": "markdown",
   "id": "09431c0a",
   "metadata": {},
   "source": [
    "### Autocorrelation attempts\n",
    "\n",
    "Since logistic regression does not utilize residuals, we cannot really use autocorrelation. However, there might be some correlation between month with the number of cancellation, so we attempted to look into that relationship.\n",
    "\n",
    "First, I want to look at the different months and see number of overall booking as well as the number of cancellation for each month"
   ]
  },
  {
   "cell_type": "code",
   "execution_count": 25,
   "id": "8549c8c6",
   "metadata": {},
   "outputs": [
    {
     "data": {
      "image/png": "[encoded data removed]",
      "text/plain": [
       "<Figure size 640x480 with 1 Axes>"
      ]
     },
     "metadata": {},
     "output_type": "display_data"
    }
   ],
   "source": [
    "monthly_cancel.plot(kind='bar', stacked=True, color=['purple', 'skyblue'])\n",
    "plt.ylabel(\"Reservation Count\")\n",
    "plt.title(\"Reservation based on month\")\n",
    "plt.show()"
   ]
  },
  {
   "cell_type": "code",
   "execution_count": 26,
   "id": "daafe0b0",
   "metadata": {},
   "outputs": [
    {
     "data": {
      "image/png": "[encoded data removed]",
      "text/plain": [
       "<Figure size 640x480 with 1 Axes>"
      ]
     },
     "metadata": {},
     "output_type": "display_data"
    }
   ],
   "source": [
    "monthly_cancel_percent.plot(kind='bar', stacked=True, color=['purple', 'skyblue'])\n",
    "plt.ylabel(\"Percentage\")\n",
    "plt.title('Cancellation percentage based on month')\n",
    "plt.show()"
   ]
  },
  {
   "cell_type": "markdown",
   "id": "516d83d1",
   "metadata": {},
   "source": [
    "All of the months have a relatively similar rate of cancellation with the exception of January and December. July has a slightly higher rate of cancellation, but I don't think that it is too significant. Therefore, we can conclude that generally, even though there is a correlation between the totally number of reservations and the month of the year, there seems to be no correlation between the percentage of cancellation. "
   ]
  },
  {
   "cell_type": "code",
   "execution_count": null,
   "id": "03199b5e",
   "metadata": {},
   "outputs": [],
   "source": []
  },
  {
   "cell_type": "code",
   "execution_count": null,
   "id": "1c0d7933",
   "metadata": {},
   "outputs": [],
   "source": []
  },
  {
   "cell_type": "code",
   "execution_count": null,
   "id": "5682803e",
   "metadata": {},
   "outputs": [],
   "source": []
  },
  {
   "cell_type": "code",
   "execution_count": null,
   "id": "3f0789b3",
   "metadata": {},
   "outputs": [],
   "source": []
  },
  {
   "cell_type": "code",
   "execution_count": null,
   "id": "75d312b6",
   "metadata": {},
   "outputs": [],
   "source": []
  },
  {
   "cell_type": "code",
   "execution_count": null,
   "id": "0d043066",
   "metadata": {},
   "outputs": [],
   "source": []
  },
  {
   "cell_type": "markdown",
   "id": "d39c782c",
   "metadata": {},
   "source": [
    "## Approach (Elena)\n",
    "\n",
    "What kind of a model (linear / logistic / other) did you use? What performance metric(s) did you optimize and why?\n",
    "\n",
    "Is there anything unorthodox / new in your approach? \n",
    "\n",
    "What problems did you anticipate? What problems did you encounter? Did the very first model you tried work? \n",
    "\n",
    "Did your problem already have solution(s) (posted on Kaggle or elsewhere). If yes, then how did you build upon those solutions, what did you do differently? Is your model better as compared to those solutions in terms of prediction / inference?\n",
    "\n",
    "**Important: Mention any code repositories (with citations) or other sources that you used, and specifically what changes you made to them for your project.**"
   ]
  },
  {
   "cell_type": "markdown",
   "id": "1f8c52d7",
   "metadata": {},
   "source": [
    "The models we developed were logistic being as this was a classification problem. Hotel guests either cancelled their hotel bookings (cancelled = 1) or did not cancel (not_cancelled = 0). We wanted to app"
   ]
  },
  {
   "cell_type": "markdown",
   "id": "acab331a",
   "metadata": {},
   "source": [
    "## Developing the model (Hoda, Elena)"
   ]
  },
  {
   "cell_type": "markdown",
   "id": "ae5ec4c9",
   "metadata": {},
   "source": [
    "Explain the steps taken to develop and improve the base model - informative visualizations / addressing modeling assumption violations / variable transformation / interactions / outlier treatment / influential points treatment / addressing over-fitting / addressing multicollinearity / variable selection - stepwise regression, lasso, ridge regression). \n",
    "\n",
    "Did you succeed in achieving your goal, or did you fail? Why?\n",
    "\n",
    "**Put the final model equation**.\n",
    "\n",
    "**Important: This section should be rigorous and thorough. Present detailed information about decision you made, why you made them, and any evidence/experimentation to back them up.**"
   ]
  },
  {
   "cell_type": "code",
   "execution_count": null,
   "id": "407e40cc",
   "metadata": {},
   "outputs": [],
   "source": [
    "We first began the model development process using "
   ]
  },
  {
   "cell_type": "markdown",
   "id": "1b46343d",
   "metadata": {},
   "source": [
    "## Limitations of the model with regard to inference / prediction"
   ]
  },
  {
   "cell_type": "markdown",
   "id": "c85ead90",
   "metadata": {},
   "source": [
    "If it is inference, will the inference hold for a certain period of time, for a certain subset of population, and / or for certain conditions.\n",
    "\n",
    "If it is prediction, then will it be possible / convenient / expensive for the stakeholders to collect the data relating to the predictors in the model. Using your model, how soon will the stakeholder be able to predict the outcome before the outcome occurs. For example, if the model predicts the number of bikes people will rent in Evanston on a certain day, then how many days before that day will your model be able to make the prediction. This will depend on how soon the data that your model uses becomes available. If you are predicting election results, how many days / weeks / months / years before the election can you predict the results. \n",
    "\n",
    "When will your model become too obsolete to be useful?"
   ]
  },
  {
   "cell_type": "markdown",
   "id": "f6026cb7",
   "metadata": {},
   "source": [
    "## Developing Overbooking Formula (Luna + Kiara)\n",
    "\n",
    "You are welcome to introduce additional sections or subsections, if required, to address any specific aspects of your project in detail. For example, you may briefly discuss potential future work that the research community could focus on to make further progress in the direction of your project's topic."
   ]
  },
  {
   "cell_type": "code",
   "execution_count": null,
   "id": "50064c53",
   "metadata": {},
   "outputs": [],
   "source": []
  },
  {
   "cell_type": "code",
   "execution_count": null,
   "id": "3b015499",
   "metadata": {},
   "outputs": [],
   "source": []
  },
  {
   "cell_type": "code",
   "execution_count": null,
   "id": "018beff4",
   "metadata": {},
   "outputs": [],
   "source": []
  },
  {
   "cell_type": "markdown",
   "id": "62a185cb",
   "metadata": {},
   "source": [
    "## Conclusions and Recommendations to stakeholder(s) (Luna + Kiara)\n",
    "\n",
    "What conclusions do you draw based on your model? If it is inference you may draw conclusions based on the coefficients, statistical significance of predictors / interactions, etc. If it is prediction, you may draw conclusions based on prediction accuracy, or other performance metrics.\n",
    "\n",
    "How do you use those conclusions to come up with meaningful recommendations for stakeholders? The recommendations must be action-items for stakeholders that they can directly implement without any further analysis. Be as precise as possible. The stakeholder(s) are depending on you to come up with practically implementable recommendations, instead of having to think for themselves.\n",
    "\n",
    "If your recommendations are not practically implementable by stakeholders, how will they help them? Is there some additional data / analysis / domain expertise you need to do to make the recommendations implementable? \n",
    "\n",
    "Do the stakeholder(s) need to be aware about some limitations of your model? Is your model only good for one-time use, or is it possible to update your model at a certain frequency (based on recent data) to keep using it in the future? If it can be used in the future, then for how far into the future?"
   ]
  },
  {
   "cell_type": "markdown",
   "id": "7db2aa48",
   "metadata": {},
   "source": []
  },
  {
   "cell_type": "code",
   "execution_count": null,
   "id": "326e9719",
   "metadata": {},
   "outputs": [],
   "source": []
  },
  {
   "cell_type": "code",
   "execution_count": null,
   "id": "7e694fd1",
   "metadata": {},
   "outputs": [],
   "source": []
  },
  {
   "cell_type": "markdown",
   "id": "9c44497c",
   "metadata": {},
   "source": [
    "## GitHub and individual contribution {-}"
   ]
  },
  {
   "cell_type": "markdown",
   "id": "c98b3f66",
   "metadata": {},
   "source": [
    "**Github link**: https://github.com/LinhNgaNguyen/STAT303-2-Project"
   ]
  },
  {
   "cell_type": "markdown",
   "id": "0ca45613",
   "metadata": {},
   "source": [
    "Add details of each team member's contribution in the table below."
   ]
  },
  {
   "cell_type": "markdown",
   "id": "5505da5c",
   "metadata": {},
   "source": [
    "<html>\n",
    "<style>\n",
    "table, td, th {\n",
    "  border: 1px solid black;\n",
    "}\n",
    "\n",
    "table {\n",
    "  border-collapse: collapse;\n",
    "  width: 100%;\n",
    "}\n",
    "\n",
    "th {\n",
    "  text-align: left;\n",
    "}\n",
    "    \n",
    "\n",
    "</style>\n",
    "<body>\n",
    "\n",
    "<h2>Individual contribution</h2>\n",
    "\n",
    "<table style=\"width:100%\">\n",
    "     <colgroup>\n",
    "       <col span=\"1\" style=\"width: 15%;\">\n",
    "       <col span=\"1\" style=\"width: 20%;\">\n",
    "       <col span=\"1\" style=\"width: 50%;\">\n",
    "       <col span=\"1\" style=\"width: 15%;\"> \n",
    "    </colgroup>\n",
    "  <tr>\n",
    "    <th>Team member</th>\n",
    "    <th>Contributed aspects</th>\n",
    "    <th>Details</th>\n",
    "    <th>Number of GitHub commits</th>\n",
    "  </tr>\n",
    "  <tr>\n",
    "    <td>Hoda Fakhari</td>\n",
    "    <td>Data cleaning and EDA</td>\n",
    "    <td>Cleaned data to impute missing values and developed visualizations to identify appropriate variable transformations.</td>\n",
    "    <td>100</td>\n",
    "  </tr>\n",
    "  <tr>\n",
    "    <td>Elena Llaguno Cantu</td>\n",
    "    <td>Assumptions and interactions</td>\n",
    "    <td>Checked and addressed modeling assumptions and identified relevant variable interactions.</td>\n",
    "    <td>120</td>\n",
    "  </tr>\n",
    "    <tr>\n",
    "    <td>Luna Nguyen</td>\n",
    "    <td>Outlier and influential points treatment</td>\n",
    "    <td>Identified outliers/influential points and analayzed their effect on the model.</td>\n",
    "    <td>130</td>    \n",
    "  </tr>\n",
    "    <tr>\n",
    "    <td>Kiara Villalobos-Hernandez</td>\n",
    "    <td>Variable selection and addressing overfitting</td>\n",
    "    <td>Performed variable selection on an exhaustive set of predictors to address multicollinearity and overfitting.</td>\n",
    "    <td>150</td>    \n",
    "  </tr>\n",
    "</table>"
   ]
  },
  {
   "cell_type": "markdown",
   "id": "192bbd23",
   "metadata": {},
   "source": [
    "List the **challenges** you faced when collaborating with the team on GitHub. Are you comfortable using GitHub? \n",
    "Do you feel GitHuB made collaboration easier? If not, then why? *(Individual team members can put their opinion separately, if different from the rest of the team)*"
   ]
  },
  {
   "cell_type": "markdown",
   "id": "00b1cafe",
   "metadata": {},
   "source": [
    "## References {-}"
   ]
  },
  {
   "cell_type": "markdown",
   "id": "ebdb1aad",
   "metadata": {},
   "source": [
    "\n",
    "[1] TKHARITONISHVILI. LG_Reg, XGB, KNN, D_Tree--max Accuracy = 0.88, 2023. Kaggle Notebook. Supplied as additional material.\n",
    "\n",
    "[2] AHSAN RAZA. Hotel Reservations Dataset. Kaggle Dataset. Supplied as additional material.\n",
    "\n"
   ]
  },
  {
   "cell_type": "markdown",
   "id": "5831751c",
   "metadata": {},
   "source": [
    "## Appendix {-}"
   ]
  },
  {
   "cell_type": "markdown",
   "id": "d13d374d",
   "metadata": {},
   "source": [
    "You may put additional stuff here as Appendix. You may refer to the Appendix in the main report to support your arguments. However, the appendix section is unlikely to be checked while grading, unless the grader deems it necessary."
   ]
  }
 ],
 "metadata": {
  "kernelspec": {
   "display_name": "Python 3 (ipykernel)",
   "language": "python",
   "name": "python3"
  },
  "language_info": {
   "codemirror_mode": {
    "name": "ipython",
    "version": 3
   },
   "file_extension": ".py",
   "mimetype": "text/x-python",
   "name": "python",
   "nbconvert_exporter": "python",
   "pygments_lexer": "ipython3",
   "version": "3.9.12"
  },
  "toc": {
   "base_numbering": 1,
   "nav_menu": {},
   "number_sections": true,
   "sideBar": true,
   "skip_h1_title": false,
   "title_cell": "Table of Contents",
   "title_sidebar": "Contents",
   "toc_cell": false,
   "toc_position": {},
   "toc_section_display": true,
   "toc_window_display": false
  },
  "varInspector": {
   "cols": {
    "lenName": 16,
    "lenType": 16,
    "lenVar": 40
   },
   "kernels_config": {
    "python": {
     "delete_cmd_postfix": "",
     "delete_cmd_prefix": "del ",
     "library": "var_list.py",
     "varRefreshCmd": "print(var_dic_list())"
    },
    "r": {
     "delete_cmd_postfix": ") ",
     "delete_cmd_prefix": "rm(",
     "library": "var_list.r",
     "varRefreshCmd": "cat(var_dic_list()) "
    }
   },
   "types_to_exclude": [
    "module",
    "function",
    "builtin_function_or_method",
    "instance",
    "_Feature"
   ],
   "window_display": false
  }
 },
 "nbformat": 4,
 "nbformat_minor": 5
}
