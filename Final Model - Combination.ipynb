{
 "cells": [
  {
   "cell_type": "markdown",
   "id": "afddfa1f",
   "metadata": {},
   "source": [
    "# FINAL MODEL FUNCTION"
   ]
  },
  {
   "cell_type": "code",
   "execution_count": 25,
   "id": "b86dd7d6",
   "metadata": {},
   "outputs": [],
   "source": [
    "import pandas as pd\n",
    "import numpy as np\n",
    "import seaborn as sns\n",
    "import matplotlib.pyplot as plt\n",
    "import statsmodels.formula.api as sm\n",
    "from sklearn.model_selection import train_test_split"
   ]
  },
  {
   "cell_type": "code",
   "execution_count": 26,
   "id": "dc7ecd94",
   "metadata": {},
   "outputs": [],
   "source": [
    "# Reading Files\n",
    "train = pd.read_csv('Hotel Reservations.csv')\n",
    "train, test = train_test_split(train, test_size=0.25, random_state=25, shuffle=True)"
   ]
  },
  {
   "cell_type": "code",
   "execution_count": 27,
   "id": "ac061e4b",
   "metadata": {},
   "outputs": [],
   "source": [
    "train['booking_status'] = train['booking_status'].map({'Canceled': 1, 'Not_Canceled': 0})\n",
    "test['booking_status'] = test['booking_status'].map({'Canceled': 1, 'Not_Canceled': 0})"
   ]
  },
  {
   "cell_type": "code",
   "execution_count": 28,
   "id": "071535f1",
   "metadata": {},
   "outputs": [
    {
     "name": "stdout",
     "output_type": "stream",
     "text": [
      "Warning: Maximum number of iterations has been exceeded.\n",
      "         Current function value: 0.422758\n",
      "         Iterations: 35\n"
     ]
    },
    {
     "name": "stderr",
     "output_type": "stream",
     "text": [
      "/Users/elenallaguno/opt/anaconda3/lib/python3.9/site-packages/statsmodels/base/model.py:604: ConvergenceWarning: Maximum Likelihood optimization failed to converge. Check mle_retvals\n",
      "  warnings.warn(\"Maximum Likelihood optimization failed to \"\n"
     ]
    }
   ],
   "source": [
    "# Model 1) Baseline Model\n",
    "logit_model = sm.logit(formula = 'booking_status ~ no_of_adults + no_of_children  + no_of_weekend_nights + no_of_week_nights + type_of_meal_plan + required_car_parking_space + room_type_reserved +lead_time  + market_segment_type +repeated_guest + no_of_previous_cancellations + avg_price_per_room  + no_of_special_requests', data = train).fit()\n",
    "\n",
    "#Predict the values using the Logit model\n",
    "pred_values_1 = logit_model.predict(test)"
   ]
  },
  {
   "cell_type": "code",
   "execution_count": null,
   "id": "de2ebfac",
   "metadata": {},
   "outputs": [],
   "source": [
    "# Model 2) \n",
    "\n",
    "\n"
   ]
  },
  {
   "cell_type": "code",
   "execution_count": null,
   "id": "251173d9",
   "metadata": {},
   "outputs": [],
   "source": [
    "# Model 3) \n",
    "\n"
   ]
  },
  {
   "cell_type": "code",
   "execution_count": null,
   "id": "a8833e44",
   "metadata": {},
   "outputs": [],
   "source": [
    "# Model 4) \n",
    "\n",
    "\n"
   ]
  },
  {
   "cell_type": "code",
   "execution_count": null,
   "id": "3a454272",
   "metadata": {},
   "outputs": [],
   "source": [
    "# Model 5) \n",
    "\n",
    "\n"
   ]
  },
  {
   "cell_type": "code",
   "execution_count": 29,
   "id": "9ac8f7f4",
   "metadata": {},
   "outputs": [],
   "source": [
    "df = pd.DataFrame()\n",
    "df['Model_1'] = pred_values_1\n",
    "df['Model_2'] = pred_values_1\n",
    "df['Model_3'] = pred_values_1\n",
    "df['Model_4'] = pred_values_1\n",
    "df['Model_5'] = pred_values_1"
   ]
  },
  {
   "cell_type": "code",
   "execution_count": 31,
   "id": "eafabbad",
   "metadata": {},
   "outputs": [],
   "source": [
    "def applying_cutoff(df): \n",
    "    for col in df.columns:\n",
    "        for index, value in df[col].iteritems():\n",
    "            if value < 0.5:\n",
    "                df.at[index, col] = 0\n",
    "            else:\n",
    "                df.at[index, col] = 1  \n",
    "            \n",
    "    return df"
   ]
  },
  {
   "cell_type": "code",
   "execution_count": 33,
   "id": "47a9481e",
   "metadata": {},
   "outputs": [
    {
     "data": {
      "text/html": [
       "<div>\n",
       "<style scoped>\n",
       "    .dataframe tbody tr th:only-of-type {\n",
       "        vertical-align: middle;\n",
       "    }\n",
       "\n",
       "    .dataframe tbody tr th {\n",
       "        vertical-align: top;\n",
       "    }\n",
       "\n",
       "    .dataframe thead th {\n",
       "        text-align: right;\n",
       "    }\n",
       "</style>\n",
       "<table border=\"1\" class=\"dataframe\">\n",
       "  <thead>\n",
       "    <tr style=\"text-align: right;\">\n",
       "      <th></th>\n",
       "      <th>Model_1</th>\n",
       "      <th>Model_2</th>\n",
       "      <th>Model_3</th>\n",
       "      <th>Model_4</th>\n",
       "      <th>Model_5</th>\n",
       "    </tr>\n",
       "  </thead>\n",
       "  <tbody>\n",
       "    <tr>\n",
       "      <th>28112</th>\n",
       "      <td>1.0</td>\n",
       "      <td>1.0</td>\n",
       "      <td>1.0</td>\n",
       "      <td>1.0</td>\n",
       "      <td>1.0</td>\n",
       "    </tr>\n",
       "    <tr>\n",
       "      <th>6482</th>\n",
       "      <td>0.0</td>\n",
       "      <td>0.0</td>\n",
       "      <td>0.0</td>\n",
       "      <td>0.0</td>\n",
       "      <td>0.0</td>\n",
       "    </tr>\n",
       "    <tr>\n",
       "      <th>12183</th>\n",
       "      <td>0.0</td>\n",
       "      <td>0.0</td>\n",
       "      <td>0.0</td>\n",
       "      <td>0.0</td>\n",
       "      <td>0.0</td>\n",
       "    </tr>\n",
       "    <tr>\n",
       "      <th>34739</th>\n",
       "      <td>0.0</td>\n",
       "      <td>0.0</td>\n",
       "      <td>0.0</td>\n",
       "      <td>0.0</td>\n",
       "      <td>0.0</td>\n",
       "    </tr>\n",
       "    <tr>\n",
       "      <th>2375</th>\n",
       "      <td>1.0</td>\n",
       "      <td>1.0</td>\n",
       "      <td>1.0</td>\n",
       "      <td>1.0</td>\n",
       "      <td>1.0</td>\n",
       "    </tr>\n",
       "    <tr>\n",
       "      <th>...</th>\n",
       "      <td>...</td>\n",
       "      <td>...</td>\n",
       "      <td>...</td>\n",
       "      <td>...</td>\n",
       "      <td>...</td>\n",
       "    </tr>\n",
       "    <tr>\n",
       "      <th>28804</th>\n",
       "      <td>0.0</td>\n",
       "      <td>0.0</td>\n",
       "      <td>0.0</td>\n",
       "      <td>0.0</td>\n",
       "      <td>0.0</td>\n",
       "    </tr>\n",
       "    <tr>\n",
       "      <th>9727</th>\n",
       "      <td>0.0</td>\n",
       "      <td>0.0</td>\n",
       "      <td>0.0</td>\n",
       "      <td>0.0</td>\n",
       "      <td>0.0</td>\n",
       "    </tr>\n",
       "    <tr>\n",
       "      <th>36076</th>\n",
       "      <td>1.0</td>\n",
       "      <td>1.0</td>\n",
       "      <td>1.0</td>\n",
       "      <td>1.0</td>\n",
       "      <td>1.0</td>\n",
       "    </tr>\n",
       "    <tr>\n",
       "      <th>25340</th>\n",
       "      <td>0.0</td>\n",
       "      <td>0.0</td>\n",
       "      <td>0.0</td>\n",
       "      <td>0.0</td>\n",
       "      <td>0.0</td>\n",
       "    </tr>\n",
       "    <tr>\n",
       "      <th>34948</th>\n",
       "      <td>0.0</td>\n",
       "      <td>0.0</td>\n",
       "      <td>0.0</td>\n",
       "      <td>0.0</td>\n",
       "      <td>0.0</td>\n",
       "    </tr>\n",
       "  </tbody>\n",
       "</table>\n",
       "<p>9069 rows × 5 columns</p>\n",
       "</div>"
      ],
      "text/plain": [
       "       Model_1  Model_2  Model_3  Model_4  Model_5\n",
       "28112      1.0      1.0      1.0      1.0      1.0\n",
       "6482       0.0      0.0      0.0      0.0      0.0\n",
       "12183      0.0      0.0      0.0      0.0      0.0\n",
       "34739      0.0      0.0      0.0      0.0      0.0\n",
       "2375       1.0      1.0      1.0      1.0      1.0\n",
       "...        ...      ...      ...      ...      ...\n",
       "28804      0.0      0.0      0.0      0.0      0.0\n",
       "9727       0.0      0.0      0.0      0.0      0.0\n",
       "36076      1.0      1.0      1.0      1.0      1.0\n",
       "25340      0.0      0.0      0.0      0.0      0.0\n",
       "34948      0.0      0.0      0.0      0.0      0.0\n",
       "\n",
       "[9069 rows x 5 columns]"
      ]
     },
     "execution_count": 33,
     "metadata": {},
     "output_type": "execute_result"
    }
   ],
   "source": [
    "df = applying_cutoff(df)\n",
    "df"
   ]
  },
  {
   "cell_type": "code",
   "execution_count": 34,
   "id": "f8937a3c",
   "metadata": {},
   "outputs": [],
   "source": [
    "# averaging the model results function\n",
    "def combining_results(df): \n",
    "    df['sum'] = df.sum(axis=1)\n",
    "\n",
    "    for index, row in df.iterrows():\n",
    "        if row['sum'] >= 3:\n",
    "            df.at[index, 'sum'] = 1\n",
    "        else:\n",
    "            df.at[index, 'sum'] = 0\n",
    "        \n",
    "    pred_values = df['sum']\n",
    "    \n",
    "    return pred_values"
   ]
  },
  {
   "cell_type": "code",
   "execution_count": 35,
   "id": "74b7378a",
   "metadata": {},
   "outputs": [
    {
     "data": {
      "text/plain": [
       "28112    1.0\n",
       "6482     0.0\n",
       "12183    0.0\n",
       "34739    0.0\n",
       "2375     1.0\n",
       "        ... \n",
       "28804    0.0\n",
       "9727     0.0\n",
       "36076    1.0\n",
       "25340    0.0\n",
       "34948    0.0\n",
       "Name: sum, Length: 9069, dtype: float64"
      ]
     },
     "execution_count": 35,
     "metadata": {},
     "output_type": "execute_result"
    }
   ],
   "source": [
    "final_values = combining_results(df)\n",
    "final_values"
   ]
  },
  {
   "cell_type": "code",
   "execution_count": 36,
   "id": "a0c93a35",
   "metadata": {},
   "outputs": [],
   "source": [
    "# Modified confusion matrix function\n",
    "\n",
    "from sklearn.metrics import roc_curve, auc\n",
    "\n",
    "def confusion_matrix_data_modified(pred_values,actual_values,cutoff=0.5):\n",
    "# Specify the bins\n",
    "    bins=np.array([0,cutoff,1])\n",
    "#Confusion matrix\n",
    "    cm = np.histogram2d(actual_values, pred_values, bins=bins)[0]\n",
    "    cm_df = pd.DataFrame(cm)\n",
    "    cm_df.columns = ['Predicted 0','Predicted 1']\n",
    "    cm_df = cm_df.rename(index={0: 'Actual 0',1:'Actual 1'})\n",
    "# Calculate the accuracy\n",
    "    accuracy = (cm[0,0]+cm[1,1])/cm.sum()\n",
    "    fnr = (cm[1,0])/(cm[1,0]+cm[1,1])\n",
    "    precision = (cm[1,1])/(cm[0,1]+cm[1,1])\n",
    "    fpr = (cm[0,1])/(cm[0,0]+cm[0,1])\n",
    "    tpr = (cm[1,1])/(cm[1,0]+cm[1,1])\n",
    "    fpr_roc, tpr_roc, auc_thresholds = roc_curve(actual_values, pred_values)\n",
    "    auc_value = (auc(fpr_roc, tpr_roc))# AUC of ROC\n",
    "    sns.heatmap(cm_df, annot=True, cmap='Blues', fmt='g')\n",
    "    plt.ylabel(\"Actual Values\")\n",
    "    plt.xlabel(\"Predicted Values\")\n",
    "    print(\"Classification accuracy = {:.1%}\".format(accuracy))\n",
    "    print(\"Precision = {:.1%}\".format(precision))\n",
    "    print(\"TPR or Recall = {:.1%}\".format(tpr))\n",
    "    print(\"FNR = {:.1%}\".format(fnr))\n",
    "    print(\"FPR = {:.1%}\".format(fpr))\n",
    "    print(\"ROC-AUC = {:.1%}\".format(auc_value))"
   ]
  },
  {
   "cell_type": "code",
   "execution_count": 37,
   "id": "8585ccd7",
   "metadata": {},
   "outputs": [
    {
     "name": "stdout",
     "output_type": "stream",
     "text": [
      "Classification accuracy = 79.5%\n",
      "Precision = 74.0%\n",
      "TPR or Recall = 59.2%\n",
      "FNR = 40.8%\n",
      "FPR = 10.4%\n",
      "ROC-AUC = 74.4%\n"
     ]
    },
    {
     "data": {
      "image/png": "[encoded data removed]",
      "text/plain": [
       "<Figure size 432x288 with 2 Axes>"
      ]
     },
     "metadata": {
      "needs_background": "light"
     },
     "output_type": "display_data"
    }
   ],
   "source": [
    "# Calling the function\n",
    "confusion_matrix_data_modified(final_values,test.booking_status,0.45)"
   ]
  },
  {
   "cell_type": "code",
   "execution_count": null,
   "id": "4b3ac95f",
   "metadata": {},
   "outputs": [],
   "source": []
  }
 ],
 "metadata": {
  "kernelspec": {
   "display_name": "Python 3 (ipykernel)",
   "language": "python",
   "name": "python3"
  },
  "language_info": {
   "codemirror_mode": {
    "name": "ipython",
    "version": 3
   },
   "file_extension": ".py",
   "mimetype": "text/x-python",
   "name": "python",
   "nbconvert_exporter": "python",
   "pygments_lexer": "ipython3",
   "version": "3.9.12"
  }
 },
 "nbformat": 4,
 "nbformat_minor": 5
}
